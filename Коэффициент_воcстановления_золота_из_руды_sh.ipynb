{
  "nbformat": 4,
  "nbformat_minor": 0,
  "metadata": {
    "kernelspec": {
      "display_name": "Python 3",
      "language": "python",
      "name": "python3"
    },
    "language_info": {
      "codemirror_mode": {
        "name": "ipython",
        "version": 3
      },
      "file_extension": ".py",
      "mimetype": "text/x-python",
      "name": "python",
      "nbconvert_exporter": "python",
      "pygments_lexer": "ipython3",
      "version": "3.8.5"
    },
    "colab": {
      "name": "Коэффициент воcстановления золота из руды sh.ipynb",
      "provenance": [],
      "collapsed_sections": [
        "ryoHis1MCkXA",
        "8ZxqZmJECkXB",
        "TD_5qp1XCkXH",
        "jZHURpMsCkXO",
        "nReMyEhZCkXP",
        "hCzMwPHJCkXP",
        "GpUV9I9uCkXf"
      ],
      "include_colab_link": true
    }
  },
  "cells": [
    {
      "cell_type": "markdown",
      "metadata": {
        "id": "view-in-github",
        "colab_type": "text"
      },
      "source": [
        "<a href=\"https://colab.research.google.com/github/AxelVas/Predict_the_recovery_rate_of_gold_from_gold_ore/blob/main/%D0%9A%D0%BE%D1%8D%D1%84%D1%84%D0%B8%D1%86%D0%B8%D0%B5%D0%BD%D1%82_%D0%B2%D0%BEc%D1%81%D1%82%D0%B0%D0%BD%D0%BE%D0%B2%D0%BB%D0%B5%D0%BD%D0%B8%D1%8F_%D0%B7%D0%BE%D0%BB%D0%BE%D1%82%D0%B0_%D0%B8%D0%B7_%D1%80%D1%83%D0%B4%D1%8B_sh.ipynb\" target=\"_parent\"><img src=\"https://colab.research.google.com/assets/colab-badge.svg\" alt=\"Open In Colab\"/></a>"
      ]
    },
    {
      "cell_type": "markdown",
      "metadata": {
        "id": "vFIso-xtCkWl"
      },
      "source": [
        "# Описание проекта\n",
        "\n",
        "Подготовьте прототип модели машинного обучения для «Цифры». Компания разрабатывает решения для эффективной работы промышленных предприятий.\n",
        "\n",
        "Модель должна предсказать коэффициент восстановления золота из золотосодержащей руды. В вашем распоряжении данные с параметрами добычи и очистки. \n",
        "\n",
        "Модель поможет оптимизировать производство, чтобы не запускать предприятие с убыточными характеристиками.\n",
        "\n",
        "Вам нужно:\n",
        "\n",
        "1. Подготовить данные;\n",
        "2. Провести исследовательский анализ данных;\n",
        "3. Построить и обучить модель.\n",
        "\n",
        "Чтобы выполнить проект, обращайтесь к библиотекам *pandas*, *matplotlib* и *sklearn.*\n",
        "\n",
        "---\n",
        "# Содержание проекта\n",
        "<a id='start'></a>\n",
        "\n",
        "## 1. Подготовка данных\n",
        "   * <a href='#step_1'> Откроем файлы и изучим их</a>\n",
        "           * Путь к файлам:\n",
        "                /datasets/gold_recovery_train.csv\n",
        "                /datasets/gold_recovery_test.csv\n",
        "                /datasets/gold_recovery_full.csv\n",
        "   * <a href='#step_1.1'> Проверим, что эффективность обогащения рассчитана правильно. Вычислим её на обучающей выборке для признака `rougher.output.recovery` </a>\n",
        "   * <a href='#step_1.2'> Найдиём MAE между вашими расчётами и значением признака</a>\n",
        "       * <a href='#step_1.2.1'> Опишем выводы</a>   \n",
        "   * <a href='#step_1.3'> Проанализируем признаки, недоступные в тестовой выборке. Что это за параметры? К какому типу относятся?</a>\n",
        "   * <a href='#step_1.4'> Проведём предобработку данных</a>\n",
        "   \n",
        "   * <a href='#step_1.end'> Вывод </a>\n",
        "\n",
        "## 2. Анализ данных\n",
        "   *<a href='#step_2'> Посмотрим, как меняется концентрация металлов (Au, Ag, Pb) на различных этапах очистки. Опишем выводы </a>\n",
        "   * <a href='#step_2.1'>  Сравним распределения размеров гранул сырья на обучающей и тестовой выборках. Если распределения сильно отличаются друг от друга, оценка модели будет неправильной</a>\n",
        "   * <a href='#step_2.2'> Исследуем суммарную концентрацию всех веществ на разных стадиях:</a>\n",
        "       * <a href='#step_2.2.1'>- в сырье</a>\n",
        "       * <a href='#step_2.2.2'>- в черновом</a>\n",
        "       * <a href='#step_2.2.3'>- в финальных концентратах</a><br>\n",
        "     \n",
        "   * <a href='#step_2.2.end'> Опишием выводы и удалим аномалии</a>             \n",
        "   * <a href='#step_2.end'> Вывод </a>\n",
        "   \n",
        "## 3. Построим модель\n",
        "   * <a href='#step_3'> Отделим целевые выборки от тренировочных и тестовых данных и присвоим им свои переменные для дальнейшего обучения </a>\n",
        "   * <a href='#step_3.1.k'>Создадим константную модель и проверим значение sMAPE на её данных</a>\n",
        "   \n",
        "   * <a href='#step_3.1'>Обучим разные модели и оценим их качество кросс-валидацией</a>\n",
        "   * <a href='#step_3.2'>Выберем лучшую модель и проверим её на тестовой выборке</a>\n",
        "       \n",
        "   * <a href='#step_3.end'> Вывод </a>\n",
        "   \n",
        "## 4. Вывод\n",
        "   * <a href='#step_4.end'> Вывод </a>\n",
        "   ---"
      ]
    },
    {
      "cell_type": "markdown",
      "metadata": {
        "id": "kPfdSJYyCkWs"
      },
      "source": [
        "# Загружаем библиотеки"
      ]
    },
    {
      "cell_type": "code",
      "metadata": {
        "id": "rmYp9lDpCkWs"
      },
      "source": [
        "import pandas as pd\n",
        "from sklearn.model_selection import train_test_split\n",
        "from sklearn.linear_model import LinearRegression\n",
        "from sklearn.preprocessing import StandardScaler\n",
        "from sklearn.metrics import accuracy_score\n",
        "import numpy as np\n",
        "from sklearn.dummy import DummyRegressor\n",
        "from sklearn.model_selection import cross_val_score\n",
        "from sklearn.metrics import make_scorer\n",
        "from sklearn.tree import DecisionTreeRegressor\n",
        "from sklearn.ensemble import RandomForestRegressor\n",
        "import warnings\n",
        "warnings.filterwarnings('ignore')\n",
        "from tqdm.notebook import tqdm\n",
        "import matplotlib.pyplot as plt\n",
        "import seaborn as sns\n",
        "from sklearn.metrics import f1_score\n",
        "from sklearn.model_selection import GridSearchCV"
      ],
      "execution_count": null,
      "outputs": []
    },
    {
      "cell_type": "markdown",
      "metadata": {
        "id": "nE1lxiKxCkWt"
      },
      "source": [
        "<a id=\"step_1\"></a>\n",
        "# 1. Подготовка данных"
      ]
    },
    {
      "cell_type": "markdown",
      "metadata": {
        "id": "9Tb4jRGfCkWu"
      },
      "source": [
        "##  Откроем файлы и изучим их"
      ]
    },
    {
      "cell_type": "code",
      "metadata": {
        "id": "AqvlKp3uCkWu"
      },
      "source": [
        "data_train = pd.read_csv('gold_recovery_train.csv')\n",
        "data_test = pd.read_csv('gold_recovery_test.csv')\n",
        "data_full = pd.read_csv('gold_recovery_full.csv')"
      ],
      "execution_count": null,
      "outputs": []
    },
    {
      "cell_type": "code",
      "metadata": {
        "id": "X16Q2TMYCkWu"
      },
      "source": [
        "pd.set_option('display.max_columns', None)"
      ],
      "execution_count": null,
      "outputs": []
    },
    {
      "cell_type": "markdown",
      "metadata": {
        "id": "LU2zDZhqCkWu"
      },
      "source": [
        "### data_train"
      ]
    },
    {
      "cell_type": "code",
      "metadata": {
        "scrolled": true,
        "id": "CDbi9AZtCkWv",
        "outputId": "63b442a8-1c12-4b33-e06d-bd86c3e762e0"
      },
      "source": [
        "data_train.head()"
      ],
      "execution_count": null,
      "outputs": [
        {
          "output_type": "execute_result",
          "data": {
            "text/html": [
              "<div>\n",
              "<style scoped>\n",
              "    .dataframe tbody tr th:only-of-type {\n",
              "        vertical-align: middle;\n",
              "    }\n",
              "\n",
              "    .dataframe tbody tr th {\n",
              "        vertical-align: top;\n",
              "    }\n",
              "\n",
              "    .dataframe thead th {\n",
              "        text-align: right;\n",
              "    }\n",
              "</style>\n",
              "<table border=\"1\" class=\"dataframe\">\n",
              "  <thead>\n",
              "    <tr style=\"text-align: right;\">\n",
              "      <th></th>\n",
              "      <th>date</th>\n",
              "      <th>final.output.concentrate_ag</th>\n",
              "      <th>final.output.concentrate_pb</th>\n",
              "      <th>final.output.concentrate_sol</th>\n",
              "      <th>final.output.concentrate_au</th>\n",
              "      <th>final.output.recovery</th>\n",
              "      <th>final.output.tail_ag</th>\n",
              "      <th>final.output.tail_pb</th>\n",
              "      <th>final.output.tail_sol</th>\n",
              "      <th>final.output.tail_au</th>\n",
              "      <th>primary_cleaner.input.sulfate</th>\n",
              "      <th>primary_cleaner.input.depressant</th>\n",
              "      <th>primary_cleaner.input.feed_size</th>\n",
              "      <th>primary_cleaner.input.xanthate</th>\n",
              "      <th>primary_cleaner.output.concentrate_ag</th>\n",
              "      <th>primary_cleaner.output.concentrate_pb</th>\n",
              "      <th>primary_cleaner.output.concentrate_sol</th>\n",
              "      <th>primary_cleaner.output.concentrate_au</th>\n",
              "      <th>primary_cleaner.output.tail_ag</th>\n",
              "      <th>primary_cleaner.output.tail_pb</th>\n",
              "      <th>primary_cleaner.output.tail_sol</th>\n",
              "      <th>primary_cleaner.output.tail_au</th>\n",
              "      <th>primary_cleaner.state.floatbank8_a_air</th>\n",
              "      <th>primary_cleaner.state.floatbank8_a_level</th>\n",
              "      <th>primary_cleaner.state.floatbank8_b_air</th>\n",
              "      <th>primary_cleaner.state.floatbank8_b_level</th>\n",
              "      <th>primary_cleaner.state.floatbank8_c_air</th>\n",
              "      <th>primary_cleaner.state.floatbank8_c_level</th>\n",
              "      <th>primary_cleaner.state.floatbank8_d_air</th>\n",
              "      <th>primary_cleaner.state.floatbank8_d_level</th>\n",
              "      <th>rougher.calculation.sulfate_to_au_concentrate</th>\n",
              "      <th>rougher.calculation.floatbank10_sulfate_to_au_feed</th>\n",
              "      <th>rougher.calculation.floatbank11_sulfate_to_au_feed</th>\n",
              "      <th>rougher.calculation.au_pb_ratio</th>\n",
              "      <th>rougher.input.feed_ag</th>\n",
              "      <th>rougher.input.feed_pb</th>\n",
              "      <th>rougher.input.feed_rate</th>\n",
              "      <th>rougher.input.feed_size</th>\n",
              "      <th>rougher.input.feed_sol</th>\n",
              "      <th>rougher.input.feed_au</th>\n",
              "      <th>rougher.input.floatbank10_sulfate</th>\n",
              "      <th>rougher.input.floatbank10_xanthate</th>\n",
              "      <th>rougher.input.floatbank11_sulfate</th>\n",
              "      <th>rougher.input.floatbank11_xanthate</th>\n",
              "      <th>rougher.output.concentrate_ag</th>\n",
              "      <th>rougher.output.concentrate_pb</th>\n",
              "      <th>rougher.output.concentrate_sol</th>\n",
              "      <th>rougher.output.concentrate_au</th>\n",
              "      <th>rougher.output.recovery</th>\n",
              "      <th>rougher.output.tail_ag</th>\n",
              "      <th>rougher.output.tail_pb</th>\n",
              "      <th>rougher.output.tail_sol</th>\n",
              "      <th>rougher.output.tail_au</th>\n",
              "      <th>rougher.state.floatbank10_a_air</th>\n",
              "      <th>rougher.state.floatbank10_a_level</th>\n",
              "      <th>rougher.state.floatbank10_b_air</th>\n",
              "      <th>rougher.state.floatbank10_b_level</th>\n",
              "      <th>rougher.state.floatbank10_c_air</th>\n",
              "      <th>rougher.state.floatbank10_c_level</th>\n",
              "      <th>rougher.state.floatbank10_d_air</th>\n",
              "      <th>rougher.state.floatbank10_d_level</th>\n",
              "      <th>rougher.state.floatbank10_e_air</th>\n",
              "      <th>rougher.state.floatbank10_e_level</th>\n",
              "      <th>rougher.state.floatbank10_f_air</th>\n",
              "      <th>rougher.state.floatbank10_f_level</th>\n",
              "      <th>secondary_cleaner.output.tail_ag</th>\n",
              "      <th>secondary_cleaner.output.tail_pb</th>\n",
              "      <th>secondary_cleaner.output.tail_sol</th>\n",
              "      <th>secondary_cleaner.output.tail_au</th>\n",
              "      <th>secondary_cleaner.state.floatbank2_a_air</th>\n",
              "      <th>secondary_cleaner.state.floatbank2_a_level</th>\n",
              "      <th>secondary_cleaner.state.floatbank2_b_air</th>\n",
              "      <th>secondary_cleaner.state.floatbank2_b_level</th>\n",
              "      <th>secondary_cleaner.state.floatbank3_a_air</th>\n",
              "      <th>secondary_cleaner.state.floatbank3_a_level</th>\n",
              "      <th>secondary_cleaner.state.floatbank3_b_air</th>\n",
              "      <th>secondary_cleaner.state.floatbank3_b_level</th>\n",
              "      <th>secondary_cleaner.state.floatbank4_a_air</th>\n",
              "      <th>secondary_cleaner.state.floatbank4_a_level</th>\n",
              "      <th>secondary_cleaner.state.floatbank4_b_air</th>\n",
              "      <th>secondary_cleaner.state.floatbank4_b_level</th>\n",
              "      <th>secondary_cleaner.state.floatbank5_a_air</th>\n",
              "      <th>secondary_cleaner.state.floatbank5_a_level</th>\n",
              "      <th>secondary_cleaner.state.floatbank5_b_air</th>\n",
              "      <th>secondary_cleaner.state.floatbank5_b_level</th>\n",
              "      <th>secondary_cleaner.state.floatbank6_a_air</th>\n",
              "      <th>secondary_cleaner.state.floatbank6_a_level</th>\n",
              "    </tr>\n",
              "  </thead>\n",
              "  <tbody>\n",
              "    <tr>\n",
              "      <th>0</th>\n",
              "      <td>2016-01-15 00:00:00</td>\n",
              "      <td>6.055403</td>\n",
              "      <td>9.889648</td>\n",
              "      <td>5.507324</td>\n",
              "      <td>42.192020</td>\n",
              "      <td>70.541216</td>\n",
              "      <td>10.411962</td>\n",
              "      <td>0.895447</td>\n",
              "      <td>16.904297</td>\n",
              "      <td>2.143149</td>\n",
              "      <td>127.092003</td>\n",
              "      <td>10.128295</td>\n",
              "      <td>7.25</td>\n",
              "      <td>0.988759</td>\n",
              "      <td>8.547551</td>\n",
              "      <td>10.389648</td>\n",
              "      <td>19.529297</td>\n",
              "      <td>34.174427</td>\n",
              "      <td>14.936526</td>\n",
              "      <td>2.534912</td>\n",
              "      <td>7.476074</td>\n",
              "      <td>2.106679</td>\n",
              "      <td>1549.775757</td>\n",
              "      <td>-498.912140</td>\n",
              "      <td>1551.434204</td>\n",
              "      <td>-516.403442</td>\n",
              "      <td>1549.873901</td>\n",
              "      <td>-498.666595</td>\n",
              "      <td>1554.367432</td>\n",
              "      <td>-493.428131</td>\n",
              "      <td>41885.707031</td>\n",
              "      <td>3481.779053</td>\n",
              "      <td>3520.337158</td>\n",
              "      <td>2.838687</td>\n",
              "      <td>6.100378</td>\n",
              "      <td>2.284912</td>\n",
              "      <td>523.546326</td>\n",
              "      <td>55.486599</td>\n",
              "      <td>36.808594</td>\n",
              "      <td>6.486150</td>\n",
              "      <td>11.986616</td>\n",
              "      <td>6.007990</td>\n",
              "      <td>11.836743</td>\n",
              "      <td>6.005818</td>\n",
              "      <td>11.500771</td>\n",
              "      <td>7.101074</td>\n",
              "      <td>28.029297</td>\n",
              "      <td>19.793808</td>\n",
              "      <td>87.107763</td>\n",
              "      <td>5.008018</td>\n",
              "      <td>0.508728</td>\n",
              "      <td>19.154297</td>\n",
              "      <td>1.170244</td>\n",
              "      <td>999.706909</td>\n",
              "      <td>-404.066986</td>\n",
              "      <td>1603.011353</td>\n",
              "      <td>-434.715027</td>\n",
              "      <td>1602.375000</td>\n",
              "      <td>-442.204468</td>\n",
              "      <td>1598.937256</td>\n",
              "      <td>-451.294128</td>\n",
              "      <td>1404.472046</td>\n",
              "      <td>-455.462982</td>\n",
              "      <td>1416.354980</td>\n",
              "      <td>-451.939636</td>\n",
              "      <td>14.500184</td>\n",
              "      <td>4.694824</td>\n",
              "      <td>8.764648</td>\n",
              "      <td>2.606185</td>\n",
              "      <td>25.853109</td>\n",
              "      <td>-498.526489</td>\n",
              "      <td>23.893660</td>\n",
              "      <td>-501.406281</td>\n",
              "      <td>23.961798</td>\n",
              "      <td>-495.262817</td>\n",
              "      <td>21.940409</td>\n",
              "      <td>-499.340973</td>\n",
              "      <td>14.016835</td>\n",
              "      <td>-502.488007</td>\n",
              "      <td>12.099931</td>\n",
              "      <td>-504.715942</td>\n",
              "      <td>9.925633</td>\n",
              "      <td>-498.310211</td>\n",
              "      <td>8.079666</td>\n",
              "      <td>-500.470978</td>\n",
              "      <td>14.151341</td>\n",
              "      <td>-605.841980</td>\n",
              "    </tr>\n",
              "    <tr>\n",
              "      <th>1</th>\n",
              "      <td>2016-01-15 01:00:00</td>\n",
              "      <td>6.029369</td>\n",
              "      <td>9.968944</td>\n",
              "      <td>5.257781</td>\n",
              "      <td>42.701629</td>\n",
              "      <td>69.266198</td>\n",
              "      <td>10.462676</td>\n",
              "      <td>0.927452</td>\n",
              "      <td>16.634514</td>\n",
              "      <td>2.224930</td>\n",
              "      <td>125.629232</td>\n",
              "      <td>10.296251</td>\n",
              "      <td>7.25</td>\n",
              "      <td>1.002663</td>\n",
              "      <td>8.558743</td>\n",
              "      <td>10.497069</td>\n",
              "      <td>19.369147</td>\n",
              "      <td>34.118526</td>\n",
              "      <td>16.250511</td>\n",
              "      <td>3.049646</td>\n",
              "      <td>6.733907</td>\n",
              "      <td>2.353017</td>\n",
              "      <td>1576.166671</td>\n",
              "      <td>-500.904965</td>\n",
              "      <td>1575.950626</td>\n",
              "      <td>-499.865889</td>\n",
              "      <td>1575.994189</td>\n",
              "      <td>-499.315107</td>\n",
              "      <td>1574.479259</td>\n",
              "      <td>-498.931665</td>\n",
              "      <td>42050.861809</td>\n",
              "      <td>3498.370979</td>\n",
              "      <td>3489.981857</td>\n",
              "      <td>2.858998</td>\n",
              "      <td>6.161113</td>\n",
              "      <td>2.266033</td>\n",
              "      <td>525.290581</td>\n",
              "      <td>57.278666</td>\n",
              "      <td>35.753385</td>\n",
              "      <td>6.478583</td>\n",
              "      <td>11.971193</td>\n",
              "      <td>6.005766</td>\n",
              "      <td>11.996163</td>\n",
              "      <td>6.012594</td>\n",
              "      <td>11.615865</td>\n",
              "      <td>7.278807</td>\n",
              "      <td>28.067063</td>\n",
              "      <td>20.050975</td>\n",
              "      <td>86.843261</td>\n",
              "      <td>4.955378</td>\n",
              "      <td>0.536689</td>\n",
              "      <td>18.965234</td>\n",
              "      <td>1.184827</td>\n",
              "      <td>1000.286398</td>\n",
              "      <td>-400.065196</td>\n",
              "      <td>1600.754587</td>\n",
              "      <td>-449.953435</td>\n",
              "      <td>1600.479580</td>\n",
              "      <td>-449.830646</td>\n",
              "      <td>1600.527589</td>\n",
              "      <td>-449.953649</td>\n",
              "      <td>1399.227084</td>\n",
              "      <td>-450.869848</td>\n",
              "      <td>1399.719514</td>\n",
              "      <td>-450.119001</td>\n",
              "      <td>14.265474</td>\n",
              "      <td>4.592547</td>\n",
              "      <td>9.001494</td>\n",
              "      <td>2.488248</td>\n",
              "      <td>25.880539</td>\n",
              "      <td>-499.989656</td>\n",
              "      <td>23.889530</td>\n",
              "      <td>-500.372428</td>\n",
              "      <td>23.970550</td>\n",
              "      <td>-500.085473</td>\n",
              "      <td>22.085714</td>\n",
              "      <td>-499.446897</td>\n",
              "      <td>13.992281</td>\n",
              "      <td>-505.503262</td>\n",
              "      <td>11.950531</td>\n",
              "      <td>-501.331529</td>\n",
              "      <td>10.039245</td>\n",
              "      <td>-500.169983</td>\n",
              "      <td>7.984757</td>\n",
              "      <td>-500.582168</td>\n",
              "      <td>13.998353</td>\n",
              "      <td>-599.787184</td>\n",
              "    </tr>\n",
              "    <tr>\n",
              "      <th>2</th>\n",
              "      <td>2016-01-15 02:00:00</td>\n",
              "      <td>6.055926</td>\n",
              "      <td>10.213995</td>\n",
              "      <td>5.383759</td>\n",
              "      <td>42.657501</td>\n",
              "      <td>68.116445</td>\n",
              "      <td>10.507046</td>\n",
              "      <td>0.953716</td>\n",
              "      <td>16.208849</td>\n",
              "      <td>2.257889</td>\n",
              "      <td>123.819808</td>\n",
              "      <td>11.316280</td>\n",
              "      <td>7.25</td>\n",
              "      <td>0.991265</td>\n",
              "      <td>8.603505</td>\n",
              "      <td>10.354494</td>\n",
              "      <td>19.167579</td>\n",
              "      <td>33.969464</td>\n",
              "      <td>16.491823</td>\n",
              "      <td>3.124664</td>\n",
              "      <td>6.471768</td>\n",
              "      <td>2.416800</td>\n",
              "      <td>1601.556163</td>\n",
              "      <td>-499.997791</td>\n",
              "      <td>1600.386685</td>\n",
              "      <td>-500.607762</td>\n",
              "      <td>1602.003542</td>\n",
              "      <td>-500.870069</td>\n",
              "      <td>1599.541515</td>\n",
              "      <td>-499.827444</td>\n",
              "      <td>42018.101184</td>\n",
              "      <td>3495.348910</td>\n",
              "      <td>3502.359819</td>\n",
              "      <td>2.945989</td>\n",
              "      <td>6.116455</td>\n",
              "      <td>2.159622</td>\n",
              "      <td>530.026610</td>\n",
              "      <td>57.510649</td>\n",
              "      <td>35.971630</td>\n",
              "      <td>6.362222</td>\n",
              "      <td>11.920603</td>\n",
              "      <td>6.197377</td>\n",
              "      <td>11.920305</td>\n",
              "      <td>6.204633</td>\n",
              "      <td>11.695753</td>\n",
              "      <td>7.216833</td>\n",
              "      <td>27.454037</td>\n",
              "      <td>19.737170</td>\n",
              "      <td>86.842308</td>\n",
              "      <td>4.843460</td>\n",
              "      <td>0.546416</td>\n",
              "      <td>18.808533</td>\n",
              "      <td>1.162562</td>\n",
              "      <td>999.719565</td>\n",
              "      <td>-400.074028</td>\n",
              "      <td>1599.337330</td>\n",
              "      <td>-450.008530</td>\n",
              "      <td>1599.672797</td>\n",
              "      <td>-449.954491</td>\n",
              "      <td>1599.849325</td>\n",
              "      <td>-449.954185</td>\n",
              "      <td>1399.180945</td>\n",
              "      <td>-449.937588</td>\n",
              "      <td>1400.316682</td>\n",
              "      <td>-450.527147</td>\n",
              "      <td>14.115662</td>\n",
              "      <td>4.624775</td>\n",
              "      <td>8.842896</td>\n",
              "      <td>2.458187</td>\n",
              "      <td>26.005245</td>\n",
              "      <td>-499.929616</td>\n",
              "      <td>23.886657</td>\n",
              "      <td>-499.951928</td>\n",
              "      <td>23.913535</td>\n",
              "      <td>-499.442343</td>\n",
              "      <td>23.957717</td>\n",
              "      <td>-499.901982</td>\n",
              "      <td>14.015015</td>\n",
              "      <td>-502.520901</td>\n",
              "      <td>11.912783</td>\n",
              "      <td>-501.133383</td>\n",
              "      <td>10.070913</td>\n",
              "      <td>-500.129135</td>\n",
              "      <td>8.013877</td>\n",
              "      <td>-500.517572</td>\n",
              "      <td>14.028663</td>\n",
              "      <td>-601.427363</td>\n",
              "    </tr>\n",
              "    <tr>\n",
              "      <th>3</th>\n",
              "      <td>2016-01-15 03:00:00</td>\n",
              "      <td>6.047977</td>\n",
              "      <td>9.977019</td>\n",
              "      <td>4.858634</td>\n",
              "      <td>42.689819</td>\n",
              "      <td>68.347543</td>\n",
              "      <td>10.422762</td>\n",
              "      <td>0.883763</td>\n",
              "      <td>16.532835</td>\n",
              "      <td>2.146849</td>\n",
              "      <td>122.270188</td>\n",
              "      <td>11.322140</td>\n",
              "      <td>7.25</td>\n",
              "      <td>0.996739</td>\n",
              "      <td>7.221879</td>\n",
              "      <td>8.496563</td>\n",
              "      <td>15.978538</td>\n",
              "      <td>28.260743</td>\n",
              "      <td>16.024359</td>\n",
              "      <td>2.960362</td>\n",
              "      <td>6.843791</td>\n",
              "      <td>2.262051</td>\n",
              "      <td>1599.968720</td>\n",
              "      <td>-500.951778</td>\n",
              "      <td>1600.659236</td>\n",
              "      <td>-499.677094</td>\n",
              "      <td>1600.304144</td>\n",
              "      <td>-500.727997</td>\n",
              "      <td>1600.449520</td>\n",
              "      <td>-500.052575</td>\n",
              "      <td>42029.447991</td>\n",
              "      <td>3498.578313</td>\n",
              "      <td>3499.162912</td>\n",
              "      <td>3.002340</td>\n",
              "      <td>6.043309</td>\n",
              "      <td>2.037807</td>\n",
              "      <td>542.590390</td>\n",
              "      <td>57.792734</td>\n",
              "      <td>36.862241</td>\n",
              "      <td>6.118189</td>\n",
              "      <td>11.630094</td>\n",
              "      <td>6.203177</td>\n",
              "      <td>11.692450</td>\n",
              "      <td>6.196578</td>\n",
              "      <td>11.915047</td>\n",
              "      <td>7.175616</td>\n",
              "      <td>27.341277</td>\n",
              "      <td>19.320810</td>\n",
              "      <td>87.226430</td>\n",
              "      <td>4.655288</td>\n",
              "      <td>0.542525</td>\n",
              "      <td>19.330200</td>\n",
              "      <td>1.079755</td>\n",
              "      <td>999.814770</td>\n",
              "      <td>-400.200179</td>\n",
              "      <td>1600.059442</td>\n",
              "      <td>-450.619948</td>\n",
              "      <td>1600.012842</td>\n",
              "      <td>-449.910497</td>\n",
              "      <td>1597.725177</td>\n",
              "      <td>-450.130127</td>\n",
              "      <td>1400.943157</td>\n",
              "      <td>-450.030142</td>\n",
              "      <td>1400.234743</td>\n",
              "      <td>-449.790835</td>\n",
              "      <td>13.732071</td>\n",
              "      <td>4.482453</td>\n",
              "      <td>9.122857</td>\n",
              "      <td>2.322062</td>\n",
              "      <td>25.942508</td>\n",
              "      <td>-499.176749</td>\n",
              "      <td>23.955516</td>\n",
              "      <td>-499.848796</td>\n",
              "      <td>23.966838</td>\n",
              "      <td>-500.008812</td>\n",
              "      <td>23.954443</td>\n",
              "      <td>-499.944710</td>\n",
              "      <td>14.036510</td>\n",
              "      <td>-500.857308</td>\n",
              "      <td>11.999550</td>\n",
              "      <td>-501.193686</td>\n",
              "      <td>9.970366</td>\n",
              "      <td>-499.201640</td>\n",
              "      <td>7.977324</td>\n",
              "      <td>-500.255908</td>\n",
              "      <td>14.005551</td>\n",
              "      <td>-599.996129</td>\n",
              "    </tr>\n",
              "    <tr>\n",
              "      <th>4</th>\n",
              "      <td>2016-01-15 04:00:00</td>\n",
              "      <td>6.148599</td>\n",
              "      <td>10.142511</td>\n",
              "      <td>4.939416</td>\n",
              "      <td>42.774141</td>\n",
              "      <td>66.927016</td>\n",
              "      <td>10.360302</td>\n",
              "      <td>0.792826</td>\n",
              "      <td>16.525686</td>\n",
              "      <td>2.055292</td>\n",
              "      <td>117.988169</td>\n",
              "      <td>11.913613</td>\n",
              "      <td>7.25</td>\n",
              "      <td>1.009869</td>\n",
              "      <td>9.089428</td>\n",
              "      <td>9.986786</td>\n",
              "      <td>19.199864</td>\n",
              "      <td>33.044932</td>\n",
              "      <td>16.480185</td>\n",
              "      <td>3.112100</td>\n",
              "      <td>6.550154</td>\n",
              "      <td>2.277073</td>\n",
              "      <td>1601.339707</td>\n",
              "      <td>-498.975456</td>\n",
              "      <td>1601.437854</td>\n",
              "      <td>-500.323246</td>\n",
              "      <td>1599.581894</td>\n",
              "      <td>-500.888152</td>\n",
              "      <td>1602.649541</td>\n",
              "      <td>-500.593010</td>\n",
              "      <td>42125.354245</td>\n",
              "      <td>3494.800771</td>\n",
              "      <td>3506.679315</td>\n",
              "      <td>3.169615</td>\n",
              "      <td>6.060915</td>\n",
              "      <td>1.786875</td>\n",
              "      <td>540.531893</td>\n",
              "      <td>56.047189</td>\n",
              "      <td>34.347666</td>\n",
              "      <td>5.663707</td>\n",
              "      <td>10.957755</td>\n",
              "      <td>6.198826</td>\n",
              "      <td>10.960521</td>\n",
              "      <td>6.194897</td>\n",
              "      <td>12.411054</td>\n",
              "      <td>7.240205</td>\n",
              "      <td>27.041023</td>\n",
              "      <td>19.216101</td>\n",
              "      <td>86.688794</td>\n",
              "      <td>4.552800</td>\n",
              "      <td>0.515438</td>\n",
              "      <td>19.267422</td>\n",
              "      <td>1.012642</td>\n",
              "      <td>999.678690</td>\n",
              "      <td>-399.752729</td>\n",
              "      <td>1600.208824</td>\n",
              "      <td>-449.599614</td>\n",
              "      <td>1600.357732</td>\n",
              "      <td>-450.034364</td>\n",
              "      <td>1599.759049</td>\n",
              "      <td>-449.909799</td>\n",
              "      <td>1401.560902</td>\n",
              "      <td>-448.877187</td>\n",
              "      <td>1401.160227</td>\n",
              "      <td>-450.407128</td>\n",
              "      <td>14.079996</td>\n",
              "      <td>4.470737</td>\n",
              "      <td>8.871028</td>\n",
              "      <td>2.330448</td>\n",
              "      <td>26.024787</td>\n",
              "      <td>-500.279091</td>\n",
              "      <td>23.955345</td>\n",
              "      <td>-500.593614</td>\n",
              "      <td>23.985703</td>\n",
              "      <td>-500.083811</td>\n",
              "      <td>23.958945</td>\n",
              "      <td>-499.990309</td>\n",
              "      <td>14.027298</td>\n",
              "      <td>-499.838632</td>\n",
              "      <td>11.953070</td>\n",
              "      <td>-501.053894</td>\n",
              "      <td>9.925709</td>\n",
              "      <td>-501.686727</td>\n",
              "      <td>7.894242</td>\n",
              "      <td>-500.356035</td>\n",
              "      <td>13.996647</td>\n",
              "      <td>-601.496691</td>\n",
              "    </tr>\n",
              "  </tbody>\n",
              "</table>\n",
              "</div>"
            ],
            "text/plain": [
              "                  date  final.output.concentrate_ag  \\\n",
              "0  2016-01-15 00:00:00                     6.055403   \n",
              "1  2016-01-15 01:00:00                     6.029369   \n",
              "2  2016-01-15 02:00:00                     6.055926   \n",
              "3  2016-01-15 03:00:00                     6.047977   \n",
              "4  2016-01-15 04:00:00                     6.148599   \n",
              "\n",
              "   final.output.concentrate_pb  final.output.concentrate_sol  \\\n",
              "0                     9.889648                      5.507324   \n",
              "1                     9.968944                      5.257781   \n",
              "2                    10.213995                      5.383759   \n",
              "3                     9.977019                      4.858634   \n",
              "4                    10.142511                      4.939416   \n",
              "\n",
              "   final.output.concentrate_au  final.output.recovery  final.output.tail_ag  \\\n",
              "0                    42.192020              70.541216             10.411962   \n",
              "1                    42.701629              69.266198             10.462676   \n",
              "2                    42.657501              68.116445             10.507046   \n",
              "3                    42.689819              68.347543             10.422762   \n",
              "4                    42.774141              66.927016             10.360302   \n",
              "\n",
              "   final.output.tail_pb  final.output.tail_sol  final.output.tail_au  \\\n",
              "0              0.895447              16.904297              2.143149   \n",
              "1              0.927452              16.634514              2.224930   \n",
              "2              0.953716              16.208849              2.257889   \n",
              "3              0.883763              16.532835              2.146849   \n",
              "4              0.792826              16.525686              2.055292   \n",
              "\n",
              "   primary_cleaner.input.sulfate  primary_cleaner.input.depressant  \\\n",
              "0                     127.092003                         10.128295   \n",
              "1                     125.629232                         10.296251   \n",
              "2                     123.819808                         11.316280   \n",
              "3                     122.270188                         11.322140   \n",
              "4                     117.988169                         11.913613   \n",
              "\n",
              "   primary_cleaner.input.feed_size  primary_cleaner.input.xanthate  \\\n",
              "0                             7.25                        0.988759   \n",
              "1                             7.25                        1.002663   \n",
              "2                             7.25                        0.991265   \n",
              "3                             7.25                        0.996739   \n",
              "4                             7.25                        1.009869   \n",
              "\n",
              "   primary_cleaner.output.concentrate_ag  \\\n",
              "0                               8.547551   \n",
              "1                               8.558743   \n",
              "2                               8.603505   \n",
              "3                               7.221879   \n",
              "4                               9.089428   \n",
              "\n",
              "   primary_cleaner.output.concentrate_pb  \\\n",
              "0                              10.389648   \n",
              "1                              10.497069   \n",
              "2                              10.354494   \n",
              "3                               8.496563   \n",
              "4                               9.986786   \n",
              "\n",
              "   primary_cleaner.output.concentrate_sol  \\\n",
              "0                               19.529297   \n",
              "1                               19.369147   \n",
              "2                               19.167579   \n",
              "3                               15.978538   \n",
              "4                               19.199864   \n",
              "\n",
              "   primary_cleaner.output.concentrate_au  primary_cleaner.output.tail_ag  \\\n",
              "0                              34.174427                       14.936526   \n",
              "1                              34.118526                       16.250511   \n",
              "2                              33.969464                       16.491823   \n",
              "3                              28.260743                       16.024359   \n",
              "4                              33.044932                       16.480185   \n",
              "\n",
              "   primary_cleaner.output.tail_pb  primary_cleaner.output.tail_sol  \\\n",
              "0                        2.534912                         7.476074   \n",
              "1                        3.049646                         6.733907   \n",
              "2                        3.124664                         6.471768   \n",
              "3                        2.960362                         6.843791   \n",
              "4                        3.112100                         6.550154   \n",
              "\n",
              "   primary_cleaner.output.tail_au  primary_cleaner.state.floatbank8_a_air  \\\n",
              "0                        2.106679                             1549.775757   \n",
              "1                        2.353017                             1576.166671   \n",
              "2                        2.416800                             1601.556163   \n",
              "3                        2.262051                             1599.968720   \n",
              "4                        2.277073                             1601.339707   \n",
              "\n",
              "   primary_cleaner.state.floatbank8_a_level  \\\n",
              "0                               -498.912140   \n",
              "1                               -500.904965   \n",
              "2                               -499.997791   \n",
              "3                               -500.951778   \n",
              "4                               -498.975456   \n",
              "\n",
              "   primary_cleaner.state.floatbank8_b_air  \\\n",
              "0                             1551.434204   \n",
              "1                             1575.950626   \n",
              "2                             1600.386685   \n",
              "3                             1600.659236   \n",
              "4                             1601.437854   \n",
              "\n",
              "   primary_cleaner.state.floatbank8_b_level  \\\n",
              "0                               -516.403442   \n",
              "1                               -499.865889   \n",
              "2                               -500.607762   \n",
              "3                               -499.677094   \n",
              "4                               -500.323246   \n",
              "\n",
              "   primary_cleaner.state.floatbank8_c_air  \\\n",
              "0                             1549.873901   \n",
              "1                             1575.994189   \n",
              "2                             1602.003542   \n",
              "3                             1600.304144   \n",
              "4                             1599.581894   \n",
              "\n",
              "   primary_cleaner.state.floatbank8_c_level  \\\n",
              "0                               -498.666595   \n",
              "1                               -499.315107   \n",
              "2                               -500.870069   \n",
              "3                               -500.727997   \n",
              "4                               -500.888152   \n",
              "\n",
              "   primary_cleaner.state.floatbank8_d_air  \\\n",
              "0                             1554.367432   \n",
              "1                             1574.479259   \n",
              "2                             1599.541515   \n",
              "3                             1600.449520   \n",
              "4                             1602.649541   \n",
              "\n",
              "   primary_cleaner.state.floatbank8_d_level  \\\n",
              "0                               -493.428131   \n",
              "1                               -498.931665   \n",
              "2                               -499.827444   \n",
              "3                               -500.052575   \n",
              "4                               -500.593010   \n",
              "\n",
              "   rougher.calculation.sulfate_to_au_concentrate  \\\n",
              "0                                   41885.707031   \n",
              "1                                   42050.861809   \n",
              "2                                   42018.101184   \n",
              "3                                   42029.447991   \n",
              "4                                   42125.354245   \n",
              "\n",
              "   rougher.calculation.floatbank10_sulfate_to_au_feed  \\\n",
              "0                                        3481.779053    \n",
              "1                                        3498.370979    \n",
              "2                                        3495.348910    \n",
              "3                                        3498.578313    \n",
              "4                                        3494.800771    \n",
              "\n",
              "   rougher.calculation.floatbank11_sulfate_to_au_feed  \\\n",
              "0                                        3520.337158    \n",
              "1                                        3489.981857    \n",
              "2                                        3502.359819    \n",
              "3                                        3499.162912    \n",
              "4                                        3506.679315    \n",
              "\n",
              "   rougher.calculation.au_pb_ratio  rougher.input.feed_ag  \\\n",
              "0                         2.838687               6.100378   \n",
              "1                         2.858998               6.161113   \n",
              "2                         2.945989               6.116455   \n",
              "3                         3.002340               6.043309   \n",
              "4                         3.169615               6.060915   \n",
              "\n",
              "   rougher.input.feed_pb  rougher.input.feed_rate  rougher.input.feed_size  \\\n",
              "0               2.284912               523.546326                55.486599   \n",
              "1               2.266033               525.290581                57.278666   \n",
              "2               2.159622               530.026610                57.510649   \n",
              "3               2.037807               542.590390                57.792734   \n",
              "4               1.786875               540.531893                56.047189   \n",
              "\n",
              "   rougher.input.feed_sol  rougher.input.feed_au  \\\n",
              "0               36.808594               6.486150   \n",
              "1               35.753385               6.478583   \n",
              "2               35.971630               6.362222   \n",
              "3               36.862241               6.118189   \n",
              "4               34.347666               5.663707   \n",
              "\n",
              "   rougher.input.floatbank10_sulfate  rougher.input.floatbank10_xanthate  \\\n",
              "0                          11.986616                            6.007990   \n",
              "1                          11.971193                            6.005766   \n",
              "2                          11.920603                            6.197377   \n",
              "3                          11.630094                            6.203177   \n",
              "4                          10.957755                            6.198826   \n",
              "\n",
              "   rougher.input.floatbank11_sulfate  rougher.input.floatbank11_xanthate  \\\n",
              "0                          11.836743                            6.005818   \n",
              "1                          11.996163                            6.012594   \n",
              "2                          11.920305                            6.204633   \n",
              "3                          11.692450                            6.196578   \n",
              "4                          10.960521                            6.194897   \n",
              "\n",
              "   rougher.output.concentrate_ag  rougher.output.concentrate_pb  \\\n",
              "0                      11.500771                       7.101074   \n",
              "1                      11.615865                       7.278807   \n",
              "2                      11.695753                       7.216833   \n",
              "3                      11.915047                       7.175616   \n",
              "4                      12.411054                       7.240205   \n",
              "\n",
              "   rougher.output.concentrate_sol  rougher.output.concentrate_au  \\\n",
              "0                       28.029297                      19.793808   \n",
              "1                       28.067063                      20.050975   \n",
              "2                       27.454037                      19.737170   \n",
              "3                       27.341277                      19.320810   \n",
              "4                       27.041023                      19.216101   \n",
              "\n",
              "   rougher.output.recovery  rougher.output.tail_ag  rougher.output.tail_pb  \\\n",
              "0                87.107763                5.008018                0.508728   \n",
              "1                86.843261                4.955378                0.536689   \n",
              "2                86.842308                4.843460                0.546416   \n",
              "3                87.226430                4.655288                0.542525   \n",
              "4                86.688794                4.552800                0.515438   \n",
              "\n",
              "   rougher.output.tail_sol  rougher.output.tail_au  \\\n",
              "0                19.154297                1.170244   \n",
              "1                18.965234                1.184827   \n",
              "2                18.808533                1.162562   \n",
              "3                19.330200                1.079755   \n",
              "4                19.267422                1.012642   \n",
              "\n",
              "   rougher.state.floatbank10_a_air  rougher.state.floatbank10_a_level  \\\n",
              "0                       999.706909                        -404.066986   \n",
              "1                      1000.286398                        -400.065196   \n",
              "2                       999.719565                        -400.074028   \n",
              "3                       999.814770                        -400.200179   \n",
              "4                       999.678690                        -399.752729   \n",
              "\n",
              "   rougher.state.floatbank10_b_air  rougher.state.floatbank10_b_level  \\\n",
              "0                      1603.011353                        -434.715027   \n",
              "1                      1600.754587                        -449.953435   \n",
              "2                      1599.337330                        -450.008530   \n",
              "3                      1600.059442                        -450.619948   \n",
              "4                      1600.208824                        -449.599614   \n",
              "\n",
              "   rougher.state.floatbank10_c_air  rougher.state.floatbank10_c_level  \\\n",
              "0                      1602.375000                        -442.204468   \n",
              "1                      1600.479580                        -449.830646   \n",
              "2                      1599.672797                        -449.954491   \n",
              "3                      1600.012842                        -449.910497   \n",
              "4                      1600.357732                        -450.034364   \n",
              "\n",
              "   rougher.state.floatbank10_d_air  rougher.state.floatbank10_d_level  \\\n",
              "0                      1598.937256                        -451.294128   \n",
              "1                      1600.527589                        -449.953649   \n",
              "2                      1599.849325                        -449.954185   \n",
              "3                      1597.725177                        -450.130127   \n",
              "4                      1599.759049                        -449.909799   \n",
              "\n",
              "   rougher.state.floatbank10_e_air  rougher.state.floatbank10_e_level  \\\n",
              "0                      1404.472046                        -455.462982   \n",
              "1                      1399.227084                        -450.869848   \n",
              "2                      1399.180945                        -449.937588   \n",
              "3                      1400.943157                        -450.030142   \n",
              "4                      1401.560902                        -448.877187   \n",
              "\n",
              "   rougher.state.floatbank10_f_air  rougher.state.floatbank10_f_level  \\\n",
              "0                      1416.354980                        -451.939636   \n",
              "1                      1399.719514                        -450.119001   \n",
              "2                      1400.316682                        -450.527147   \n",
              "3                      1400.234743                        -449.790835   \n",
              "4                      1401.160227                        -450.407128   \n",
              "\n",
              "   secondary_cleaner.output.tail_ag  secondary_cleaner.output.tail_pb  \\\n",
              "0                         14.500184                          4.694824   \n",
              "1                         14.265474                          4.592547   \n",
              "2                         14.115662                          4.624775   \n",
              "3                         13.732071                          4.482453   \n",
              "4                         14.079996                          4.470737   \n",
              "\n",
              "   secondary_cleaner.output.tail_sol  secondary_cleaner.output.tail_au  \\\n",
              "0                           8.764648                          2.606185   \n",
              "1                           9.001494                          2.488248   \n",
              "2                           8.842896                          2.458187   \n",
              "3                           9.122857                          2.322062   \n",
              "4                           8.871028                          2.330448   \n",
              "\n",
              "   secondary_cleaner.state.floatbank2_a_air  \\\n",
              "0                                 25.853109   \n",
              "1                                 25.880539   \n",
              "2                                 26.005245   \n",
              "3                                 25.942508   \n",
              "4                                 26.024787   \n",
              "\n",
              "   secondary_cleaner.state.floatbank2_a_level  \\\n",
              "0                                 -498.526489   \n",
              "1                                 -499.989656   \n",
              "2                                 -499.929616   \n",
              "3                                 -499.176749   \n",
              "4                                 -500.279091   \n",
              "\n",
              "   secondary_cleaner.state.floatbank2_b_air  \\\n",
              "0                                 23.893660   \n",
              "1                                 23.889530   \n",
              "2                                 23.886657   \n",
              "3                                 23.955516   \n",
              "4                                 23.955345   \n",
              "\n",
              "   secondary_cleaner.state.floatbank2_b_level  \\\n",
              "0                                 -501.406281   \n",
              "1                                 -500.372428   \n",
              "2                                 -499.951928   \n",
              "3                                 -499.848796   \n",
              "4                                 -500.593614   \n",
              "\n",
              "   secondary_cleaner.state.floatbank3_a_air  \\\n",
              "0                                 23.961798   \n",
              "1                                 23.970550   \n",
              "2                                 23.913535   \n",
              "3                                 23.966838   \n",
              "4                                 23.985703   \n",
              "\n",
              "   secondary_cleaner.state.floatbank3_a_level  \\\n",
              "0                                 -495.262817   \n",
              "1                                 -500.085473   \n",
              "2                                 -499.442343   \n",
              "3                                 -500.008812   \n",
              "4                                 -500.083811   \n",
              "\n",
              "   secondary_cleaner.state.floatbank3_b_air  \\\n",
              "0                                 21.940409   \n",
              "1                                 22.085714   \n",
              "2                                 23.957717   \n",
              "3                                 23.954443   \n",
              "4                                 23.958945   \n",
              "\n",
              "   secondary_cleaner.state.floatbank3_b_level  \\\n",
              "0                                 -499.340973   \n",
              "1                                 -499.446897   \n",
              "2                                 -499.901982   \n",
              "3                                 -499.944710   \n",
              "4                                 -499.990309   \n",
              "\n",
              "   secondary_cleaner.state.floatbank4_a_air  \\\n",
              "0                                 14.016835   \n",
              "1                                 13.992281   \n",
              "2                                 14.015015   \n",
              "3                                 14.036510   \n",
              "4                                 14.027298   \n",
              "\n",
              "   secondary_cleaner.state.floatbank4_a_level  \\\n",
              "0                                 -502.488007   \n",
              "1                                 -505.503262   \n",
              "2                                 -502.520901   \n",
              "3                                 -500.857308   \n",
              "4                                 -499.838632   \n",
              "\n",
              "   secondary_cleaner.state.floatbank4_b_air  \\\n",
              "0                                 12.099931   \n",
              "1                                 11.950531   \n",
              "2                                 11.912783   \n",
              "3                                 11.999550   \n",
              "4                                 11.953070   \n",
              "\n",
              "   secondary_cleaner.state.floatbank4_b_level  \\\n",
              "0                                 -504.715942   \n",
              "1                                 -501.331529   \n",
              "2                                 -501.133383   \n",
              "3                                 -501.193686   \n",
              "4                                 -501.053894   \n",
              "\n",
              "   secondary_cleaner.state.floatbank5_a_air  \\\n",
              "0                                  9.925633   \n",
              "1                                 10.039245   \n",
              "2                                 10.070913   \n",
              "3                                  9.970366   \n",
              "4                                  9.925709   \n",
              "\n",
              "   secondary_cleaner.state.floatbank5_a_level  \\\n",
              "0                                 -498.310211   \n",
              "1                                 -500.169983   \n",
              "2                                 -500.129135   \n",
              "3                                 -499.201640   \n",
              "4                                 -501.686727   \n",
              "\n",
              "   secondary_cleaner.state.floatbank5_b_air  \\\n",
              "0                                  8.079666   \n",
              "1                                  7.984757   \n",
              "2                                  8.013877   \n",
              "3                                  7.977324   \n",
              "4                                  7.894242   \n",
              "\n",
              "   secondary_cleaner.state.floatbank5_b_level  \\\n",
              "0                                 -500.470978   \n",
              "1                                 -500.582168   \n",
              "2                                 -500.517572   \n",
              "3                                 -500.255908   \n",
              "4                                 -500.356035   \n",
              "\n",
              "   secondary_cleaner.state.floatbank6_a_air  \\\n",
              "0                                 14.151341   \n",
              "1                                 13.998353   \n",
              "2                                 14.028663   \n",
              "3                                 14.005551   \n",
              "4                                 13.996647   \n",
              "\n",
              "   secondary_cleaner.state.floatbank6_a_level  \n",
              "0                                 -605.841980  \n",
              "1                                 -599.787184  \n",
              "2                                 -601.427363  \n",
              "3                                 -599.996129  \n",
              "4                                 -601.496691  "
            ]
          },
          "metadata": {
            "tags": []
          },
          "execution_count": 4
        }
      ]
    },
    {
      "cell_type": "code",
      "metadata": {
        "scrolled": true,
        "id": "PHxFop1RCkWv",
        "outputId": "f3468450-747e-479b-e41f-f34b004d0eec"
      },
      "source": [
        "data_train.info()"
      ],
      "execution_count": null,
      "outputs": [
        {
          "output_type": "stream",
          "text": [
            "<class 'pandas.core.frame.DataFrame'>\n",
            "RangeIndex: 16860 entries, 0 to 16859\n",
            "Data columns (total 87 columns):\n",
            " #   Column                                              Non-Null Count  Dtype  \n",
            "---  ------                                              --------------  -----  \n",
            " 0   date                                                16860 non-null  object \n",
            " 1   final.output.concentrate_ag                         16788 non-null  float64\n",
            " 2   final.output.concentrate_pb                         16788 non-null  float64\n",
            " 3   final.output.concentrate_sol                        16490 non-null  float64\n",
            " 4   final.output.concentrate_au                         16789 non-null  float64\n",
            " 5   final.output.recovery                               15339 non-null  float64\n",
            " 6   final.output.tail_ag                                16794 non-null  float64\n",
            " 7   final.output.tail_pb                                16677 non-null  float64\n",
            " 8   final.output.tail_sol                               16715 non-null  float64\n",
            " 9   final.output.tail_au                                16794 non-null  float64\n",
            " 10  primary_cleaner.input.sulfate                       15553 non-null  float64\n",
            " 11  primary_cleaner.input.depressant                    15598 non-null  float64\n",
            " 12  primary_cleaner.input.feed_size                     16860 non-null  float64\n",
            " 13  primary_cleaner.input.xanthate                      15875 non-null  float64\n",
            " 14  primary_cleaner.output.concentrate_ag               16778 non-null  float64\n",
            " 15  primary_cleaner.output.concentrate_pb               16502 non-null  float64\n",
            " 16  primary_cleaner.output.concentrate_sol              16224 non-null  float64\n",
            " 17  primary_cleaner.output.concentrate_au               16778 non-null  float64\n",
            " 18  primary_cleaner.output.tail_ag                      16777 non-null  float64\n",
            " 19  primary_cleaner.output.tail_pb                      16761 non-null  float64\n",
            " 20  primary_cleaner.output.tail_sol                     16579 non-null  float64\n",
            " 21  primary_cleaner.output.tail_au                      16777 non-null  float64\n",
            " 22  primary_cleaner.state.floatbank8_a_air              16820 non-null  float64\n",
            " 23  primary_cleaner.state.floatbank8_a_level            16827 non-null  float64\n",
            " 24  primary_cleaner.state.floatbank8_b_air              16820 non-null  float64\n",
            " 25  primary_cleaner.state.floatbank8_b_level            16833 non-null  float64\n",
            " 26  primary_cleaner.state.floatbank8_c_air              16822 non-null  float64\n",
            " 27  primary_cleaner.state.floatbank8_c_level            16833 non-null  float64\n",
            " 28  primary_cleaner.state.floatbank8_d_air              16821 non-null  float64\n",
            " 29  primary_cleaner.state.floatbank8_d_level            16833 non-null  float64\n",
            " 30  rougher.calculation.sulfate_to_au_concentrate       16833 non-null  float64\n",
            " 31  rougher.calculation.floatbank10_sulfate_to_au_feed  16833 non-null  float64\n",
            " 32  rougher.calculation.floatbank11_sulfate_to_au_feed  16833 non-null  float64\n",
            " 33  rougher.calculation.au_pb_ratio                     15618 non-null  float64\n",
            " 34  rougher.input.feed_ag                               16778 non-null  float64\n",
            " 35  rougher.input.feed_pb                               16632 non-null  float64\n",
            " 36  rougher.input.feed_rate                             16347 non-null  float64\n",
            " 37  rougher.input.feed_size                             16443 non-null  float64\n",
            " 38  rougher.input.feed_sol                              16568 non-null  float64\n",
            " 39  rougher.input.feed_au                               16777 non-null  float64\n",
            " 40  rougher.input.floatbank10_sulfate                   15816 non-null  float64\n",
            " 41  rougher.input.floatbank10_xanthate                  16514 non-null  float64\n",
            " 42  rougher.input.floatbank11_sulfate                   16237 non-null  float64\n",
            " 43  rougher.input.floatbank11_xanthate                  14956 non-null  float64\n",
            " 44  rougher.output.concentrate_ag                       16778 non-null  float64\n",
            " 45  rougher.output.concentrate_pb                       16778 non-null  float64\n",
            " 46  rougher.output.concentrate_sol                      16698 non-null  float64\n",
            " 47  rougher.output.concentrate_au                       16778 non-null  float64\n",
            " 48  rougher.output.recovery                             14287 non-null  float64\n",
            " 49  rougher.output.tail_ag                              14610 non-null  float64\n",
            " 50  rougher.output.tail_pb                              16778 non-null  float64\n",
            " 51  rougher.output.tail_sol                             14611 non-null  float64\n",
            " 52  rougher.output.tail_au                              14611 non-null  float64\n",
            " 53  rougher.state.floatbank10_a_air                     16807 non-null  float64\n",
            " 54  rougher.state.floatbank10_a_level                   16807 non-null  float64\n",
            " 55  rougher.state.floatbank10_b_air                     16807 non-null  float64\n",
            " 56  rougher.state.floatbank10_b_level                   16807 non-null  float64\n",
            " 57  rougher.state.floatbank10_c_air                     16807 non-null  float64\n",
            " 58  rougher.state.floatbank10_c_level                   16814 non-null  float64\n",
            " 59  rougher.state.floatbank10_d_air                     16802 non-null  float64\n",
            " 60  rougher.state.floatbank10_d_level                   16809 non-null  float64\n",
            " 61  rougher.state.floatbank10_e_air                     16257 non-null  float64\n",
            " 62  rougher.state.floatbank10_e_level                   16809 non-null  float64\n",
            " 63  rougher.state.floatbank10_f_air                     16802 non-null  float64\n",
            " 64  rougher.state.floatbank10_f_level                   16802 non-null  float64\n",
            " 65  secondary_cleaner.output.tail_ag                    16776 non-null  float64\n",
            " 66  secondary_cleaner.output.tail_pb                    16764 non-null  float64\n",
            " 67  secondary_cleaner.output.tail_sol                   14874 non-null  float64\n",
            " 68  secondary_cleaner.output.tail_au                    16778 non-null  float64\n",
            " 69  secondary_cleaner.state.floatbank2_a_air            16497 non-null  float64\n",
            " 70  secondary_cleaner.state.floatbank2_a_level          16751 non-null  float64\n",
            " 71  secondary_cleaner.state.floatbank2_b_air            16705 non-null  float64\n",
            " 72  secondary_cleaner.state.floatbank2_b_level          16748 non-null  float64\n",
            " 73  secondary_cleaner.state.floatbank3_a_air            16763 non-null  float64\n",
            " 74  secondary_cleaner.state.floatbank3_a_level          16747 non-null  float64\n",
            " 75  secondary_cleaner.state.floatbank3_b_air            16752 non-null  float64\n",
            " 76  secondary_cleaner.state.floatbank3_b_level          16750 non-null  float64\n",
            " 77  secondary_cleaner.state.floatbank4_a_air            16731 non-null  float64\n",
            " 78  secondary_cleaner.state.floatbank4_a_level          16747 non-null  float64\n",
            " 79  secondary_cleaner.state.floatbank4_b_air            16768 non-null  float64\n",
            " 80  secondary_cleaner.state.floatbank4_b_level          16767 non-null  float64\n",
            " 81  secondary_cleaner.state.floatbank5_a_air            16775 non-null  float64\n",
            " 82  secondary_cleaner.state.floatbank5_a_level          16775 non-null  float64\n",
            " 83  secondary_cleaner.state.floatbank5_b_air            16775 non-null  float64\n",
            " 84  secondary_cleaner.state.floatbank5_b_level          16776 non-null  float64\n",
            " 85  secondary_cleaner.state.floatbank6_a_air            16757 non-null  float64\n",
            " 86  secondary_cleaner.state.floatbank6_a_level          16775 non-null  float64\n",
            "dtypes: float64(86), object(1)\n",
            "memory usage: 11.2+ MB\n"
          ],
          "name": "stdout"
        }
      ]
    },
    {
      "cell_type": "code",
      "metadata": {
        "id": "ILctZ1RoCkWw",
        "outputId": "06092478-6661-4f7a-cd97-e9a3c05b58ee"
      },
      "source": [
        "data_train.describe()"
      ],
      "execution_count": null,
      "outputs": [
        {
          "output_type": "execute_result",
          "data": {
            "text/html": [
              "<div>\n",
              "<style scoped>\n",
              "    .dataframe tbody tr th:only-of-type {\n",
              "        vertical-align: middle;\n",
              "    }\n",
              "\n",
              "    .dataframe tbody tr th {\n",
              "        vertical-align: top;\n",
              "    }\n",
              "\n",
              "    .dataframe thead th {\n",
              "        text-align: right;\n",
              "    }\n",
              "</style>\n",
              "<table border=\"1\" class=\"dataframe\">\n",
              "  <thead>\n",
              "    <tr style=\"text-align: right;\">\n",
              "      <th></th>\n",
              "      <th>final.output.concentrate_ag</th>\n",
              "      <th>final.output.concentrate_pb</th>\n",
              "      <th>final.output.concentrate_sol</th>\n",
              "      <th>final.output.concentrate_au</th>\n",
              "      <th>final.output.recovery</th>\n",
              "      <th>final.output.tail_ag</th>\n",
              "      <th>final.output.tail_pb</th>\n",
              "      <th>final.output.tail_sol</th>\n",
              "      <th>final.output.tail_au</th>\n",
              "      <th>primary_cleaner.input.sulfate</th>\n",
              "      <th>primary_cleaner.input.depressant</th>\n",
              "      <th>primary_cleaner.input.feed_size</th>\n",
              "      <th>primary_cleaner.input.xanthate</th>\n",
              "      <th>primary_cleaner.output.concentrate_ag</th>\n",
              "      <th>primary_cleaner.output.concentrate_pb</th>\n",
              "      <th>primary_cleaner.output.concentrate_sol</th>\n",
              "      <th>primary_cleaner.output.concentrate_au</th>\n",
              "      <th>primary_cleaner.output.tail_ag</th>\n",
              "      <th>primary_cleaner.output.tail_pb</th>\n",
              "      <th>primary_cleaner.output.tail_sol</th>\n",
              "      <th>primary_cleaner.output.tail_au</th>\n",
              "      <th>primary_cleaner.state.floatbank8_a_air</th>\n",
              "      <th>primary_cleaner.state.floatbank8_a_level</th>\n",
              "      <th>primary_cleaner.state.floatbank8_b_air</th>\n",
              "      <th>primary_cleaner.state.floatbank8_b_level</th>\n",
              "      <th>primary_cleaner.state.floatbank8_c_air</th>\n",
              "      <th>primary_cleaner.state.floatbank8_c_level</th>\n",
              "      <th>primary_cleaner.state.floatbank8_d_air</th>\n",
              "      <th>primary_cleaner.state.floatbank8_d_level</th>\n",
              "      <th>rougher.calculation.sulfate_to_au_concentrate</th>\n",
              "      <th>rougher.calculation.floatbank10_sulfate_to_au_feed</th>\n",
              "      <th>rougher.calculation.floatbank11_sulfate_to_au_feed</th>\n",
              "      <th>rougher.calculation.au_pb_ratio</th>\n",
              "      <th>rougher.input.feed_ag</th>\n",
              "      <th>rougher.input.feed_pb</th>\n",
              "      <th>rougher.input.feed_rate</th>\n",
              "      <th>rougher.input.feed_size</th>\n",
              "      <th>rougher.input.feed_sol</th>\n",
              "      <th>rougher.input.feed_au</th>\n",
              "      <th>rougher.input.floatbank10_sulfate</th>\n",
              "      <th>rougher.input.floatbank10_xanthate</th>\n",
              "      <th>rougher.input.floatbank11_sulfate</th>\n",
              "      <th>rougher.input.floatbank11_xanthate</th>\n",
              "      <th>rougher.output.concentrate_ag</th>\n",
              "      <th>rougher.output.concentrate_pb</th>\n",
              "      <th>rougher.output.concentrate_sol</th>\n",
              "      <th>rougher.output.concentrate_au</th>\n",
              "      <th>rougher.output.recovery</th>\n",
              "      <th>rougher.output.tail_ag</th>\n",
              "      <th>rougher.output.tail_pb</th>\n",
              "      <th>rougher.output.tail_sol</th>\n",
              "      <th>rougher.output.tail_au</th>\n",
              "      <th>rougher.state.floatbank10_a_air</th>\n",
              "      <th>rougher.state.floatbank10_a_level</th>\n",
              "      <th>rougher.state.floatbank10_b_air</th>\n",
              "      <th>rougher.state.floatbank10_b_level</th>\n",
              "      <th>rougher.state.floatbank10_c_air</th>\n",
              "      <th>rougher.state.floatbank10_c_level</th>\n",
              "      <th>rougher.state.floatbank10_d_air</th>\n",
              "      <th>rougher.state.floatbank10_d_level</th>\n",
              "      <th>rougher.state.floatbank10_e_air</th>\n",
              "      <th>rougher.state.floatbank10_e_level</th>\n",
              "      <th>rougher.state.floatbank10_f_air</th>\n",
              "      <th>rougher.state.floatbank10_f_level</th>\n",
              "      <th>secondary_cleaner.output.tail_ag</th>\n",
              "      <th>secondary_cleaner.output.tail_pb</th>\n",
              "      <th>secondary_cleaner.output.tail_sol</th>\n",
              "      <th>secondary_cleaner.output.tail_au</th>\n",
              "      <th>secondary_cleaner.state.floatbank2_a_air</th>\n",
              "      <th>secondary_cleaner.state.floatbank2_a_level</th>\n",
              "      <th>secondary_cleaner.state.floatbank2_b_air</th>\n",
              "      <th>secondary_cleaner.state.floatbank2_b_level</th>\n",
              "      <th>secondary_cleaner.state.floatbank3_a_air</th>\n",
              "      <th>secondary_cleaner.state.floatbank3_a_level</th>\n",
              "      <th>secondary_cleaner.state.floatbank3_b_air</th>\n",
              "      <th>secondary_cleaner.state.floatbank3_b_level</th>\n",
              "      <th>secondary_cleaner.state.floatbank4_a_air</th>\n",
              "      <th>secondary_cleaner.state.floatbank4_a_level</th>\n",
              "      <th>secondary_cleaner.state.floatbank4_b_air</th>\n",
              "      <th>secondary_cleaner.state.floatbank4_b_level</th>\n",
              "      <th>secondary_cleaner.state.floatbank5_a_air</th>\n",
              "      <th>secondary_cleaner.state.floatbank5_a_level</th>\n",
              "      <th>secondary_cleaner.state.floatbank5_b_air</th>\n",
              "      <th>secondary_cleaner.state.floatbank5_b_level</th>\n",
              "      <th>secondary_cleaner.state.floatbank6_a_air</th>\n",
              "      <th>secondary_cleaner.state.floatbank6_a_level</th>\n",
              "    </tr>\n",
              "  </thead>\n",
              "  <tbody>\n",
              "    <tr>\n",
              "      <th>count</th>\n",
              "      <td>16788.000000</td>\n",
              "      <td>16788.000000</td>\n",
              "      <td>16490.000000</td>\n",
              "      <td>16789.000000</td>\n",
              "      <td>15339.000000</td>\n",
              "      <td>16794.000000</td>\n",
              "      <td>16677.000000</td>\n",
              "      <td>16715.000000</td>\n",
              "      <td>16794.000000</td>\n",
              "      <td>15553.000000</td>\n",
              "      <td>15598.000000</td>\n",
              "      <td>16860.000000</td>\n",
              "      <td>15875.000000</td>\n",
              "      <td>16778.000000</td>\n",
              "      <td>16502.000000</td>\n",
              "      <td>16224.000000</td>\n",
              "      <td>16778.000000</td>\n",
              "      <td>16777.000000</td>\n",
              "      <td>16761.000000</td>\n",
              "      <td>16579.000000</td>\n",
              "      <td>16777.000000</td>\n",
              "      <td>16820.000000</td>\n",
              "      <td>16827.000000</td>\n",
              "      <td>16820.000000</td>\n",
              "      <td>16833.000000</td>\n",
              "      <td>16822.000000</td>\n",
              "      <td>16833.000000</td>\n",
              "      <td>16821.000000</td>\n",
              "      <td>16833.000000</td>\n",
              "      <td>1.683300e+04</td>\n",
              "      <td>1.683300e+04</td>\n",
              "      <td>1.683300e+04</td>\n",
              "      <td>15618.000000</td>\n",
              "      <td>16778.000000</td>\n",
              "      <td>16632.000000</td>\n",
              "      <td>16347.000000</td>\n",
              "      <td>16443.000000</td>\n",
              "      <td>16568.000000</td>\n",
              "      <td>16777.000000</td>\n",
              "      <td>15816.000000</td>\n",
              "      <td>16514.000000</td>\n",
              "      <td>16237.000000</td>\n",
              "      <td>14956.000000</td>\n",
              "      <td>16778.000000</td>\n",
              "      <td>16778.000000</td>\n",
              "      <td>16698.000000</td>\n",
              "      <td>16778.000000</td>\n",
              "      <td>14287.000000</td>\n",
              "      <td>14610.000000</td>\n",
              "      <td>16778.000000</td>\n",
              "      <td>14611.000000</td>\n",
              "      <td>14611.000000</td>\n",
              "      <td>16807.000000</td>\n",
              "      <td>16807.000000</td>\n",
              "      <td>16807.000000</td>\n",
              "      <td>16807.000000</td>\n",
              "      <td>16807.000000</td>\n",
              "      <td>16814.000000</td>\n",
              "      <td>16802.000000</td>\n",
              "      <td>16809.000000</td>\n",
              "      <td>16257.000000</td>\n",
              "      <td>16809.000000</td>\n",
              "      <td>16802.000000</td>\n",
              "      <td>16802.000000</td>\n",
              "      <td>16776.000000</td>\n",
              "      <td>16764.000000</td>\n",
              "      <td>14874.000000</td>\n",
              "      <td>16778.000000</td>\n",
              "      <td>16497.000000</td>\n",
              "      <td>16751.000000</td>\n",
              "      <td>16705.000000</td>\n",
              "      <td>16748.000000</td>\n",
              "      <td>16763.000000</td>\n",
              "      <td>16747.000000</td>\n",
              "      <td>16752.000000</td>\n",
              "      <td>16750.000000</td>\n",
              "      <td>16731.000000</td>\n",
              "      <td>16747.000000</td>\n",
              "      <td>16768.000000</td>\n",
              "      <td>16767.000000</td>\n",
              "      <td>16775.000000</td>\n",
              "      <td>16775.000000</td>\n",
              "      <td>16775.000000</td>\n",
              "      <td>16776.000000</td>\n",
              "      <td>16757.000000</td>\n",
              "      <td>16775.000000</td>\n",
              "    </tr>\n",
              "    <tr>\n",
              "      <th>mean</th>\n",
              "      <td>4.716907</td>\n",
              "      <td>9.113559</td>\n",
              "      <td>8.301123</td>\n",
              "      <td>39.467217</td>\n",
              "      <td>67.213166</td>\n",
              "      <td>8.757048</td>\n",
              "      <td>2.360327</td>\n",
              "      <td>9.303932</td>\n",
              "      <td>2.687512</td>\n",
              "      <td>129.479789</td>\n",
              "      <td>8.625021</td>\n",
              "      <td>7.297285</td>\n",
              "      <td>0.843812</td>\n",
              "      <td>7.422640</td>\n",
              "      <td>8.620294</td>\n",
              "      <td>9.171453</td>\n",
              "      <td>29.164596</td>\n",
              "      <td>14.916716</td>\n",
              "      <td>3.165957</td>\n",
              "      <td>6.746209</td>\n",
              "      <td>3.590534</td>\n",
              "      <td>1521.291691</td>\n",
              "      <td>-505.811103</td>\n",
              "      <td>1523.880015</td>\n",
              "      <td>-507.346105</td>\n",
              "      <td>1514.351131</td>\n",
              "      <td>-507.094373</td>\n",
              "      <td>1468.599116</td>\n",
              "      <td>-501.835392</td>\n",
              "      <td>-1.137202e+04</td>\n",
              "      <td>3.784836e+03</td>\n",
              "      <td>2.017512e+03</td>\n",
              "      <td>2.327953</td>\n",
              "      <td>7.832347</td>\n",
              "      <td>3.218931</td>\n",
              "      <td>435.963431</td>\n",
              "      <td>58.676444</td>\n",
              "      <td>32.636662</td>\n",
              "      <td>7.170717</td>\n",
              "      <td>11.198142</td>\n",
              "      <td>5.366609</td>\n",
              "      <td>10.550080</td>\n",
              "      <td>5.792970</td>\n",
              "      <td>10.580475</td>\n",
              "      <td>6.880322</td>\n",
              "      <td>25.388996</td>\n",
              "      <td>17.401541</td>\n",
              "      <td>82.394201</td>\n",
              "      <td>5.566579</td>\n",
              "      <td>0.596493</td>\n",
              "      <td>17.865309</td>\n",
              "      <td>1.763930</td>\n",
              "      <td>1077.201302</td>\n",
              "      <td>-384.109359</td>\n",
              "      <td>1252.285954</td>\n",
              "      <td>-475.443395</td>\n",
              "      <td>1229.567445</td>\n",
              "      <td>-474.713811</td>\n",
              "      <td>1146.785992</td>\n",
              "      <td>-476.180417</td>\n",
              "      <td>1033.886871</td>\n",
              "      <td>-475.545309</td>\n",
              "      <td>983.384202</td>\n",
              "      <td>-475.980531</td>\n",
              "      <td>13.014971</td>\n",
              "      <td>5.320902</td>\n",
              "      <td>6.181742</td>\n",
              "      <td>3.935796</td>\n",
              "      <td>28.134535</td>\n",
              "      <td>-517.777116</td>\n",
              "      <td>23.619503</td>\n",
              "      <td>-519.562134</td>\n",
              "      <td>27.913358</td>\n",
              "      <td>-493.470026</td>\n",
              "      <td>21.663507</td>\n",
              "      <td>-501.521561</td>\n",
              "      <td>19.101874</td>\n",
              "      <td>-494.164481</td>\n",
              "      <td>14.778164</td>\n",
              "      <td>-476.600082</td>\n",
              "      <td>15.779488</td>\n",
              "      <td>-500.230146</td>\n",
              "      <td>12.377241</td>\n",
              "      <td>-498.956257</td>\n",
              "      <td>18.429208</td>\n",
              "      <td>-521.801826</td>\n",
              "    </tr>\n",
              "    <tr>\n",
              "      <th>std</th>\n",
              "      <td>2.096718</td>\n",
              "      <td>3.389495</td>\n",
              "      <td>3.825760</td>\n",
              "      <td>13.917227</td>\n",
              "      <td>11.960446</td>\n",
              "      <td>3.634103</td>\n",
              "      <td>1.215576</td>\n",
              "      <td>4.263208</td>\n",
              "      <td>1.272757</td>\n",
              "      <td>45.386931</td>\n",
              "      <td>3.698633</td>\n",
              "      <td>0.619166</td>\n",
              "      <td>0.419098</td>\n",
              "      <td>3.105117</td>\n",
              "      <td>3.815415</td>\n",
              "      <td>4.901822</td>\n",
              "      <td>10.983718</td>\n",
              "      <td>5.940559</td>\n",
              "      <td>1.747066</td>\n",
              "      <td>2.999423</td>\n",
              "      <td>2.028115</td>\n",
              "      <td>380.064453</td>\n",
              "      <td>77.640285</td>\n",
              "      <td>381.245324</td>\n",
              "      <td>79.830738</td>\n",
              "      <td>396.493106</td>\n",
              "      <td>78.823157</td>\n",
              "      <td>444.329353</td>\n",
              "      <td>87.257010</td>\n",
              "      <td>5.754320e+06</td>\n",
              "      <td>7.088720e+04</td>\n",
              "      <td>4.836941e+04</td>\n",
              "      <td>0.899125</td>\n",
              "      <td>3.139014</td>\n",
              "      <td>1.477263</td>\n",
              "      <td>156.592162</td>\n",
              "      <td>23.922591</td>\n",
              "      <td>11.661981</td>\n",
              "      <td>3.002113</td>\n",
              "      <td>3.964080</td>\n",
              "      <td>1.940766</td>\n",
              "      <td>4.560428</td>\n",
              "      <td>1.294180</td>\n",
              "      <td>4.451490</td>\n",
              "      <td>2.928757</td>\n",
              "      <td>10.400528</td>\n",
              "      <td>6.921875</td>\n",
              "      <td>15.096808</td>\n",
              "      <td>1.045456</td>\n",
              "      <td>0.330819</td>\n",
              "      <td>3.455588</td>\n",
              "      <td>0.731518</td>\n",
              "      <td>291.800894</td>\n",
              "      <td>112.408685</td>\n",
              "      <td>331.076715</td>\n",
              "      <td>70.051458</td>\n",
              "      <td>344.840251</td>\n",
              "      <td>67.065122</td>\n",
              "      <td>327.311834</td>\n",
              "      <td>64.118377</td>\n",
              "      <td>293.456164</td>\n",
              "      <td>68.781915</td>\n",
              "      <td>275.426261</td>\n",
              "      <td>70.132801</td>\n",
              "      <td>5.960323</td>\n",
              "      <td>3.191103</td>\n",
              "      <td>4.460622</td>\n",
              "      <td>2.675785</td>\n",
              "      <td>8.320744</td>\n",
              "      <td>89.551883</td>\n",
              "      <td>8.144236</td>\n",
              "      <td>89.374849</td>\n",
              "      <td>8.170477</td>\n",
              "      <td>85.296428</td>\n",
              "      <td>6.738952</td>\n",
              "      <td>74.723250</td>\n",
              "      <td>6.883163</td>\n",
              "      <td>84.803334</td>\n",
              "      <td>5.999149</td>\n",
              "      <td>89.381172</td>\n",
              "      <td>6.834703</td>\n",
              "      <td>76.983542</td>\n",
              "      <td>6.219989</td>\n",
              "      <td>82.146207</td>\n",
              "      <td>6.958294</td>\n",
              "      <td>77.170888</td>\n",
              "    </tr>\n",
              "    <tr>\n",
              "      <th>min</th>\n",
              "      <td>0.000000</td>\n",
              "      <td>0.000000</td>\n",
              "      <td>0.000000</td>\n",
              "      <td>0.000000</td>\n",
              "      <td>0.000000</td>\n",
              "      <td>0.000000</td>\n",
              "      <td>0.000000</td>\n",
              "      <td>0.000000</td>\n",
              "      <td>0.000000</td>\n",
              "      <td>0.000003</td>\n",
              "      <td>0.000000</td>\n",
              "      <td>1.080000</td>\n",
              "      <td>0.000005</td>\n",
              "      <td>0.000000</td>\n",
              "      <td>0.000000</td>\n",
              "      <td>0.000000</td>\n",
              "      <td>0.000000</td>\n",
              "      <td>0.000000</td>\n",
              "      <td>0.000000</td>\n",
              "      <td>0.000000</td>\n",
              "      <td>0.000000</td>\n",
              "      <td>0.000000</td>\n",
              "      <td>-800.037388</td>\n",
              "      <td>0.000000</td>\n",
              "      <td>-800.409770</td>\n",
              "      <td>0.000000</td>\n",
              "      <td>-800.362914</td>\n",
              "      <td>0.000000</td>\n",
              "      <td>-800.166222</td>\n",
              "      <td>-6.643891e+08</td>\n",
              "      <td>-2.023459e+06</td>\n",
              "      <td>-4.014502e+06</td>\n",
              "      <td>-0.010548</td>\n",
              "      <td>0.000000</td>\n",
              "      <td>0.000000</td>\n",
              "      <td>0.000044</td>\n",
              "      <td>9.659576</td>\n",
              "      <td>0.000000</td>\n",
              "      <td>0.000000</td>\n",
              "      <td>0.000002</td>\n",
              "      <td>0.000003</td>\n",
              "      <td>0.000049</td>\n",
              "      <td>0.000010</td>\n",
              "      <td>0.000000</td>\n",
              "      <td>0.000000</td>\n",
              "      <td>0.000000</td>\n",
              "      <td>0.000000</td>\n",
              "      <td>0.000000</td>\n",
              "      <td>0.594562</td>\n",
              "      <td>0.000000</td>\n",
              "      <td>10.014648</td>\n",
              "      <td>0.020676</td>\n",
              "      <td>-0.345168</td>\n",
              "      <td>-658.223080</td>\n",
              "      <td>-0.759568</td>\n",
              "      <td>-650.437575</td>\n",
              "      <td>-0.378521</td>\n",
              "      <td>-650.151190</td>\n",
              "      <td>-1.197435</td>\n",
              "      <td>-649.300693</td>\n",
              "      <td>-2.163619</td>\n",
              "      <td>-650.196204</td>\n",
              "      <td>-2.636171</td>\n",
              "      <td>-650.072915</td>\n",
              "      <td>0.000000</td>\n",
              "      <td>0.000000</td>\n",
              "      <td>0.000000</td>\n",
              "      <td>0.000000</td>\n",
              "      <td>0.000000</td>\n",
              "      <td>-799.841677</td>\n",
              "      <td>0.000000</td>\n",
              "      <td>-799.967956</td>\n",
              "      <td>0.000000</td>\n",
              "      <td>-799.926254</td>\n",
              "      <td>0.000000</td>\n",
              "      <td>-809.421923</td>\n",
              "      <td>0.000000</td>\n",
              "      <td>-799.920713</td>\n",
              "      <td>0.000000</td>\n",
              "      <td>-800.021781</td>\n",
              "      <td>-0.423260</td>\n",
              "      <td>-799.741097</td>\n",
              "      <td>0.427084</td>\n",
              "      <td>-800.258209</td>\n",
              "      <td>0.024270</td>\n",
              "      <td>-810.473526</td>\n",
              "    </tr>\n",
              "    <tr>\n",
              "      <th>25%</th>\n",
              "      <td>3.971262</td>\n",
              "      <td>8.825748</td>\n",
              "      <td>6.939185</td>\n",
              "      <td>42.055722</td>\n",
              "      <td>62.625685</td>\n",
              "      <td>7.610544</td>\n",
              "      <td>1.641604</td>\n",
              "      <td>7.870275</td>\n",
              "      <td>2.172953</td>\n",
              "      <td>103.064021</td>\n",
              "      <td>6.004886</td>\n",
              "      <td>6.940000</td>\n",
              "      <td>0.568934</td>\n",
              "      <td>6.612584</td>\n",
              "      <td>7.146794</td>\n",
              "      <td>6.477601</td>\n",
              "      <td>29.631129</td>\n",
              "      <td>13.283872</td>\n",
              "      <td>2.162262</td>\n",
              "      <td>5.530088</td>\n",
              "      <td>2.664223</td>\n",
              "      <td>1503.883158</td>\n",
              "      <td>-500.414946</td>\n",
              "      <td>1502.956269</td>\n",
              "      <td>-500.491143</td>\n",
              "      <td>1500.685486</td>\n",
              "      <td>-500.859360</td>\n",
              "      <td>1418.756530</td>\n",
              "      <td>-500.643616</td>\n",
              "      <td>3.898865e+04</td>\n",
              "      <td>2.502308e+03</td>\n",
              "      <td>2.498158e+03</td>\n",
              "      <td>1.979046</td>\n",
              "      <td>6.889426</td>\n",
              "      <td>2.551143</td>\n",
              "      <td>396.667936</td>\n",
              "      <td>47.575879</td>\n",
              "      <td>32.170423</td>\n",
              "      <td>6.203083</td>\n",
              "      <td>9.366078</td>\n",
              "      <td>4.802531</td>\n",
              "      <td>8.903492</td>\n",
              "      <td>5.097006</td>\n",
              "      <td>9.970467</td>\n",
              "      <td>6.346373</td>\n",
              "      <td>24.792988</td>\n",
              "      <td>17.443663</td>\n",
              "      <td>79.818372</td>\n",
              "      <td>4.918713</td>\n",
              "      <td>0.413711</td>\n",
              "      <td>15.646980</td>\n",
              "      <td>1.311610</td>\n",
              "      <td>999.636979</td>\n",
              "      <td>-499.908427</td>\n",
              "      <td>1196.415722</td>\n",
              "      <td>-500.284895</td>\n",
              "      <td>1100.084257</td>\n",
              "      <td>-500.329171</td>\n",
              "      <td>1044.848978</td>\n",
              "      <td>-500.594910</td>\n",
              "      <td>949.615568</td>\n",
              "      <td>-500.395113</td>\n",
              "      <td>900.029475</td>\n",
              "      <td>-500.738649</td>\n",
              "      <td>11.367185</td>\n",
              "      <td>3.466609</td>\n",
              "      <td>2.045824</td>\n",
              "      <td>2.820390</td>\n",
              "      <td>25.045244</td>\n",
              "      <td>-500.333800</td>\n",
              "      <td>20.110141</td>\n",
              "      <td>-500.348178</td>\n",
              "      <td>24.972364</td>\n",
              "      <td>-500.236661</td>\n",
              "      <td>19.007706</td>\n",
              "      <td>-500.141064</td>\n",
              "      <td>14.508299</td>\n",
              "      <td>-500.837689</td>\n",
              "      <td>10.741388</td>\n",
              "      <td>-500.269182</td>\n",
              "      <td>10.977713</td>\n",
              "      <td>-500.530594</td>\n",
              "      <td>8.925586</td>\n",
              "      <td>-500.147603</td>\n",
              "      <td>13.977626</td>\n",
              "      <td>-501.080595</td>\n",
              "    </tr>\n",
              "    <tr>\n",
              "      <th>50%</th>\n",
              "      <td>4.869346</td>\n",
              "      <td>10.065316</td>\n",
              "      <td>8.557228</td>\n",
              "      <td>44.498874</td>\n",
              "      <td>67.644601</td>\n",
              "      <td>9.220393</td>\n",
              "      <td>2.453690</td>\n",
              "      <td>10.021968</td>\n",
              "      <td>2.781132</td>\n",
              "      <td>131.783108</td>\n",
              "      <td>8.016531</td>\n",
              "      <td>7.285000</td>\n",
              "      <td>0.844271</td>\n",
              "      <td>7.997143</td>\n",
              "      <td>9.618910</td>\n",
              "      <td>9.295954</td>\n",
              "      <td>32.648867</td>\n",
              "      <td>15.554321</td>\n",
              "      <td>3.082745</td>\n",
              "      <td>7.380058</td>\n",
              "      <td>3.404941</td>\n",
              "      <td>1601.139322</td>\n",
              "      <td>-499.951772</td>\n",
              "      <td>1601.125754</td>\n",
              "      <td>-499.985447</td>\n",
              "      <td>1600.908740</td>\n",
              "      <td>-499.950634</td>\n",
              "      <td>1599.709469</td>\n",
              "      <td>-499.908024</td>\n",
              "      <td>4.316793e+04</td>\n",
              "      <td>2.854641e+03</td>\n",
              "      <td>2.815062e+03</td>\n",
              "      <td>2.229144</td>\n",
              "      <td>7.938193</td>\n",
              "      <td>3.297050</td>\n",
              "      <td>488.629971</td>\n",
              "      <td>54.104257</td>\n",
              "      <td>36.354079</td>\n",
              "      <td>7.443530</td>\n",
              "      <td>11.179351</td>\n",
              "      <td>5.767015</td>\n",
              "      <td>11.001027</td>\n",
              "      <td>5.995942</td>\n",
              "      <td>11.459862</td>\n",
              "      <td>7.583773</td>\n",
              "      <td>28.797785</td>\n",
              "      <td>19.644663</td>\n",
              "      <td>85.235997</td>\n",
              "      <td>5.718038</td>\n",
              "      <td>0.594959</td>\n",
              "      <td>17.996971</td>\n",
              "      <td>1.747907</td>\n",
              "      <td>1001.310190</td>\n",
              "      <td>-300.233403</td>\n",
              "      <td>1299.649429</td>\n",
              "      <td>-499.837368</td>\n",
              "      <td>1298.324087</td>\n",
              "      <td>-499.775884</td>\n",
              "      <td>1199.211289</td>\n",
              "      <td>-499.640478</td>\n",
              "      <td>1049.693712</td>\n",
              "      <td>-499.724295</td>\n",
              "      <td>999.828611</td>\n",
              "      <td>-499.576077</td>\n",
              "      <td>14.773117</td>\n",
              "      <td>5.164745</td>\n",
              "      <td>6.194420</td>\n",
              "      <td>3.863798</td>\n",
              "      <td>29.988519</td>\n",
              "      <td>-499.986132</td>\n",
              "      <td>26.981647</td>\n",
              "      <td>-500.037663</td>\n",
              "      <td>27.999437</td>\n",
              "      <td>-499.908346</td>\n",
              "      <td>21.996298</td>\n",
              "      <td>-499.980536</td>\n",
              "      <td>19.986958</td>\n",
              "      <td>-499.778379</td>\n",
              "      <td>14.943933</td>\n",
              "      <td>-499.593286</td>\n",
              "      <td>15.998340</td>\n",
              "      <td>-499.784231</td>\n",
              "      <td>11.092839</td>\n",
              "      <td>-499.933330</td>\n",
              "      <td>18.034960</td>\n",
              "      <td>-500.109898</td>\n",
              "    </tr>\n",
              "    <tr>\n",
              "      <th>75%</th>\n",
              "      <td>5.821176</td>\n",
              "      <td>11.054809</td>\n",
              "      <td>10.289741</td>\n",
              "      <td>45.976222</td>\n",
              "      <td>72.824595</td>\n",
              "      <td>10.971110</td>\n",
              "      <td>3.192404</td>\n",
              "      <td>11.648573</td>\n",
              "      <td>3.416936</td>\n",
              "      <td>159.539839</td>\n",
              "      <td>11.437819</td>\n",
              "      <td>7.700000</td>\n",
              "      <td>1.097080</td>\n",
              "      <td>9.399463</td>\n",
              "      <td>11.131134</td>\n",
              "      <td>12.747802</td>\n",
              "      <td>35.011318</td>\n",
              "      <td>18.310868</td>\n",
              "      <td>4.190997</td>\n",
              "      <td>8.728101</td>\n",
              "      <td>4.467152</td>\n",
              "      <td>1699.304472</td>\n",
              "      <td>-499.412584</td>\n",
              "      <td>1699.997294</td>\n",
              "      <td>-499.436173</td>\n",
              "      <td>1700.221778</td>\n",
              "      <td>-498.901452</td>\n",
              "      <td>1699.222198</td>\n",
              "      <td>-498.716100</td>\n",
              "      <td>4.781106e+04</td>\n",
              "      <td>3.644408e+03</td>\n",
              "      <td>3.511394e+03</td>\n",
              "      <td>2.637776</td>\n",
              "      <td>9.829857</td>\n",
              "      <td>4.181842</td>\n",
              "      <td>540.548376</td>\n",
              "      <td>65.051064</td>\n",
              "      <td>39.043343</td>\n",
              "      <td>8.965193</td>\n",
              "      <td>13.203315</td>\n",
              "      <td>6.501621</td>\n",
              "      <td>13.004085</td>\n",
              "      <td>6.695277</td>\n",
              "      <td>13.280031</td>\n",
              "      <td>8.503498</td>\n",
              "      <td>31.542677</td>\n",
              "      <td>21.224486</td>\n",
              "      <td>90.131691</td>\n",
              "      <td>6.308490</td>\n",
              "      <td>0.779544</td>\n",
              "      <td>19.933255</td>\n",
              "      <td>2.190839</td>\n",
              "      <td>1299.577654</td>\n",
              "      <td>-299.976784</td>\n",
              "      <td>1432.326657</td>\n",
              "      <td>-400.865979</td>\n",
              "      <td>1448.560325</td>\n",
              "      <td>-401.277897</td>\n",
              "      <td>1307.829439</td>\n",
              "      <td>-402.354963</td>\n",
              "      <td>1199.711798</td>\n",
              "      <td>-401.349388</td>\n",
              "      <td>1099.734617</td>\n",
              "      <td>-402.026493</td>\n",
              "      <td>17.134159</td>\n",
              "      <td>7.562139</td>\n",
              "      <td>10.252499</td>\n",
              "      <td>4.845187</td>\n",
              "      <td>34.771800</td>\n",
              "      <td>-499.620568</td>\n",
              "      <td>28.094066</td>\n",
              "      <td>-499.780945</td>\n",
              "      <td>34.967470</td>\n",
              "      <td>-495.885262</td>\n",
              "      <td>25.071338</td>\n",
              "      <td>-499.778014</td>\n",
              "      <td>24.983961</td>\n",
              "      <td>-494.648754</td>\n",
              "      <td>20.023751</td>\n",
              "      <td>-400.137948</td>\n",
              "      <td>20.000701</td>\n",
              "      <td>-496.531781</td>\n",
              "      <td>15.979467</td>\n",
              "      <td>-498.418000</td>\n",
              "      <td>24.984992</td>\n",
              "      <td>-499.565540</td>\n",
              "    </tr>\n",
              "    <tr>\n",
              "      <th>max</th>\n",
              "      <td>16.001945</td>\n",
              "      <td>17.031899</td>\n",
              "      <td>18.124851</td>\n",
              "      <td>53.611374</td>\n",
              "      <td>100.000000</td>\n",
              "      <td>19.552149</td>\n",
              "      <td>6.086532</td>\n",
              "      <td>22.317730</td>\n",
              "      <td>9.789625</td>\n",
              "      <td>251.999948</td>\n",
              "      <td>40.000000</td>\n",
              "      <td>10.470000</td>\n",
              "      <td>6.027907</td>\n",
              "      <td>16.081632</td>\n",
              "      <td>17.081278</td>\n",
              "      <td>22.280845</td>\n",
              "      <td>45.933934</td>\n",
              "      <td>29.459575</td>\n",
              "      <td>9.634565</td>\n",
              "      <td>20.620833</td>\n",
              "      <td>18.528821</td>\n",
              "      <td>2079.531340</td>\n",
              "      <td>-330.134203</td>\n",
              "      <td>2361.414084</td>\n",
              "      <td>-336.237097</td>\n",
              "      <td>2042.072583</td>\n",
              "      <td>-221.857683</td>\n",
              "      <td>2398.903635</td>\n",
              "      <td>-20.654343</td>\n",
              "      <td>8.332404e+07</td>\n",
              "      <td>6.211433e+06</td>\n",
              "      <td>1.537564e+06</td>\n",
              "      <td>39.379272</td>\n",
              "      <td>14.869652</td>\n",
              "      <td>7.142594</td>\n",
              "      <td>717.508837</td>\n",
              "      <td>484.967466</td>\n",
              "      <td>48.363177</td>\n",
              "      <td>14.093363</td>\n",
              "      <td>36.118275</td>\n",
              "      <td>31.493331</td>\n",
              "      <td>37.980648</td>\n",
              "      <td>9.698407</td>\n",
              "      <td>24.480271</td>\n",
              "      <td>18.394042</td>\n",
              "      <td>40.089993</td>\n",
              "      <td>28.522811</td>\n",
              "      <td>100.000000</td>\n",
              "      <td>12.719177</td>\n",
              "      <td>3.778064</td>\n",
              "      <td>66.117188</td>\n",
              "      <td>9.688980</td>\n",
              "      <td>1521.980372</td>\n",
              "      <td>-19.383282</td>\n",
              "      <td>1809.194008</td>\n",
              "      <td>9.457822</td>\n",
              "      <td>2499.129174</td>\n",
              "      <td>-10.242658</td>\n",
              "      <td>2077.222699</td>\n",
              "      <td>21.365035</td>\n",
              "      <td>2330.310425</td>\n",
              "      <td>-2.406020</td>\n",
              "      <td>1950.493751</td>\n",
              "      <td>-21.745268</td>\n",
              "      <td>23.264738</td>\n",
              "      <td>17.042505</td>\n",
              "      <td>33.058594</td>\n",
              "      <td>26.811643</td>\n",
              "      <td>60.000000</td>\n",
              "      <td>-127.875565</td>\n",
              "      <td>51.093216</td>\n",
              "      <td>-212.064665</td>\n",
              "      <td>60.000000</td>\n",
              "      <td>-191.678810</td>\n",
              "      <td>39.487633</td>\n",
              "      <td>-139.771483</td>\n",
              "      <td>60.000000</td>\n",
              "      <td>-127.692333</td>\n",
              "      <td>28.003828</td>\n",
              "      <td>-71.472472</td>\n",
              "      <td>63.116298</td>\n",
              "      <td>-275.073125</td>\n",
              "      <td>39.846228</td>\n",
              "      <td>-120.190931</td>\n",
              "      <td>54.876806</td>\n",
              "      <td>-39.784927</td>\n",
              "    </tr>\n",
              "  </tbody>\n",
              "</table>\n",
              "</div>"
            ],
            "text/plain": [
              "       final.output.concentrate_ag  final.output.concentrate_pb  \\\n",
              "count                 16788.000000                 16788.000000   \n",
              "mean                      4.716907                     9.113559   \n",
              "std                       2.096718                     3.389495   \n",
              "min                       0.000000                     0.000000   \n",
              "25%                       3.971262                     8.825748   \n",
              "50%                       4.869346                    10.065316   \n",
              "75%                       5.821176                    11.054809   \n",
              "max                      16.001945                    17.031899   \n",
              "\n",
              "       final.output.concentrate_sol  final.output.concentrate_au  \\\n",
              "count                  16490.000000                 16789.000000   \n",
              "mean                       8.301123                    39.467217   \n",
              "std                        3.825760                    13.917227   \n",
              "min                        0.000000                     0.000000   \n",
              "25%                        6.939185                    42.055722   \n",
              "50%                        8.557228                    44.498874   \n",
              "75%                       10.289741                    45.976222   \n",
              "max                       18.124851                    53.611374   \n",
              "\n",
              "       final.output.recovery  final.output.tail_ag  final.output.tail_pb  \\\n",
              "count           15339.000000          16794.000000          16677.000000   \n",
              "mean               67.213166              8.757048              2.360327   \n",
              "std                11.960446              3.634103              1.215576   \n",
              "min                 0.000000              0.000000              0.000000   \n",
              "25%                62.625685              7.610544              1.641604   \n",
              "50%                67.644601              9.220393              2.453690   \n",
              "75%                72.824595             10.971110              3.192404   \n",
              "max               100.000000             19.552149              6.086532   \n",
              "\n",
              "       final.output.tail_sol  final.output.tail_au  \\\n",
              "count           16715.000000          16794.000000   \n",
              "mean                9.303932              2.687512   \n",
              "std                 4.263208              1.272757   \n",
              "min                 0.000000              0.000000   \n",
              "25%                 7.870275              2.172953   \n",
              "50%                10.021968              2.781132   \n",
              "75%                11.648573              3.416936   \n",
              "max                22.317730              9.789625   \n",
              "\n",
              "       primary_cleaner.input.sulfate  primary_cleaner.input.depressant  \\\n",
              "count                   15553.000000                      15598.000000   \n",
              "mean                      129.479789                          8.625021   \n",
              "std                        45.386931                          3.698633   \n",
              "min                         0.000003                          0.000000   \n",
              "25%                       103.064021                          6.004886   \n",
              "50%                       131.783108                          8.016531   \n",
              "75%                       159.539839                         11.437819   \n",
              "max                       251.999948                         40.000000   \n",
              "\n",
              "       primary_cleaner.input.feed_size  primary_cleaner.input.xanthate  \\\n",
              "count                     16860.000000                    15875.000000   \n",
              "mean                          7.297285                        0.843812   \n",
              "std                           0.619166                        0.419098   \n",
              "min                           1.080000                        0.000005   \n",
              "25%                           6.940000                        0.568934   \n",
              "50%                           7.285000                        0.844271   \n",
              "75%                           7.700000                        1.097080   \n",
              "max                          10.470000                        6.027907   \n",
              "\n",
              "       primary_cleaner.output.concentrate_ag  \\\n",
              "count                           16778.000000   \n",
              "mean                                7.422640   \n",
              "std                                 3.105117   \n",
              "min                                 0.000000   \n",
              "25%                                 6.612584   \n",
              "50%                                 7.997143   \n",
              "75%                                 9.399463   \n",
              "max                                16.081632   \n",
              "\n",
              "       primary_cleaner.output.concentrate_pb  \\\n",
              "count                           16502.000000   \n",
              "mean                                8.620294   \n",
              "std                                 3.815415   \n",
              "min                                 0.000000   \n",
              "25%                                 7.146794   \n",
              "50%                                 9.618910   \n",
              "75%                                11.131134   \n",
              "max                                17.081278   \n",
              "\n",
              "       primary_cleaner.output.concentrate_sol  \\\n",
              "count                            16224.000000   \n",
              "mean                                 9.171453   \n",
              "std                                  4.901822   \n",
              "min                                  0.000000   \n",
              "25%                                  6.477601   \n",
              "50%                                  9.295954   \n",
              "75%                                 12.747802   \n",
              "max                                 22.280845   \n",
              "\n",
              "       primary_cleaner.output.concentrate_au  primary_cleaner.output.tail_ag  \\\n",
              "count                           16778.000000                    16777.000000   \n",
              "mean                               29.164596                       14.916716   \n",
              "std                                10.983718                        5.940559   \n",
              "min                                 0.000000                        0.000000   \n",
              "25%                                29.631129                       13.283872   \n",
              "50%                                32.648867                       15.554321   \n",
              "75%                                35.011318                       18.310868   \n",
              "max                                45.933934                       29.459575   \n",
              "\n",
              "       primary_cleaner.output.tail_pb  primary_cleaner.output.tail_sol  \\\n",
              "count                    16761.000000                     16579.000000   \n",
              "mean                         3.165957                         6.746209   \n",
              "std                          1.747066                         2.999423   \n",
              "min                          0.000000                         0.000000   \n",
              "25%                          2.162262                         5.530088   \n",
              "50%                          3.082745                         7.380058   \n",
              "75%                          4.190997                         8.728101   \n",
              "max                          9.634565                        20.620833   \n",
              "\n",
              "       primary_cleaner.output.tail_au  primary_cleaner.state.floatbank8_a_air  \\\n",
              "count                    16777.000000                            16820.000000   \n",
              "mean                         3.590534                             1521.291691   \n",
              "std                          2.028115                              380.064453   \n",
              "min                          0.000000                                0.000000   \n",
              "25%                          2.664223                             1503.883158   \n",
              "50%                          3.404941                             1601.139322   \n",
              "75%                          4.467152                             1699.304472   \n",
              "max                         18.528821                             2079.531340   \n",
              "\n",
              "       primary_cleaner.state.floatbank8_a_level  \\\n",
              "count                              16827.000000   \n",
              "mean                                -505.811103   \n",
              "std                                   77.640285   \n",
              "min                                 -800.037388   \n",
              "25%                                 -500.414946   \n",
              "50%                                 -499.951772   \n",
              "75%                                 -499.412584   \n",
              "max                                 -330.134203   \n",
              "\n",
              "       primary_cleaner.state.floatbank8_b_air  \\\n",
              "count                            16820.000000   \n",
              "mean                              1523.880015   \n",
              "std                                381.245324   \n",
              "min                                  0.000000   \n",
              "25%                               1502.956269   \n",
              "50%                               1601.125754   \n",
              "75%                               1699.997294   \n",
              "max                               2361.414084   \n",
              "\n",
              "       primary_cleaner.state.floatbank8_b_level  \\\n",
              "count                              16833.000000   \n",
              "mean                                -507.346105   \n",
              "std                                   79.830738   \n",
              "min                                 -800.409770   \n",
              "25%                                 -500.491143   \n",
              "50%                                 -499.985447   \n",
              "75%                                 -499.436173   \n",
              "max                                 -336.237097   \n",
              "\n",
              "       primary_cleaner.state.floatbank8_c_air  \\\n",
              "count                            16822.000000   \n",
              "mean                              1514.351131   \n",
              "std                                396.493106   \n",
              "min                                  0.000000   \n",
              "25%                               1500.685486   \n",
              "50%                               1600.908740   \n",
              "75%                               1700.221778   \n",
              "max                               2042.072583   \n",
              "\n",
              "       primary_cleaner.state.floatbank8_c_level  \\\n",
              "count                              16833.000000   \n",
              "mean                                -507.094373   \n",
              "std                                   78.823157   \n",
              "min                                 -800.362914   \n",
              "25%                                 -500.859360   \n",
              "50%                                 -499.950634   \n",
              "75%                                 -498.901452   \n",
              "max                                 -221.857683   \n",
              "\n",
              "       primary_cleaner.state.floatbank8_d_air  \\\n",
              "count                            16821.000000   \n",
              "mean                              1468.599116   \n",
              "std                                444.329353   \n",
              "min                                  0.000000   \n",
              "25%                               1418.756530   \n",
              "50%                               1599.709469   \n",
              "75%                               1699.222198   \n",
              "max                               2398.903635   \n",
              "\n",
              "       primary_cleaner.state.floatbank8_d_level  \\\n",
              "count                              16833.000000   \n",
              "mean                                -501.835392   \n",
              "std                                   87.257010   \n",
              "min                                 -800.166222   \n",
              "25%                                 -500.643616   \n",
              "50%                                 -499.908024   \n",
              "75%                                 -498.716100   \n",
              "max                                  -20.654343   \n",
              "\n",
              "       rougher.calculation.sulfate_to_au_concentrate  \\\n",
              "count                                   1.683300e+04   \n",
              "mean                                   -1.137202e+04   \n",
              "std                                     5.754320e+06   \n",
              "min                                    -6.643891e+08   \n",
              "25%                                     3.898865e+04   \n",
              "50%                                     4.316793e+04   \n",
              "75%                                     4.781106e+04   \n",
              "max                                     8.332404e+07   \n",
              "\n",
              "       rougher.calculation.floatbank10_sulfate_to_au_feed  \\\n",
              "count                                       1.683300e+04    \n",
              "mean                                        3.784836e+03    \n",
              "std                                         7.088720e+04    \n",
              "min                                        -2.023459e+06    \n",
              "25%                                         2.502308e+03    \n",
              "50%                                         2.854641e+03    \n",
              "75%                                         3.644408e+03    \n",
              "max                                         6.211433e+06    \n",
              "\n",
              "       rougher.calculation.floatbank11_sulfate_to_au_feed  \\\n",
              "count                                       1.683300e+04    \n",
              "mean                                        2.017512e+03    \n",
              "std                                         4.836941e+04    \n",
              "min                                        -4.014502e+06    \n",
              "25%                                         2.498158e+03    \n",
              "50%                                         2.815062e+03    \n",
              "75%                                         3.511394e+03    \n",
              "max                                         1.537564e+06    \n",
              "\n",
              "       rougher.calculation.au_pb_ratio  rougher.input.feed_ag  \\\n",
              "count                     15618.000000           16778.000000   \n",
              "mean                          2.327953               7.832347   \n",
              "std                           0.899125               3.139014   \n",
              "min                          -0.010548               0.000000   \n",
              "25%                           1.979046               6.889426   \n",
              "50%                           2.229144               7.938193   \n",
              "75%                           2.637776               9.829857   \n",
              "max                          39.379272              14.869652   \n",
              "\n",
              "       rougher.input.feed_pb  rougher.input.feed_rate  \\\n",
              "count           16632.000000             16347.000000   \n",
              "mean                3.218931               435.963431   \n",
              "std                 1.477263               156.592162   \n",
              "min                 0.000000                 0.000044   \n",
              "25%                 2.551143               396.667936   \n",
              "50%                 3.297050               488.629971   \n",
              "75%                 4.181842               540.548376   \n",
              "max                 7.142594               717.508837   \n",
              "\n",
              "       rougher.input.feed_size  rougher.input.feed_sol  rougher.input.feed_au  \\\n",
              "count             16443.000000            16568.000000           16777.000000   \n",
              "mean                 58.676444               32.636662               7.170717   \n",
              "std                  23.922591               11.661981               3.002113   \n",
              "min                   9.659576                0.000000               0.000000   \n",
              "25%                  47.575879               32.170423               6.203083   \n",
              "50%                  54.104257               36.354079               7.443530   \n",
              "75%                  65.051064               39.043343               8.965193   \n",
              "max                 484.967466               48.363177              14.093363   \n",
              "\n",
              "       rougher.input.floatbank10_sulfate  rougher.input.floatbank10_xanthate  \\\n",
              "count                       15816.000000                        16514.000000   \n",
              "mean                           11.198142                            5.366609   \n",
              "std                             3.964080                            1.940766   \n",
              "min                             0.000002                            0.000003   \n",
              "25%                             9.366078                            4.802531   \n",
              "50%                            11.179351                            5.767015   \n",
              "75%                            13.203315                            6.501621   \n",
              "max                            36.118275                           31.493331   \n",
              "\n",
              "       rougher.input.floatbank11_sulfate  rougher.input.floatbank11_xanthate  \\\n",
              "count                       16237.000000                        14956.000000   \n",
              "mean                           10.550080                            5.792970   \n",
              "std                             4.560428                            1.294180   \n",
              "min                             0.000049                            0.000010   \n",
              "25%                             8.903492                            5.097006   \n",
              "50%                            11.001027                            5.995942   \n",
              "75%                            13.004085                            6.695277   \n",
              "max                            37.980648                            9.698407   \n",
              "\n",
              "       rougher.output.concentrate_ag  rougher.output.concentrate_pb  \\\n",
              "count                   16778.000000                   16778.000000   \n",
              "mean                       10.580475                       6.880322   \n",
              "std                         4.451490                       2.928757   \n",
              "min                         0.000000                       0.000000   \n",
              "25%                         9.970467                       6.346373   \n",
              "50%                        11.459862                       7.583773   \n",
              "75%                        13.280031                       8.503498   \n",
              "max                        24.480271                      18.394042   \n",
              "\n",
              "       rougher.output.concentrate_sol  rougher.output.concentrate_au  \\\n",
              "count                    16698.000000                   16778.000000   \n",
              "mean                        25.388996                      17.401541   \n",
              "std                         10.400528                       6.921875   \n",
              "min                          0.000000                       0.000000   \n",
              "25%                         24.792988                      17.443663   \n",
              "50%                         28.797785                      19.644663   \n",
              "75%                         31.542677                      21.224486   \n",
              "max                         40.089993                      28.522811   \n",
              "\n",
              "       rougher.output.recovery  rougher.output.tail_ag  \\\n",
              "count             14287.000000            14610.000000   \n",
              "mean                 82.394201                5.566579   \n",
              "std                  15.096808                1.045456   \n",
              "min                   0.000000                0.594562   \n",
              "25%                  79.818372                4.918713   \n",
              "50%                  85.235997                5.718038   \n",
              "75%                  90.131691                6.308490   \n",
              "max                 100.000000               12.719177   \n",
              "\n",
              "       rougher.output.tail_pb  rougher.output.tail_sol  \\\n",
              "count            16778.000000             14611.000000   \n",
              "mean                 0.596493                17.865309   \n",
              "std                  0.330819                 3.455588   \n",
              "min                  0.000000                10.014648   \n",
              "25%                  0.413711                15.646980   \n",
              "50%                  0.594959                17.996971   \n",
              "75%                  0.779544                19.933255   \n",
              "max                  3.778064                66.117188   \n",
              "\n",
              "       rougher.output.tail_au  rougher.state.floatbank10_a_air  \\\n",
              "count            14611.000000                     16807.000000   \n",
              "mean                 1.763930                      1077.201302   \n",
              "std                  0.731518                       291.800894   \n",
              "min                  0.020676                        -0.345168   \n",
              "25%                  1.311610                       999.636979   \n",
              "50%                  1.747907                      1001.310190   \n",
              "75%                  2.190839                      1299.577654   \n",
              "max                  9.688980                      1521.980372   \n",
              "\n",
              "       rougher.state.floatbank10_a_level  rougher.state.floatbank10_b_air  \\\n",
              "count                       16807.000000                     16807.000000   \n",
              "mean                         -384.109359                      1252.285954   \n",
              "std                           112.408685                       331.076715   \n",
              "min                          -658.223080                        -0.759568   \n",
              "25%                          -499.908427                      1196.415722   \n",
              "50%                          -300.233403                      1299.649429   \n",
              "75%                          -299.976784                      1432.326657   \n",
              "max                           -19.383282                      1809.194008   \n",
              "\n",
              "       rougher.state.floatbank10_b_level  rougher.state.floatbank10_c_air  \\\n",
              "count                       16807.000000                     16807.000000   \n",
              "mean                         -475.443395                      1229.567445   \n",
              "std                            70.051458                       344.840251   \n",
              "min                          -650.437575                        -0.378521   \n",
              "25%                          -500.284895                      1100.084257   \n",
              "50%                          -499.837368                      1298.324087   \n",
              "75%                          -400.865979                      1448.560325   \n",
              "max                             9.457822                      2499.129174   \n",
              "\n",
              "       rougher.state.floatbank10_c_level  rougher.state.floatbank10_d_air  \\\n",
              "count                       16814.000000                     16802.000000   \n",
              "mean                         -474.713811                      1146.785992   \n",
              "std                            67.065122                       327.311834   \n",
              "min                          -650.151190                        -1.197435   \n",
              "25%                          -500.329171                      1044.848978   \n",
              "50%                          -499.775884                      1199.211289   \n",
              "75%                          -401.277897                      1307.829439   \n",
              "max                           -10.242658                      2077.222699   \n",
              "\n",
              "       rougher.state.floatbank10_d_level  rougher.state.floatbank10_e_air  \\\n",
              "count                       16809.000000                     16257.000000   \n",
              "mean                         -476.180417                      1033.886871   \n",
              "std                            64.118377                       293.456164   \n",
              "min                          -649.300693                        -2.163619   \n",
              "25%                          -500.594910                       949.615568   \n",
              "50%                          -499.640478                      1049.693712   \n",
              "75%                          -402.354963                      1199.711798   \n",
              "max                            21.365035                      2330.310425   \n",
              "\n",
              "       rougher.state.floatbank10_e_level  rougher.state.floatbank10_f_air  \\\n",
              "count                       16809.000000                     16802.000000   \n",
              "mean                         -475.545309                       983.384202   \n",
              "std                            68.781915                       275.426261   \n",
              "min                          -650.196204                        -2.636171   \n",
              "25%                          -500.395113                       900.029475   \n",
              "50%                          -499.724295                       999.828611   \n",
              "75%                          -401.349388                      1099.734617   \n",
              "max                            -2.406020                      1950.493751   \n",
              "\n",
              "       rougher.state.floatbank10_f_level  secondary_cleaner.output.tail_ag  \\\n",
              "count                       16802.000000                      16776.000000   \n",
              "mean                         -475.980531                         13.014971   \n",
              "std                            70.132801                          5.960323   \n",
              "min                          -650.072915                          0.000000   \n",
              "25%                          -500.738649                         11.367185   \n",
              "50%                          -499.576077                         14.773117   \n",
              "75%                          -402.026493                         17.134159   \n",
              "max                           -21.745268                         23.264738   \n",
              "\n",
              "       secondary_cleaner.output.tail_pb  secondary_cleaner.output.tail_sol  \\\n",
              "count                      16764.000000                       14874.000000   \n",
              "mean                           5.320902                           6.181742   \n",
              "std                            3.191103                           4.460622   \n",
              "min                            0.000000                           0.000000   \n",
              "25%                            3.466609                           2.045824   \n",
              "50%                            5.164745                           6.194420   \n",
              "75%                            7.562139                          10.252499   \n",
              "max                           17.042505                          33.058594   \n",
              "\n",
              "       secondary_cleaner.output.tail_au  \\\n",
              "count                      16778.000000   \n",
              "mean                           3.935796   \n",
              "std                            2.675785   \n",
              "min                            0.000000   \n",
              "25%                            2.820390   \n",
              "50%                            3.863798   \n",
              "75%                            4.845187   \n",
              "max                           26.811643   \n",
              "\n",
              "       secondary_cleaner.state.floatbank2_a_air  \\\n",
              "count                              16497.000000   \n",
              "mean                                  28.134535   \n",
              "std                                    8.320744   \n",
              "min                                    0.000000   \n",
              "25%                                   25.045244   \n",
              "50%                                   29.988519   \n",
              "75%                                   34.771800   \n",
              "max                                   60.000000   \n",
              "\n",
              "       secondary_cleaner.state.floatbank2_a_level  \\\n",
              "count                                16751.000000   \n",
              "mean                                  -517.777116   \n",
              "std                                     89.551883   \n",
              "min                                   -799.841677   \n",
              "25%                                   -500.333800   \n",
              "50%                                   -499.986132   \n",
              "75%                                   -499.620568   \n",
              "max                                   -127.875565   \n",
              "\n",
              "       secondary_cleaner.state.floatbank2_b_air  \\\n",
              "count                              16705.000000   \n",
              "mean                                  23.619503   \n",
              "std                                    8.144236   \n",
              "min                                    0.000000   \n",
              "25%                                   20.110141   \n",
              "50%                                   26.981647   \n",
              "75%                                   28.094066   \n",
              "max                                   51.093216   \n",
              "\n",
              "       secondary_cleaner.state.floatbank2_b_level  \\\n",
              "count                                16748.000000   \n",
              "mean                                  -519.562134   \n",
              "std                                     89.374849   \n",
              "min                                   -799.967956   \n",
              "25%                                   -500.348178   \n",
              "50%                                   -500.037663   \n",
              "75%                                   -499.780945   \n",
              "max                                   -212.064665   \n",
              "\n",
              "       secondary_cleaner.state.floatbank3_a_air  \\\n",
              "count                              16763.000000   \n",
              "mean                                  27.913358   \n",
              "std                                    8.170477   \n",
              "min                                    0.000000   \n",
              "25%                                   24.972364   \n",
              "50%                                   27.999437   \n",
              "75%                                   34.967470   \n",
              "max                                   60.000000   \n",
              "\n",
              "       secondary_cleaner.state.floatbank3_a_level  \\\n",
              "count                                16747.000000   \n",
              "mean                                  -493.470026   \n",
              "std                                     85.296428   \n",
              "min                                   -799.926254   \n",
              "25%                                   -500.236661   \n",
              "50%                                   -499.908346   \n",
              "75%                                   -495.885262   \n",
              "max                                   -191.678810   \n",
              "\n",
              "       secondary_cleaner.state.floatbank3_b_air  \\\n",
              "count                              16752.000000   \n",
              "mean                                  21.663507   \n",
              "std                                    6.738952   \n",
              "min                                    0.000000   \n",
              "25%                                   19.007706   \n",
              "50%                                   21.996298   \n",
              "75%                                   25.071338   \n",
              "max                                   39.487633   \n",
              "\n",
              "       secondary_cleaner.state.floatbank3_b_level  \\\n",
              "count                                16750.000000   \n",
              "mean                                  -501.521561   \n",
              "std                                     74.723250   \n",
              "min                                   -809.421923   \n",
              "25%                                   -500.141064   \n",
              "50%                                   -499.980536   \n",
              "75%                                   -499.778014   \n",
              "max                                   -139.771483   \n",
              "\n",
              "       secondary_cleaner.state.floatbank4_a_air  \\\n",
              "count                              16731.000000   \n",
              "mean                                  19.101874   \n",
              "std                                    6.883163   \n",
              "min                                    0.000000   \n",
              "25%                                   14.508299   \n",
              "50%                                   19.986958   \n",
              "75%                                   24.983961   \n",
              "max                                   60.000000   \n",
              "\n",
              "       secondary_cleaner.state.floatbank4_a_level  \\\n",
              "count                                16747.000000   \n",
              "mean                                  -494.164481   \n",
              "std                                     84.803334   \n",
              "min                                   -799.920713   \n",
              "25%                                   -500.837689   \n",
              "50%                                   -499.778379   \n",
              "75%                                   -494.648754   \n",
              "max                                   -127.692333   \n",
              "\n",
              "       secondary_cleaner.state.floatbank4_b_air  \\\n",
              "count                              16768.000000   \n",
              "mean                                  14.778164   \n",
              "std                                    5.999149   \n",
              "min                                    0.000000   \n",
              "25%                                   10.741388   \n",
              "50%                                   14.943933   \n",
              "75%                                   20.023751   \n",
              "max                                   28.003828   \n",
              "\n",
              "       secondary_cleaner.state.floatbank4_b_level  \\\n",
              "count                                16767.000000   \n",
              "mean                                  -476.600082   \n",
              "std                                     89.381172   \n",
              "min                                   -800.021781   \n",
              "25%                                   -500.269182   \n",
              "50%                                   -499.593286   \n",
              "75%                                   -400.137948   \n",
              "max                                    -71.472472   \n",
              "\n",
              "       secondary_cleaner.state.floatbank5_a_air  \\\n",
              "count                              16775.000000   \n",
              "mean                                  15.779488   \n",
              "std                                    6.834703   \n",
              "min                                   -0.423260   \n",
              "25%                                   10.977713   \n",
              "50%                                   15.998340   \n",
              "75%                                   20.000701   \n",
              "max                                   63.116298   \n",
              "\n",
              "       secondary_cleaner.state.floatbank5_a_level  \\\n",
              "count                                16775.000000   \n",
              "mean                                  -500.230146   \n",
              "std                                     76.983542   \n",
              "min                                   -799.741097   \n",
              "25%                                   -500.530594   \n",
              "50%                                   -499.784231   \n",
              "75%                                   -496.531781   \n",
              "max                                   -275.073125   \n",
              "\n",
              "       secondary_cleaner.state.floatbank5_b_air  \\\n",
              "count                              16775.000000   \n",
              "mean                                  12.377241   \n",
              "std                                    6.219989   \n",
              "min                                    0.427084   \n",
              "25%                                    8.925586   \n",
              "50%                                   11.092839   \n",
              "75%                                   15.979467   \n",
              "max                                   39.846228   \n",
              "\n",
              "       secondary_cleaner.state.floatbank5_b_level  \\\n",
              "count                                16776.000000   \n",
              "mean                                  -498.956257   \n",
              "std                                     82.146207   \n",
              "min                                   -800.258209   \n",
              "25%                                   -500.147603   \n",
              "50%                                   -499.933330   \n",
              "75%                                   -498.418000   \n",
              "max                                   -120.190931   \n",
              "\n",
              "       secondary_cleaner.state.floatbank6_a_air  \\\n",
              "count                              16757.000000   \n",
              "mean                                  18.429208   \n",
              "std                                    6.958294   \n",
              "min                                    0.024270   \n",
              "25%                                   13.977626   \n",
              "50%                                   18.034960   \n",
              "75%                                   24.984992   \n",
              "max                                   54.876806   \n",
              "\n",
              "       secondary_cleaner.state.floatbank6_a_level  \n",
              "count                                16775.000000  \n",
              "mean                                  -521.801826  \n",
              "std                                     77.170888  \n",
              "min                                   -810.473526  \n",
              "25%                                   -501.080595  \n",
              "50%                                   -500.109898  \n",
              "75%                                   -499.565540  \n",
              "max                                    -39.784927  "
            ]
          },
          "metadata": {
            "tags": []
          },
          "execution_count": 6
        }
      ]
    },
    {
      "cell_type": "markdown",
      "metadata": {
        "id": "Hzekc7zoCkWw"
      },
      "source": [
        "### data_test"
      ]
    },
    {
      "cell_type": "code",
      "metadata": {
        "scrolled": true,
        "id": "WE0j-s0kCkWw",
        "outputId": "dff7b347-5de5-40ba-8d88-b44cbf79cebc"
      },
      "source": [
        "data_test.head()"
      ],
      "execution_count": null,
      "outputs": [
        {
          "output_type": "execute_result",
          "data": {
            "text/html": [
              "<div>\n",
              "<style scoped>\n",
              "    .dataframe tbody tr th:only-of-type {\n",
              "        vertical-align: middle;\n",
              "    }\n",
              "\n",
              "    .dataframe tbody tr th {\n",
              "        vertical-align: top;\n",
              "    }\n",
              "\n",
              "    .dataframe thead th {\n",
              "        text-align: right;\n",
              "    }\n",
              "</style>\n",
              "<table border=\"1\" class=\"dataframe\">\n",
              "  <thead>\n",
              "    <tr style=\"text-align: right;\">\n",
              "      <th></th>\n",
              "      <th>date</th>\n",
              "      <th>primary_cleaner.input.sulfate</th>\n",
              "      <th>primary_cleaner.input.depressant</th>\n",
              "      <th>primary_cleaner.input.feed_size</th>\n",
              "      <th>primary_cleaner.input.xanthate</th>\n",
              "      <th>primary_cleaner.state.floatbank8_a_air</th>\n",
              "      <th>primary_cleaner.state.floatbank8_a_level</th>\n",
              "      <th>primary_cleaner.state.floatbank8_b_air</th>\n",
              "      <th>primary_cleaner.state.floatbank8_b_level</th>\n",
              "      <th>primary_cleaner.state.floatbank8_c_air</th>\n",
              "      <th>primary_cleaner.state.floatbank8_c_level</th>\n",
              "      <th>primary_cleaner.state.floatbank8_d_air</th>\n",
              "      <th>primary_cleaner.state.floatbank8_d_level</th>\n",
              "      <th>rougher.input.feed_ag</th>\n",
              "      <th>rougher.input.feed_pb</th>\n",
              "      <th>rougher.input.feed_rate</th>\n",
              "      <th>rougher.input.feed_size</th>\n",
              "      <th>rougher.input.feed_sol</th>\n",
              "      <th>rougher.input.feed_au</th>\n",
              "      <th>rougher.input.floatbank10_sulfate</th>\n",
              "      <th>rougher.input.floatbank10_xanthate</th>\n",
              "      <th>rougher.input.floatbank11_sulfate</th>\n",
              "      <th>rougher.input.floatbank11_xanthate</th>\n",
              "      <th>rougher.state.floatbank10_a_air</th>\n",
              "      <th>rougher.state.floatbank10_a_level</th>\n",
              "      <th>rougher.state.floatbank10_b_air</th>\n",
              "      <th>rougher.state.floatbank10_b_level</th>\n",
              "      <th>rougher.state.floatbank10_c_air</th>\n",
              "      <th>rougher.state.floatbank10_c_level</th>\n",
              "      <th>rougher.state.floatbank10_d_air</th>\n",
              "      <th>rougher.state.floatbank10_d_level</th>\n",
              "      <th>rougher.state.floatbank10_e_air</th>\n",
              "      <th>rougher.state.floatbank10_e_level</th>\n",
              "      <th>rougher.state.floatbank10_f_air</th>\n",
              "      <th>rougher.state.floatbank10_f_level</th>\n",
              "      <th>secondary_cleaner.state.floatbank2_a_air</th>\n",
              "      <th>secondary_cleaner.state.floatbank2_a_level</th>\n",
              "      <th>secondary_cleaner.state.floatbank2_b_air</th>\n",
              "      <th>secondary_cleaner.state.floatbank2_b_level</th>\n",
              "      <th>secondary_cleaner.state.floatbank3_a_air</th>\n",
              "      <th>secondary_cleaner.state.floatbank3_a_level</th>\n",
              "      <th>secondary_cleaner.state.floatbank3_b_air</th>\n",
              "      <th>secondary_cleaner.state.floatbank3_b_level</th>\n",
              "      <th>secondary_cleaner.state.floatbank4_a_air</th>\n",
              "      <th>secondary_cleaner.state.floatbank4_a_level</th>\n",
              "      <th>secondary_cleaner.state.floatbank4_b_air</th>\n",
              "      <th>secondary_cleaner.state.floatbank4_b_level</th>\n",
              "      <th>secondary_cleaner.state.floatbank5_a_air</th>\n",
              "      <th>secondary_cleaner.state.floatbank5_a_level</th>\n",
              "      <th>secondary_cleaner.state.floatbank5_b_air</th>\n",
              "      <th>secondary_cleaner.state.floatbank5_b_level</th>\n",
              "      <th>secondary_cleaner.state.floatbank6_a_air</th>\n",
              "      <th>secondary_cleaner.state.floatbank6_a_level</th>\n",
              "    </tr>\n",
              "  </thead>\n",
              "  <tbody>\n",
              "    <tr>\n",
              "      <th>0</th>\n",
              "      <td>2016-09-01 00:59:59</td>\n",
              "      <td>210.800909</td>\n",
              "      <td>14.993118</td>\n",
              "      <td>8.080000</td>\n",
              "      <td>1.005021</td>\n",
              "      <td>1398.981301</td>\n",
              "      <td>-500.225577</td>\n",
              "      <td>1399.144926</td>\n",
              "      <td>-499.919735</td>\n",
              "      <td>1400.102998</td>\n",
              "      <td>-500.704369</td>\n",
              "      <td>1399.001695</td>\n",
              "      <td>-499.485144</td>\n",
              "      <td>13.128569</td>\n",
              "      <td>5.636710</td>\n",
              "      <td>489.793655</td>\n",
              "      <td>62.710452</td>\n",
              "      <td>42.022440</td>\n",
              "      <td>12.084103</td>\n",
              "      <td>16.922877</td>\n",
              "      <td>6.153479</td>\n",
              "      <td>16.867518</td>\n",
              "      <td>6.150709</td>\n",
              "      <td>1001.849317</td>\n",
              "      <td>-350.301265</td>\n",
              "      <td>1249.738612</td>\n",
              "      <td>-399.107531</td>\n",
              "      <td>1249.750520</td>\n",
              "      <td>-399.396730</td>\n",
              "      <td>1198.287855</td>\n",
              "      <td>-399.488594</td>\n",
              "      <td>999.472250</td>\n",
              "      <td>-399.530962</td>\n",
              "      <td>949.566189</td>\n",
              "      <td>-398.180807</td>\n",
              "      <td>24.938200</td>\n",
              "      <td>-500.490963</td>\n",
              "      <td>14.947607</td>\n",
              "      <td>-500.013837</td>\n",
              "      <td>20.018166</td>\n",
              "      <td>-450.395995</td>\n",
              "      <td>13.987058</td>\n",
              "      <td>-449.831513</td>\n",
              "      <td>12.023554</td>\n",
              "      <td>-497.795834</td>\n",
              "      <td>8.016656</td>\n",
              "      <td>-501.289139</td>\n",
              "      <td>7.946562</td>\n",
              "      <td>-432.317850</td>\n",
              "      <td>4.872511</td>\n",
              "      <td>-500.037437</td>\n",
              "      <td>26.705889</td>\n",
              "      <td>-499.709414</td>\n",
              "    </tr>\n",
              "    <tr>\n",
              "      <th>1</th>\n",
              "      <td>2016-09-01 01:59:59</td>\n",
              "      <td>215.392455</td>\n",
              "      <td>14.987471</td>\n",
              "      <td>8.080000</td>\n",
              "      <td>0.990469</td>\n",
              "      <td>1398.777912</td>\n",
              "      <td>-500.057435</td>\n",
              "      <td>1398.055362</td>\n",
              "      <td>-499.778182</td>\n",
              "      <td>1396.151033</td>\n",
              "      <td>-499.240168</td>\n",
              "      <td>1399.508091</td>\n",
              "      <td>-500.416324</td>\n",
              "      <td>13.036280</td>\n",
              "      <td>5.526065</td>\n",
              "      <td>490.104534</td>\n",
              "      <td>61.961163</td>\n",
              "      <td>41.187903</td>\n",
              "      <td>11.918977</td>\n",
              "      <td>17.002532</td>\n",
              "      <td>5.999043</td>\n",
              "      <td>16.996063</td>\n",
              "      <td>6.002315</td>\n",
              "      <td>998.690785</td>\n",
              "      <td>-350.425704</td>\n",
              "      <td>1248.395457</td>\n",
              "      <td>-399.946025</td>\n",
              "      <td>1249.514451</td>\n",
              "      <td>-399.630810</td>\n",
              "      <td>1200.506459</td>\n",
              "      <td>-399.942434</td>\n",
              "      <td>1000.002114</td>\n",
              "      <td>-399.491528</td>\n",
              "      <td>950.200009</td>\n",
              "      <td>-405.787514</td>\n",
              "      <td>24.923466</td>\n",
              "      <td>-499.813963</td>\n",
              "      <td>14.930873</td>\n",
              "      <td>-500.764452</td>\n",
              "      <td>19.988503</td>\n",
              "      <td>-450.114024</td>\n",
              "      <td>14.092981</td>\n",
              "      <td>-450.059163</td>\n",
              "      <td>12.058140</td>\n",
              "      <td>-498.695773</td>\n",
              "      <td>8.130979</td>\n",
              "      <td>-499.634209</td>\n",
              "      <td>7.958270</td>\n",
              "      <td>-525.839648</td>\n",
              "      <td>4.878850</td>\n",
              "      <td>-500.162375</td>\n",
              "      <td>25.019940</td>\n",
              "      <td>-499.819438</td>\n",
              "    </tr>\n",
              "    <tr>\n",
              "      <th>2</th>\n",
              "      <td>2016-09-01 02:59:59</td>\n",
              "      <td>215.259946</td>\n",
              "      <td>12.884934</td>\n",
              "      <td>7.786667</td>\n",
              "      <td>0.996043</td>\n",
              "      <td>1398.493666</td>\n",
              "      <td>-500.868360</td>\n",
              "      <td>1398.860436</td>\n",
              "      <td>-499.764529</td>\n",
              "      <td>1398.075709</td>\n",
              "      <td>-502.151509</td>\n",
              "      <td>1399.497088</td>\n",
              "      <td>-499.715479</td>\n",
              "      <td>13.138412</td>\n",
              "      <td>5.426561</td>\n",
              "      <td>489.617969</td>\n",
              "      <td>66.903807</td>\n",
              "      <td>42.546294</td>\n",
              "      <td>12.091332</td>\n",
              "      <td>16.992520</td>\n",
              "      <td>5.850632</td>\n",
              "      <td>16.982096</td>\n",
              "      <td>5.853594</td>\n",
              "      <td>998.516720</td>\n",
              "      <td>-349.783538</td>\n",
              "      <td>1247.440748</td>\n",
              "      <td>-400.264330</td>\n",
              "      <td>1248.207204</td>\n",
              "      <td>-401.074405</td>\n",
              "      <td>1199.770026</td>\n",
              "      <td>-400.790582</td>\n",
              "      <td>999.925519</td>\n",
              "      <td>-399.236999</td>\n",
              "      <td>950.320481</td>\n",
              "      <td>-400.864340</td>\n",
              "      <td>24.908732</td>\n",
              "      <td>-500.304035</td>\n",
              "      <td>14.996511</td>\n",
              "      <td>-500.993821</td>\n",
              "      <td>20.039689</td>\n",
              "      <td>-450.263164</td>\n",
              "      <td>14.077881</td>\n",
              "      <td>-449.660997</td>\n",
              "      <td>11.962366</td>\n",
              "      <td>-498.767484</td>\n",
              "      <td>8.096893</td>\n",
              "      <td>-500.827423</td>\n",
              "      <td>8.071056</td>\n",
              "      <td>-500.801673</td>\n",
              "      <td>4.905125</td>\n",
              "      <td>-499.828510</td>\n",
              "      <td>24.994862</td>\n",
              "      <td>-500.622559</td>\n",
              "    </tr>\n",
              "    <tr>\n",
              "      <th>3</th>\n",
              "      <td>2016-09-01 03:59:59</td>\n",
              "      <td>215.336236</td>\n",
              "      <td>12.006805</td>\n",
              "      <td>7.640000</td>\n",
              "      <td>0.863514</td>\n",
              "      <td>1399.618111</td>\n",
              "      <td>-498.863574</td>\n",
              "      <td>1397.440120</td>\n",
              "      <td>-499.211024</td>\n",
              "      <td>1400.129303</td>\n",
              "      <td>-498.355873</td>\n",
              "      <td>1401.065165</td>\n",
              "      <td>-501.038738</td>\n",
              "      <td>12.400507</td>\n",
              "      <td>5.114758</td>\n",
              "      <td>476.618130</td>\n",
              "      <td>59.865919</td>\n",
              "      <td>41.060195</td>\n",
              "      <td>12.181597</td>\n",
              "      <td>16.532144</td>\n",
              "      <td>5.801935</td>\n",
              "      <td>16.515277</td>\n",
              "      <td>5.803657</td>\n",
              "      <td>1000.276604</td>\n",
              "      <td>-350.172597</td>\n",
              "      <td>1251.322675</td>\n",
              "      <td>-398.655289</td>\n",
              "      <td>1250.493702</td>\n",
              "      <td>-399.746728</td>\n",
              "      <td>1199.398691</td>\n",
              "      <td>-397.503052</td>\n",
              "      <td>1001.930679</td>\n",
              "      <td>-400.437573</td>\n",
              "      <td>950.735324</td>\n",
              "      <td>-399.802986</td>\n",
              "      <td>24.893998</td>\n",
              "      <td>-499.382374</td>\n",
              "      <td>14.916674</td>\n",
              "      <td>-499.862299</td>\n",
              "      <td>20.031100</td>\n",
              "      <td>-449.372570</td>\n",
              "      <td>14.013968</td>\n",
              "      <td>-449.526900</td>\n",
              "      <td>12.033091</td>\n",
              "      <td>-498.350935</td>\n",
              "      <td>8.074946</td>\n",
              "      <td>-499.474407</td>\n",
              "      <td>7.897085</td>\n",
              "      <td>-500.868509</td>\n",
              "      <td>4.931400</td>\n",
              "      <td>-499.963623</td>\n",
              "      <td>24.948919</td>\n",
              "      <td>-498.709987</td>\n",
              "    </tr>\n",
              "    <tr>\n",
              "      <th>4</th>\n",
              "      <td>2016-09-01 04:59:59</td>\n",
              "      <td>199.099327</td>\n",
              "      <td>10.682530</td>\n",
              "      <td>7.530000</td>\n",
              "      <td>0.805575</td>\n",
              "      <td>1401.268123</td>\n",
              "      <td>-500.808305</td>\n",
              "      <td>1398.128818</td>\n",
              "      <td>-499.504543</td>\n",
              "      <td>1402.172226</td>\n",
              "      <td>-500.810606</td>\n",
              "      <td>1399.480508</td>\n",
              "      <td>-499.374053</td>\n",
              "      <td>11.327427</td>\n",
              "      <td>4.767383</td>\n",
              "      <td>488.248117</td>\n",
              "      <td>63.315324</td>\n",
              "      <td>41.269161</td>\n",
              "      <td>11.290425</td>\n",
              "      <td>13.607257</td>\n",
              "      <td>5.738081</td>\n",
              "      <td>13.650053</td>\n",
              "      <td>5.739634</td>\n",
              "      <td>996.541302</td>\n",
              "      <td>-350.562517</td>\n",
              "      <td>1304.658848</td>\n",
              "      <td>-399.511519</td>\n",
              "      <td>1306.455515</td>\n",
              "      <td>-399.050685</td>\n",
              "      <td>1248.699349</td>\n",
              "      <td>-400.876894</td>\n",
              "      <td>1058.839106</td>\n",
              "      <td>-398.988239</td>\n",
              "      <td>949.645313</td>\n",
              "      <td>-399.277632</td>\n",
              "      <td>24.886905</td>\n",
              "      <td>-499.357375</td>\n",
              "      <td>14.979233</td>\n",
              "      <td>-500.186804</td>\n",
              "      <td>19.962364</td>\n",
              "      <td>-450.638828</td>\n",
              "      <td>14.009245</td>\n",
              "      <td>-450.022259</td>\n",
              "      <td>12.025367</td>\n",
              "      <td>-500.786497</td>\n",
              "      <td>8.054678</td>\n",
              "      <td>-500.397500</td>\n",
              "      <td>8.107890</td>\n",
              "      <td>-509.526725</td>\n",
              "      <td>4.957674</td>\n",
              "      <td>-500.360026</td>\n",
              "      <td>25.003331</td>\n",
              "      <td>-500.856333</td>\n",
              "    </tr>\n",
              "  </tbody>\n",
              "</table>\n",
              "</div>"
            ],
            "text/plain": [
              "                  date  primary_cleaner.input.sulfate  \\\n",
              "0  2016-09-01 00:59:59                     210.800909   \n",
              "1  2016-09-01 01:59:59                     215.392455   \n",
              "2  2016-09-01 02:59:59                     215.259946   \n",
              "3  2016-09-01 03:59:59                     215.336236   \n",
              "4  2016-09-01 04:59:59                     199.099327   \n",
              "\n",
              "   primary_cleaner.input.depressant  primary_cleaner.input.feed_size  \\\n",
              "0                         14.993118                         8.080000   \n",
              "1                         14.987471                         8.080000   \n",
              "2                         12.884934                         7.786667   \n",
              "3                         12.006805                         7.640000   \n",
              "4                         10.682530                         7.530000   \n",
              "\n",
              "   primary_cleaner.input.xanthate  primary_cleaner.state.floatbank8_a_air  \\\n",
              "0                        1.005021                             1398.981301   \n",
              "1                        0.990469                             1398.777912   \n",
              "2                        0.996043                             1398.493666   \n",
              "3                        0.863514                             1399.618111   \n",
              "4                        0.805575                             1401.268123   \n",
              "\n",
              "   primary_cleaner.state.floatbank8_a_level  \\\n",
              "0                               -500.225577   \n",
              "1                               -500.057435   \n",
              "2                               -500.868360   \n",
              "3                               -498.863574   \n",
              "4                               -500.808305   \n",
              "\n",
              "   primary_cleaner.state.floatbank8_b_air  \\\n",
              "0                             1399.144926   \n",
              "1                             1398.055362   \n",
              "2                             1398.860436   \n",
              "3                             1397.440120   \n",
              "4                             1398.128818   \n",
              "\n",
              "   primary_cleaner.state.floatbank8_b_level  \\\n",
              "0                               -499.919735   \n",
              "1                               -499.778182   \n",
              "2                               -499.764529   \n",
              "3                               -499.211024   \n",
              "4                               -499.504543   \n",
              "\n",
              "   primary_cleaner.state.floatbank8_c_air  \\\n",
              "0                             1400.102998   \n",
              "1                             1396.151033   \n",
              "2                             1398.075709   \n",
              "3                             1400.129303   \n",
              "4                             1402.172226   \n",
              "\n",
              "   primary_cleaner.state.floatbank8_c_level  \\\n",
              "0                               -500.704369   \n",
              "1                               -499.240168   \n",
              "2                               -502.151509   \n",
              "3                               -498.355873   \n",
              "4                               -500.810606   \n",
              "\n",
              "   primary_cleaner.state.floatbank8_d_air  \\\n",
              "0                             1399.001695   \n",
              "1                             1399.508091   \n",
              "2                             1399.497088   \n",
              "3                             1401.065165   \n",
              "4                             1399.480508   \n",
              "\n",
              "   primary_cleaner.state.floatbank8_d_level  rougher.input.feed_ag  \\\n",
              "0                               -499.485144              13.128569   \n",
              "1                               -500.416324              13.036280   \n",
              "2                               -499.715479              13.138412   \n",
              "3                               -501.038738              12.400507   \n",
              "4                               -499.374053              11.327427   \n",
              "\n",
              "   rougher.input.feed_pb  rougher.input.feed_rate  rougher.input.feed_size  \\\n",
              "0               5.636710               489.793655                62.710452   \n",
              "1               5.526065               490.104534                61.961163   \n",
              "2               5.426561               489.617969                66.903807   \n",
              "3               5.114758               476.618130                59.865919   \n",
              "4               4.767383               488.248117                63.315324   \n",
              "\n",
              "   rougher.input.feed_sol  rougher.input.feed_au  \\\n",
              "0               42.022440              12.084103   \n",
              "1               41.187903              11.918977   \n",
              "2               42.546294              12.091332   \n",
              "3               41.060195              12.181597   \n",
              "4               41.269161              11.290425   \n",
              "\n",
              "   rougher.input.floatbank10_sulfate  rougher.input.floatbank10_xanthate  \\\n",
              "0                          16.922877                            6.153479   \n",
              "1                          17.002532                            5.999043   \n",
              "2                          16.992520                            5.850632   \n",
              "3                          16.532144                            5.801935   \n",
              "4                          13.607257                            5.738081   \n",
              "\n",
              "   rougher.input.floatbank11_sulfate  rougher.input.floatbank11_xanthate  \\\n",
              "0                          16.867518                            6.150709   \n",
              "1                          16.996063                            6.002315   \n",
              "2                          16.982096                            5.853594   \n",
              "3                          16.515277                            5.803657   \n",
              "4                          13.650053                            5.739634   \n",
              "\n",
              "   rougher.state.floatbank10_a_air  rougher.state.floatbank10_a_level  \\\n",
              "0                      1001.849317                        -350.301265   \n",
              "1                       998.690785                        -350.425704   \n",
              "2                       998.516720                        -349.783538   \n",
              "3                      1000.276604                        -350.172597   \n",
              "4                       996.541302                        -350.562517   \n",
              "\n",
              "   rougher.state.floatbank10_b_air  rougher.state.floatbank10_b_level  \\\n",
              "0                      1249.738612                        -399.107531   \n",
              "1                      1248.395457                        -399.946025   \n",
              "2                      1247.440748                        -400.264330   \n",
              "3                      1251.322675                        -398.655289   \n",
              "4                      1304.658848                        -399.511519   \n",
              "\n",
              "   rougher.state.floatbank10_c_air  rougher.state.floatbank10_c_level  \\\n",
              "0                      1249.750520                        -399.396730   \n",
              "1                      1249.514451                        -399.630810   \n",
              "2                      1248.207204                        -401.074405   \n",
              "3                      1250.493702                        -399.746728   \n",
              "4                      1306.455515                        -399.050685   \n",
              "\n",
              "   rougher.state.floatbank10_d_air  rougher.state.floatbank10_d_level  \\\n",
              "0                      1198.287855                        -399.488594   \n",
              "1                      1200.506459                        -399.942434   \n",
              "2                      1199.770026                        -400.790582   \n",
              "3                      1199.398691                        -397.503052   \n",
              "4                      1248.699349                        -400.876894   \n",
              "\n",
              "   rougher.state.floatbank10_e_air  rougher.state.floatbank10_e_level  \\\n",
              "0                       999.472250                        -399.530962   \n",
              "1                      1000.002114                        -399.491528   \n",
              "2                       999.925519                        -399.236999   \n",
              "3                      1001.930679                        -400.437573   \n",
              "4                      1058.839106                        -398.988239   \n",
              "\n",
              "   rougher.state.floatbank10_f_air  rougher.state.floatbank10_f_level  \\\n",
              "0                       949.566189                        -398.180807   \n",
              "1                       950.200009                        -405.787514   \n",
              "2                       950.320481                        -400.864340   \n",
              "3                       950.735324                        -399.802986   \n",
              "4                       949.645313                        -399.277632   \n",
              "\n",
              "   secondary_cleaner.state.floatbank2_a_air  \\\n",
              "0                                 24.938200   \n",
              "1                                 24.923466   \n",
              "2                                 24.908732   \n",
              "3                                 24.893998   \n",
              "4                                 24.886905   \n",
              "\n",
              "   secondary_cleaner.state.floatbank2_a_level  \\\n",
              "0                                 -500.490963   \n",
              "1                                 -499.813963   \n",
              "2                                 -500.304035   \n",
              "3                                 -499.382374   \n",
              "4                                 -499.357375   \n",
              "\n",
              "   secondary_cleaner.state.floatbank2_b_air  \\\n",
              "0                                 14.947607   \n",
              "1                                 14.930873   \n",
              "2                                 14.996511   \n",
              "3                                 14.916674   \n",
              "4                                 14.979233   \n",
              "\n",
              "   secondary_cleaner.state.floatbank2_b_level  \\\n",
              "0                                 -500.013837   \n",
              "1                                 -500.764452   \n",
              "2                                 -500.993821   \n",
              "3                                 -499.862299   \n",
              "4                                 -500.186804   \n",
              "\n",
              "   secondary_cleaner.state.floatbank3_a_air  \\\n",
              "0                                 20.018166   \n",
              "1                                 19.988503   \n",
              "2                                 20.039689   \n",
              "3                                 20.031100   \n",
              "4                                 19.962364   \n",
              "\n",
              "   secondary_cleaner.state.floatbank3_a_level  \\\n",
              "0                                 -450.395995   \n",
              "1                                 -450.114024   \n",
              "2                                 -450.263164   \n",
              "3                                 -449.372570   \n",
              "4                                 -450.638828   \n",
              "\n",
              "   secondary_cleaner.state.floatbank3_b_air  \\\n",
              "0                                 13.987058   \n",
              "1                                 14.092981   \n",
              "2                                 14.077881   \n",
              "3                                 14.013968   \n",
              "4                                 14.009245   \n",
              "\n",
              "   secondary_cleaner.state.floatbank3_b_level  \\\n",
              "0                                 -449.831513   \n",
              "1                                 -450.059163   \n",
              "2                                 -449.660997   \n",
              "3                                 -449.526900   \n",
              "4                                 -450.022259   \n",
              "\n",
              "   secondary_cleaner.state.floatbank4_a_air  \\\n",
              "0                                 12.023554   \n",
              "1                                 12.058140   \n",
              "2                                 11.962366   \n",
              "3                                 12.033091   \n",
              "4                                 12.025367   \n",
              "\n",
              "   secondary_cleaner.state.floatbank4_a_level  \\\n",
              "0                                 -497.795834   \n",
              "1                                 -498.695773   \n",
              "2                                 -498.767484   \n",
              "3                                 -498.350935   \n",
              "4                                 -500.786497   \n",
              "\n",
              "   secondary_cleaner.state.floatbank4_b_air  \\\n",
              "0                                  8.016656   \n",
              "1                                  8.130979   \n",
              "2                                  8.096893   \n",
              "3                                  8.074946   \n",
              "4                                  8.054678   \n",
              "\n",
              "   secondary_cleaner.state.floatbank4_b_level  \\\n",
              "0                                 -501.289139   \n",
              "1                                 -499.634209   \n",
              "2                                 -500.827423   \n",
              "3                                 -499.474407   \n",
              "4                                 -500.397500   \n",
              "\n",
              "   secondary_cleaner.state.floatbank5_a_air  \\\n",
              "0                                  7.946562   \n",
              "1                                  7.958270   \n",
              "2                                  8.071056   \n",
              "3                                  7.897085   \n",
              "4                                  8.107890   \n",
              "\n",
              "   secondary_cleaner.state.floatbank5_a_level  \\\n",
              "0                                 -432.317850   \n",
              "1                                 -525.839648   \n",
              "2                                 -500.801673   \n",
              "3                                 -500.868509   \n",
              "4                                 -509.526725   \n",
              "\n",
              "   secondary_cleaner.state.floatbank5_b_air  \\\n",
              "0                                  4.872511   \n",
              "1                                  4.878850   \n",
              "2                                  4.905125   \n",
              "3                                  4.931400   \n",
              "4                                  4.957674   \n",
              "\n",
              "   secondary_cleaner.state.floatbank5_b_level  \\\n",
              "0                                 -500.037437   \n",
              "1                                 -500.162375   \n",
              "2                                 -499.828510   \n",
              "3                                 -499.963623   \n",
              "4                                 -500.360026   \n",
              "\n",
              "   secondary_cleaner.state.floatbank6_a_air  \\\n",
              "0                                 26.705889   \n",
              "1                                 25.019940   \n",
              "2                                 24.994862   \n",
              "3                                 24.948919   \n",
              "4                                 25.003331   \n",
              "\n",
              "   secondary_cleaner.state.floatbank6_a_level  \n",
              "0                                 -499.709414  \n",
              "1                                 -499.819438  \n",
              "2                                 -500.622559  \n",
              "3                                 -498.709987  \n",
              "4                                 -500.856333  "
            ]
          },
          "metadata": {
            "tags": []
          },
          "execution_count": 7
        }
      ]
    },
    {
      "cell_type": "code",
      "metadata": {
        "scrolled": true,
        "id": "UMRW65T5CkWx",
        "outputId": "2ddb8a32-1731-4d4b-d483-d813cf027c6a"
      },
      "source": [
        "data_test.info()"
      ],
      "execution_count": null,
      "outputs": [
        {
          "output_type": "stream",
          "text": [
            "<class 'pandas.core.frame.DataFrame'>\n",
            "RangeIndex: 5856 entries, 0 to 5855\n",
            "Data columns (total 53 columns):\n",
            " #   Column                                      Non-Null Count  Dtype  \n",
            "---  ------                                      --------------  -----  \n",
            " 0   date                                        5856 non-null   object \n",
            " 1   primary_cleaner.input.sulfate               5554 non-null   float64\n",
            " 2   primary_cleaner.input.depressant            5572 non-null   float64\n",
            " 3   primary_cleaner.input.feed_size             5856 non-null   float64\n",
            " 4   primary_cleaner.input.xanthate              5690 non-null   float64\n",
            " 5   primary_cleaner.state.floatbank8_a_air      5840 non-null   float64\n",
            " 6   primary_cleaner.state.floatbank8_a_level    5840 non-null   float64\n",
            " 7   primary_cleaner.state.floatbank8_b_air      5840 non-null   float64\n",
            " 8   primary_cleaner.state.floatbank8_b_level    5840 non-null   float64\n",
            " 9   primary_cleaner.state.floatbank8_c_air      5840 non-null   float64\n",
            " 10  primary_cleaner.state.floatbank8_c_level    5840 non-null   float64\n",
            " 11  primary_cleaner.state.floatbank8_d_air      5840 non-null   float64\n",
            " 12  primary_cleaner.state.floatbank8_d_level    5840 non-null   float64\n",
            " 13  rougher.input.feed_ag                       5840 non-null   float64\n",
            " 14  rougher.input.feed_pb                       5840 non-null   float64\n",
            " 15  rougher.input.feed_rate                     5816 non-null   float64\n",
            " 16  rougher.input.feed_size                     5834 non-null   float64\n",
            " 17  rougher.input.feed_sol                      5789 non-null   float64\n",
            " 18  rougher.input.feed_au                       5840 non-null   float64\n",
            " 19  rougher.input.floatbank10_sulfate           5599 non-null   float64\n",
            " 20  rougher.input.floatbank10_xanthate          5733 non-null   float64\n",
            " 21  rougher.input.floatbank11_sulfate           5801 non-null   float64\n",
            " 22  rougher.input.floatbank11_xanthate          5503 non-null   float64\n",
            " 23  rougher.state.floatbank10_a_air             5839 non-null   float64\n",
            " 24  rougher.state.floatbank10_a_level           5840 non-null   float64\n",
            " 25  rougher.state.floatbank10_b_air             5839 non-null   float64\n",
            " 26  rougher.state.floatbank10_b_level           5840 non-null   float64\n",
            " 27  rougher.state.floatbank10_c_air             5839 non-null   float64\n",
            " 28  rougher.state.floatbank10_c_level           5840 non-null   float64\n",
            " 29  rougher.state.floatbank10_d_air             5839 non-null   float64\n",
            " 30  rougher.state.floatbank10_d_level           5840 non-null   float64\n",
            " 31  rougher.state.floatbank10_e_air             5839 non-null   float64\n",
            " 32  rougher.state.floatbank10_e_level           5840 non-null   float64\n",
            " 33  rougher.state.floatbank10_f_air             5839 non-null   float64\n",
            " 34  rougher.state.floatbank10_f_level           5840 non-null   float64\n",
            " 35  secondary_cleaner.state.floatbank2_a_air    5836 non-null   float64\n",
            " 36  secondary_cleaner.state.floatbank2_a_level  5840 non-null   float64\n",
            " 37  secondary_cleaner.state.floatbank2_b_air    5833 non-null   float64\n",
            " 38  secondary_cleaner.state.floatbank2_b_level  5840 non-null   float64\n",
            " 39  secondary_cleaner.state.floatbank3_a_air    5822 non-null   float64\n",
            " 40  secondary_cleaner.state.floatbank3_a_level  5840 non-null   float64\n",
            " 41  secondary_cleaner.state.floatbank3_b_air    5840 non-null   float64\n",
            " 42  secondary_cleaner.state.floatbank3_b_level  5840 non-null   float64\n",
            " 43  secondary_cleaner.state.floatbank4_a_air    5840 non-null   float64\n",
            " 44  secondary_cleaner.state.floatbank4_a_level  5840 non-null   float64\n",
            " 45  secondary_cleaner.state.floatbank4_b_air    5840 non-null   float64\n",
            " 46  secondary_cleaner.state.floatbank4_b_level  5840 non-null   float64\n",
            " 47  secondary_cleaner.state.floatbank5_a_air    5840 non-null   float64\n",
            " 48  secondary_cleaner.state.floatbank5_a_level  5840 non-null   float64\n",
            " 49  secondary_cleaner.state.floatbank5_b_air    5840 non-null   float64\n",
            " 50  secondary_cleaner.state.floatbank5_b_level  5840 non-null   float64\n",
            " 51  secondary_cleaner.state.floatbank6_a_air    5840 non-null   float64\n",
            " 52  secondary_cleaner.state.floatbank6_a_level  5840 non-null   float64\n",
            "dtypes: float64(52), object(1)\n",
            "memory usage: 2.4+ MB\n"
          ],
          "name": "stdout"
        }
      ]
    },
    {
      "cell_type": "markdown",
      "metadata": {
        "id": "PBn_ScGfCkWx"
      },
      "source": [
        "### data_full"
      ]
    },
    {
      "cell_type": "code",
      "metadata": {
        "scrolled": true,
        "id": "jfO1rvbUCkWx",
        "outputId": "7b1b300f-795b-4e1c-cb50-f1beb19a4b6f"
      },
      "source": [
        "data_full.head()"
      ],
      "execution_count": null,
      "outputs": [
        {
          "output_type": "execute_result",
          "data": {
            "text/html": [
              "<div>\n",
              "<style scoped>\n",
              "    .dataframe tbody tr th:only-of-type {\n",
              "        vertical-align: middle;\n",
              "    }\n",
              "\n",
              "    .dataframe tbody tr th {\n",
              "        vertical-align: top;\n",
              "    }\n",
              "\n",
              "    .dataframe thead th {\n",
              "        text-align: right;\n",
              "    }\n",
              "</style>\n",
              "<table border=\"1\" class=\"dataframe\">\n",
              "  <thead>\n",
              "    <tr style=\"text-align: right;\">\n",
              "      <th></th>\n",
              "      <th>date</th>\n",
              "      <th>final.output.concentrate_ag</th>\n",
              "      <th>final.output.concentrate_pb</th>\n",
              "      <th>final.output.concentrate_sol</th>\n",
              "      <th>final.output.concentrate_au</th>\n",
              "      <th>final.output.recovery</th>\n",
              "      <th>final.output.tail_ag</th>\n",
              "      <th>final.output.tail_pb</th>\n",
              "      <th>final.output.tail_sol</th>\n",
              "      <th>final.output.tail_au</th>\n",
              "      <th>primary_cleaner.input.sulfate</th>\n",
              "      <th>primary_cleaner.input.depressant</th>\n",
              "      <th>primary_cleaner.input.feed_size</th>\n",
              "      <th>primary_cleaner.input.xanthate</th>\n",
              "      <th>primary_cleaner.output.concentrate_ag</th>\n",
              "      <th>primary_cleaner.output.concentrate_pb</th>\n",
              "      <th>primary_cleaner.output.concentrate_sol</th>\n",
              "      <th>primary_cleaner.output.concentrate_au</th>\n",
              "      <th>primary_cleaner.output.tail_ag</th>\n",
              "      <th>primary_cleaner.output.tail_pb</th>\n",
              "      <th>primary_cleaner.output.tail_sol</th>\n",
              "      <th>primary_cleaner.output.tail_au</th>\n",
              "      <th>primary_cleaner.state.floatbank8_a_air</th>\n",
              "      <th>primary_cleaner.state.floatbank8_a_level</th>\n",
              "      <th>primary_cleaner.state.floatbank8_b_air</th>\n",
              "      <th>primary_cleaner.state.floatbank8_b_level</th>\n",
              "      <th>primary_cleaner.state.floatbank8_c_air</th>\n",
              "      <th>primary_cleaner.state.floatbank8_c_level</th>\n",
              "      <th>primary_cleaner.state.floatbank8_d_air</th>\n",
              "      <th>primary_cleaner.state.floatbank8_d_level</th>\n",
              "      <th>rougher.calculation.sulfate_to_au_concentrate</th>\n",
              "      <th>rougher.calculation.floatbank10_sulfate_to_au_feed</th>\n",
              "      <th>rougher.calculation.floatbank11_sulfate_to_au_feed</th>\n",
              "      <th>rougher.calculation.au_pb_ratio</th>\n",
              "      <th>rougher.input.feed_ag</th>\n",
              "      <th>rougher.input.feed_pb</th>\n",
              "      <th>rougher.input.feed_rate</th>\n",
              "      <th>rougher.input.feed_size</th>\n",
              "      <th>rougher.input.feed_sol</th>\n",
              "      <th>rougher.input.feed_au</th>\n",
              "      <th>rougher.input.floatbank10_sulfate</th>\n",
              "      <th>rougher.input.floatbank10_xanthate</th>\n",
              "      <th>rougher.input.floatbank11_sulfate</th>\n",
              "      <th>rougher.input.floatbank11_xanthate</th>\n",
              "      <th>rougher.output.concentrate_ag</th>\n",
              "      <th>rougher.output.concentrate_pb</th>\n",
              "      <th>rougher.output.concentrate_sol</th>\n",
              "      <th>rougher.output.concentrate_au</th>\n",
              "      <th>rougher.output.recovery</th>\n",
              "      <th>rougher.output.tail_ag</th>\n",
              "      <th>rougher.output.tail_pb</th>\n",
              "      <th>rougher.output.tail_sol</th>\n",
              "      <th>rougher.output.tail_au</th>\n",
              "      <th>rougher.state.floatbank10_a_air</th>\n",
              "      <th>rougher.state.floatbank10_a_level</th>\n",
              "      <th>rougher.state.floatbank10_b_air</th>\n",
              "      <th>rougher.state.floatbank10_b_level</th>\n",
              "      <th>rougher.state.floatbank10_c_air</th>\n",
              "      <th>rougher.state.floatbank10_c_level</th>\n",
              "      <th>rougher.state.floatbank10_d_air</th>\n",
              "      <th>rougher.state.floatbank10_d_level</th>\n",
              "      <th>rougher.state.floatbank10_e_air</th>\n",
              "      <th>rougher.state.floatbank10_e_level</th>\n",
              "      <th>rougher.state.floatbank10_f_air</th>\n",
              "      <th>rougher.state.floatbank10_f_level</th>\n",
              "      <th>secondary_cleaner.output.tail_ag</th>\n",
              "      <th>secondary_cleaner.output.tail_pb</th>\n",
              "      <th>secondary_cleaner.output.tail_sol</th>\n",
              "      <th>secondary_cleaner.output.tail_au</th>\n",
              "      <th>secondary_cleaner.state.floatbank2_a_air</th>\n",
              "      <th>secondary_cleaner.state.floatbank2_a_level</th>\n",
              "      <th>secondary_cleaner.state.floatbank2_b_air</th>\n",
              "      <th>secondary_cleaner.state.floatbank2_b_level</th>\n",
              "      <th>secondary_cleaner.state.floatbank3_a_air</th>\n",
              "      <th>secondary_cleaner.state.floatbank3_a_level</th>\n",
              "      <th>secondary_cleaner.state.floatbank3_b_air</th>\n",
              "      <th>secondary_cleaner.state.floatbank3_b_level</th>\n",
              "      <th>secondary_cleaner.state.floatbank4_a_air</th>\n",
              "      <th>secondary_cleaner.state.floatbank4_a_level</th>\n",
              "      <th>secondary_cleaner.state.floatbank4_b_air</th>\n",
              "      <th>secondary_cleaner.state.floatbank4_b_level</th>\n",
              "      <th>secondary_cleaner.state.floatbank5_a_air</th>\n",
              "      <th>secondary_cleaner.state.floatbank5_a_level</th>\n",
              "      <th>secondary_cleaner.state.floatbank5_b_air</th>\n",
              "      <th>secondary_cleaner.state.floatbank5_b_level</th>\n",
              "      <th>secondary_cleaner.state.floatbank6_a_air</th>\n",
              "      <th>secondary_cleaner.state.floatbank6_a_level</th>\n",
              "    </tr>\n",
              "  </thead>\n",
              "  <tbody>\n",
              "    <tr>\n",
              "      <th>0</th>\n",
              "      <td>2016-01-15 00:00:00</td>\n",
              "      <td>6.055403</td>\n",
              "      <td>9.889648</td>\n",
              "      <td>5.507324</td>\n",
              "      <td>42.192020</td>\n",
              "      <td>70.541216</td>\n",
              "      <td>10.411962</td>\n",
              "      <td>0.895447</td>\n",
              "      <td>16.904297</td>\n",
              "      <td>2.143149</td>\n",
              "      <td>127.092003</td>\n",
              "      <td>10.128295</td>\n",
              "      <td>7.25</td>\n",
              "      <td>0.988759</td>\n",
              "      <td>8.547551</td>\n",
              "      <td>10.389648</td>\n",
              "      <td>19.529297</td>\n",
              "      <td>34.174427</td>\n",
              "      <td>14.936526</td>\n",
              "      <td>2.534912</td>\n",
              "      <td>7.476074</td>\n",
              "      <td>2.106679</td>\n",
              "      <td>1549.775757</td>\n",
              "      <td>-498.912140</td>\n",
              "      <td>1551.434204</td>\n",
              "      <td>-516.403442</td>\n",
              "      <td>1549.873901</td>\n",
              "      <td>-498.666595</td>\n",
              "      <td>1554.367432</td>\n",
              "      <td>-493.428131</td>\n",
              "      <td>41885.707031</td>\n",
              "      <td>3481.779053</td>\n",
              "      <td>3520.337158</td>\n",
              "      <td>2.838687</td>\n",
              "      <td>6.100378</td>\n",
              "      <td>2.284912</td>\n",
              "      <td>523.546326</td>\n",
              "      <td>55.486599</td>\n",
              "      <td>36.808594</td>\n",
              "      <td>6.486150</td>\n",
              "      <td>11.986616</td>\n",
              "      <td>6.007990</td>\n",
              "      <td>11.836743</td>\n",
              "      <td>6.005818</td>\n",
              "      <td>11.500771</td>\n",
              "      <td>7.101074</td>\n",
              "      <td>28.029297</td>\n",
              "      <td>19.793808</td>\n",
              "      <td>87.107763</td>\n",
              "      <td>5.008018</td>\n",
              "      <td>0.508728</td>\n",
              "      <td>19.154297</td>\n",
              "      <td>1.170244</td>\n",
              "      <td>999.706909</td>\n",
              "      <td>-404.066986</td>\n",
              "      <td>1603.011353</td>\n",
              "      <td>-434.715027</td>\n",
              "      <td>1602.375000</td>\n",
              "      <td>-442.204468</td>\n",
              "      <td>1598.937256</td>\n",
              "      <td>-451.294128</td>\n",
              "      <td>1404.472046</td>\n",
              "      <td>-455.462982</td>\n",
              "      <td>1416.354980</td>\n",
              "      <td>-451.939636</td>\n",
              "      <td>14.500184</td>\n",
              "      <td>4.694824</td>\n",
              "      <td>8.764648</td>\n",
              "      <td>2.606185</td>\n",
              "      <td>25.853109</td>\n",
              "      <td>-498.526489</td>\n",
              "      <td>23.893660</td>\n",
              "      <td>-501.406281</td>\n",
              "      <td>23.961798</td>\n",
              "      <td>-495.262817</td>\n",
              "      <td>21.940409</td>\n",
              "      <td>-499.340973</td>\n",
              "      <td>14.016835</td>\n",
              "      <td>-502.488007</td>\n",
              "      <td>12.099931</td>\n",
              "      <td>-504.715942</td>\n",
              "      <td>9.925633</td>\n",
              "      <td>-498.310211</td>\n",
              "      <td>8.079666</td>\n",
              "      <td>-500.470978</td>\n",
              "      <td>14.151341</td>\n",
              "      <td>-605.841980</td>\n",
              "    </tr>\n",
              "    <tr>\n",
              "      <th>1</th>\n",
              "      <td>2016-01-15 01:00:00</td>\n",
              "      <td>6.029369</td>\n",
              "      <td>9.968944</td>\n",
              "      <td>5.257781</td>\n",
              "      <td>42.701629</td>\n",
              "      <td>69.266198</td>\n",
              "      <td>10.462676</td>\n",
              "      <td>0.927452</td>\n",
              "      <td>16.634514</td>\n",
              "      <td>2.224930</td>\n",
              "      <td>125.629232</td>\n",
              "      <td>10.296251</td>\n",
              "      <td>7.25</td>\n",
              "      <td>1.002663</td>\n",
              "      <td>8.558743</td>\n",
              "      <td>10.497069</td>\n",
              "      <td>19.369147</td>\n",
              "      <td>34.118526</td>\n",
              "      <td>16.250511</td>\n",
              "      <td>3.049646</td>\n",
              "      <td>6.733907</td>\n",
              "      <td>2.353017</td>\n",
              "      <td>1576.166671</td>\n",
              "      <td>-500.904965</td>\n",
              "      <td>1575.950626</td>\n",
              "      <td>-499.865889</td>\n",
              "      <td>1575.994189</td>\n",
              "      <td>-499.315107</td>\n",
              "      <td>1574.479259</td>\n",
              "      <td>-498.931665</td>\n",
              "      <td>42050.861809</td>\n",
              "      <td>3498.370979</td>\n",
              "      <td>3489.981857</td>\n",
              "      <td>2.858998</td>\n",
              "      <td>6.161113</td>\n",
              "      <td>2.266033</td>\n",
              "      <td>525.290581</td>\n",
              "      <td>57.278666</td>\n",
              "      <td>35.753385</td>\n",
              "      <td>6.478583</td>\n",
              "      <td>11.971193</td>\n",
              "      <td>6.005766</td>\n",
              "      <td>11.996163</td>\n",
              "      <td>6.012594</td>\n",
              "      <td>11.615865</td>\n",
              "      <td>7.278807</td>\n",
              "      <td>28.067063</td>\n",
              "      <td>20.050975</td>\n",
              "      <td>86.843261</td>\n",
              "      <td>4.955378</td>\n",
              "      <td>0.536689</td>\n",
              "      <td>18.965234</td>\n",
              "      <td>1.184827</td>\n",
              "      <td>1000.286398</td>\n",
              "      <td>-400.065196</td>\n",
              "      <td>1600.754587</td>\n",
              "      <td>-449.953435</td>\n",
              "      <td>1600.479580</td>\n",
              "      <td>-449.830646</td>\n",
              "      <td>1600.527589</td>\n",
              "      <td>-449.953649</td>\n",
              "      <td>1399.227084</td>\n",
              "      <td>-450.869848</td>\n",
              "      <td>1399.719514</td>\n",
              "      <td>-450.119001</td>\n",
              "      <td>14.265474</td>\n",
              "      <td>4.592547</td>\n",
              "      <td>9.001494</td>\n",
              "      <td>2.488248</td>\n",
              "      <td>25.880539</td>\n",
              "      <td>-499.989656</td>\n",
              "      <td>23.889530</td>\n",
              "      <td>-500.372428</td>\n",
              "      <td>23.970550</td>\n",
              "      <td>-500.085473</td>\n",
              "      <td>22.085714</td>\n",
              "      <td>-499.446897</td>\n",
              "      <td>13.992281</td>\n",
              "      <td>-505.503262</td>\n",
              "      <td>11.950531</td>\n",
              "      <td>-501.331529</td>\n",
              "      <td>10.039245</td>\n",
              "      <td>-500.169983</td>\n",
              "      <td>7.984757</td>\n",
              "      <td>-500.582168</td>\n",
              "      <td>13.998353</td>\n",
              "      <td>-599.787184</td>\n",
              "    </tr>\n",
              "    <tr>\n",
              "      <th>2</th>\n",
              "      <td>2016-01-15 02:00:00</td>\n",
              "      <td>6.055926</td>\n",
              "      <td>10.213995</td>\n",
              "      <td>5.383759</td>\n",
              "      <td>42.657501</td>\n",
              "      <td>68.116445</td>\n",
              "      <td>10.507046</td>\n",
              "      <td>0.953716</td>\n",
              "      <td>16.208849</td>\n",
              "      <td>2.257889</td>\n",
              "      <td>123.819808</td>\n",
              "      <td>11.316280</td>\n",
              "      <td>7.25</td>\n",
              "      <td>0.991265</td>\n",
              "      <td>8.603505</td>\n",
              "      <td>10.354494</td>\n",
              "      <td>19.167579</td>\n",
              "      <td>33.969464</td>\n",
              "      <td>16.491823</td>\n",
              "      <td>3.124664</td>\n",
              "      <td>6.471768</td>\n",
              "      <td>2.416800</td>\n",
              "      <td>1601.556163</td>\n",
              "      <td>-499.997791</td>\n",
              "      <td>1600.386685</td>\n",
              "      <td>-500.607762</td>\n",
              "      <td>1602.003542</td>\n",
              "      <td>-500.870069</td>\n",
              "      <td>1599.541515</td>\n",
              "      <td>-499.827444</td>\n",
              "      <td>42018.101184</td>\n",
              "      <td>3495.348910</td>\n",
              "      <td>3502.359819</td>\n",
              "      <td>2.945989</td>\n",
              "      <td>6.116455</td>\n",
              "      <td>2.159622</td>\n",
              "      <td>530.026610</td>\n",
              "      <td>57.510649</td>\n",
              "      <td>35.971630</td>\n",
              "      <td>6.362222</td>\n",
              "      <td>11.920603</td>\n",
              "      <td>6.197377</td>\n",
              "      <td>11.920305</td>\n",
              "      <td>6.204633</td>\n",
              "      <td>11.695753</td>\n",
              "      <td>7.216833</td>\n",
              "      <td>27.454037</td>\n",
              "      <td>19.737170</td>\n",
              "      <td>86.842308</td>\n",
              "      <td>4.843460</td>\n",
              "      <td>0.546416</td>\n",
              "      <td>18.808533</td>\n",
              "      <td>1.162562</td>\n",
              "      <td>999.719565</td>\n",
              "      <td>-400.074028</td>\n",
              "      <td>1599.337330</td>\n",
              "      <td>-450.008530</td>\n",
              "      <td>1599.672797</td>\n",
              "      <td>-449.954491</td>\n",
              "      <td>1599.849325</td>\n",
              "      <td>-449.954185</td>\n",
              "      <td>1399.180945</td>\n",
              "      <td>-449.937588</td>\n",
              "      <td>1400.316682</td>\n",
              "      <td>-450.527147</td>\n",
              "      <td>14.115662</td>\n",
              "      <td>4.624775</td>\n",
              "      <td>8.842896</td>\n",
              "      <td>2.458187</td>\n",
              "      <td>26.005245</td>\n",
              "      <td>-499.929616</td>\n",
              "      <td>23.886657</td>\n",
              "      <td>-499.951928</td>\n",
              "      <td>23.913535</td>\n",
              "      <td>-499.442343</td>\n",
              "      <td>23.957717</td>\n",
              "      <td>-499.901982</td>\n",
              "      <td>14.015015</td>\n",
              "      <td>-502.520901</td>\n",
              "      <td>11.912783</td>\n",
              "      <td>-501.133383</td>\n",
              "      <td>10.070913</td>\n",
              "      <td>-500.129135</td>\n",
              "      <td>8.013877</td>\n",
              "      <td>-500.517572</td>\n",
              "      <td>14.028663</td>\n",
              "      <td>-601.427363</td>\n",
              "    </tr>\n",
              "    <tr>\n",
              "      <th>3</th>\n",
              "      <td>2016-01-15 03:00:00</td>\n",
              "      <td>6.047977</td>\n",
              "      <td>9.977019</td>\n",
              "      <td>4.858634</td>\n",
              "      <td>42.689819</td>\n",
              "      <td>68.347543</td>\n",
              "      <td>10.422762</td>\n",
              "      <td>0.883763</td>\n",
              "      <td>16.532835</td>\n",
              "      <td>2.146849</td>\n",
              "      <td>122.270188</td>\n",
              "      <td>11.322140</td>\n",
              "      <td>7.25</td>\n",
              "      <td>0.996739</td>\n",
              "      <td>7.221879</td>\n",
              "      <td>8.496563</td>\n",
              "      <td>15.978538</td>\n",
              "      <td>28.260743</td>\n",
              "      <td>16.024359</td>\n",
              "      <td>2.960362</td>\n",
              "      <td>6.843791</td>\n",
              "      <td>2.262051</td>\n",
              "      <td>1599.968720</td>\n",
              "      <td>-500.951778</td>\n",
              "      <td>1600.659236</td>\n",
              "      <td>-499.677094</td>\n",
              "      <td>1600.304144</td>\n",
              "      <td>-500.727997</td>\n",
              "      <td>1600.449520</td>\n",
              "      <td>-500.052575</td>\n",
              "      <td>42029.447991</td>\n",
              "      <td>3498.578313</td>\n",
              "      <td>3499.162912</td>\n",
              "      <td>3.002340</td>\n",
              "      <td>6.043309</td>\n",
              "      <td>2.037807</td>\n",
              "      <td>542.590390</td>\n",
              "      <td>57.792734</td>\n",
              "      <td>36.862241</td>\n",
              "      <td>6.118189</td>\n",
              "      <td>11.630094</td>\n",
              "      <td>6.203177</td>\n",
              "      <td>11.692450</td>\n",
              "      <td>6.196578</td>\n",
              "      <td>11.915047</td>\n",
              "      <td>7.175616</td>\n",
              "      <td>27.341277</td>\n",
              "      <td>19.320810</td>\n",
              "      <td>87.226430</td>\n",
              "      <td>4.655288</td>\n",
              "      <td>0.542525</td>\n",
              "      <td>19.330200</td>\n",
              "      <td>1.079755</td>\n",
              "      <td>999.814770</td>\n",
              "      <td>-400.200179</td>\n",
              "      <td>1600.059442</td>\n",
              "      <td>-450.619948</td>\n",
              "      <td>1600.012842</td>\n",
              "      <td>-449.910497</td>\n",
              "      <td>1597.725177</td>\n",
              "      <td>-450.130127</td>\n",
              "      <td>1400.943157</td>\n",
              "      <td>-450.030142</td>\n",
              "      <td>1400.234743</td>\n",
              "      <td>-449.790835</td>\n",
              "      <td>13.732071</td>\n",
              "      <td>4.482453</td>\n",
              "      <td>9.122857</td>\n",
              "      <td>2.322062</td>\n",
              "      <td>25.942508</td>\n",
              "      <td>-499.176749</td>\n",
              "      <td>23.955516</td>\n",
              "      <td>-499.848796</td>\n",
              "      <td>23.966838</td>\n",
              "      <td>-500.008812</td>\n",
              "      <td>23.954443</td>\n",
              "      <td>-499.944710</td>\n",
              "      <td>14.036510</td>\n",
              "      <td>-500.857308</td>\n",
              "      <td>11.999550</td>\n",
              "      <td>-501.193686</td>\n",
              "      <td>9.970366</td>\n",
              "      <td>-499.201640</td>\n",
              "      <td>7.977324</td>\n",
              "      <td>-500.255908</td>\n",
              "      <td>14.005551</td>\n",
              "      <td>-599.996129</td>\n",
              "    </tr>\n",
              "    <tr>\n",
              "      <th>4</th>\n",
              "      <td>2016-01-15 04:00:00</td>\n",
              "      <td>6.148599</td>\n",
              "      <td>10.142511</td>\n",
              "      <td>4.939416</td>\n",
              "      <td>42.774141</td>\n",
              "      <td>66.927016</td>\n",
              "      <td>10.360302</td>\n",
              "      <td>0.792826</td>\n",
              "      <td>16.525686</td>\n",
              "      <td>2.055292</td>\n",
              "      <td>117.988169</td>\n",
              "      <td>11.913613</td>\n",
              "      <td>7.25</td>\n",
              "      <td>1.009869</td>\n",
              "      <td>9.089428</td>\n",
              "      <td>9.986786</td>\n",
              "      <td>19.199864</td>\n",
              "      <td>33.044932</td>\n",
              "      <td>16.480185</td>\n",
              "      <td>3.112100</td>\n",
              "      <td>6.550154</td>\n",
              "      <td>2.277073</td>\n",
              "      <td>1601.339707</td>\n",
              "      <td>-498.975456</td>\n",
              "      <td>1601.437854</td>\n",
              "      <td>-500.323246</td>\n",
              "      <td>1599.581894</td>\n",
              "      <td>-500.888152</td>\n",
              "      <td>1602.649541</td>\n",
              "      <td>-500.593010</td>\n",
              "      <td>42125.354245</td>\n",
              "      <td>3494.800771</td>\n",
              "      <td>3506.679315</td>\n",
              "      <td>3.169615</td>\n",
              "      <td>6.060915</td>\n",
              "      <td>1.786875</td>\n",
              "      <td>540.531893</td>\n",
              "      <td>56.047189</td>\n",
              "      <td>34.347666</td>\n",
              "      <td>5.663707</td>\n",
              "      <td>10.957755</td>\n",
              "      <td>6.198826</td>\n",
              "      <td>10.960521</td>\n",
              "      <td>6.194897</td>\n",
              "      <td>12.411054</td>\n",
              "      <td>7.240205</td>\n",
              "      <td>27.041023</td>\n",
              "      <td>19.216101</td>\n",
              "      <td>86.688794</td>\n",
              "      <td>4.552800</td>\n",
              "      <td>0.515438</td>\n",
              "      <td>19.267422</td>\n",
              "      <td>1.012642</td>\n",
              "      <td>999.678690</td>\n",
              "      <td>-399.752729</td>\n",
              "      <td>1600.208824</td>\n",
              "      <td>-449.599614</td>\n",
              "      <td>1600.357732</td>\n",
              "      <td>-450.034364</td>\n",
              "      <td>1599.759049</td>\n",
              "      <td>-449.909799</td>\n",
              "      <td>1401.560902</td>\n",
              "      <td>-448.877187</td>\n",
              "      <td>1401.160227</td>\n",
              "      <td>-450.407128</td>\n",
              "      <td>14.079996</td>\n",
              "      <td>4.470737</td>\n",
              "      <td>8.871028</td>\n",
              "      <td>2.330448</td>\n",
              "      <td>26.024787</td>\n",
              "      <td>-500.279091</td>\n",
              "      <td>23.955345</td>\n",
              "      <td>-500.593614</td>\n",
              "      <td>23.985703</td>\n",
              "      <td>-500.083811</td>\n",
              "      <td>23.958945</td>\n",
              "      <td>-499.990309</td>\n",
              "      <td>14.027298</td>\n",
              "      <td>-499.838632</td>\n",
              "      <td>11.953070</td>\n",
              "      <td>-501.053894</td>\n",
              "      <td>9.925709</td>\n",
              "      <td>-501.686727</td>\n",
              "      <td>7.894242</td>\n",
              "      <td>-500.356035</td>\n",
              "      <td>13.996647</td>\n",
              "      <td>-601.496691</td>\n",
              "    </tr>\n",
              "  </tbody>\n",
              "</table>\n",
              "</div>"
            ],
            "text/plain": [
              "                  date  final.output.concentrate_ag  \\\n",
              "0  2016-01-15 00:00:00                     6.055403   \n",
              "1  2016-01-15 01:00:00                     6.029369   \n",
              "2  2016-01-15 02:00:00                     6.055926   \n",
              "3  2016-01-15 03:00:00                     6.047977   \n",
              "4  2016-01-15 04:00:00                     6.148599   \n",
              "\n",
              "   final.output.concentrate_pb  final.output.concentrate_sol  \\\n",
              "0                     9.889648                      5.507324   \n",
              "1                     9.968944                      5.257781   \n",
              "2                    10.213995                      5.383759   \n",
              "3                     9.977019                      4.858634   \n",
              "4                    10.142511                      4.939416   \n",
              "\n",
              "   final.output.concentrate_au  final.output.recovery  final.output.tail_ag  \\\n",
              "0                    42.192020              70.541216             10.411962   \n",
              "1                    42.701629              69.266198             10.462676   \n",
              "2                    42.657501              68.116445             10.507046   \n",
              "3                    42.689819              68.347543             10.422762   \n",
              "4                    42.774141              66.927016             10.360302   \n",
              "\n",
              "   final.output.tail_pb  final.output.tail_sol  final.output.tail_au  \\\n",
              "0              0.895447              16.904297              2.143149   \n",
              "1              0.927452              16.634514              2.224930   \n",
              "2              0.953716              16.208849              2.257889   \n",
              "3              0.883763              16.532835              2.146849   \n",
              "4              0.792826              16.525686              2.055292   \n",
              "\n",
              "   primary_cleaner.input.sulfate  primary_cleaner.input.depressant  \\\n",
              "0                     127.092003                         10.128295   \n",
              "1                     125.629232                         10.296251   \n",
              "2                     123.819808                         11.316280   \n",
              "3                     122.270188                         11.322140   \n",
              "4                     117.988169                         11.913613   \n",
              "\n",
              "   primary_cleaner.input.feed_size  primary_cleaner.input.xanthate  \\\n",
              "0                             7.25                        0.988759   \n",
              "1                             7.25                        1.002663   \n",
              "2                             7.25                        0.991265   \n",
              "3                             7.25                        0.996739   \n",
              "4                             7.25                        1.009869   \n",
              "\n",
              "   primary_cleaner.output.concentrate_ag  \\\n",
              "0                               8.547551   \n",
              "1                               8.558743   \n",
              "2                               8.603505   \n",
              "3                               7.221879   \n",
              "4                               9.089428   \n",
              "\n",
              "   primary_cleaner.output.concentrate_pb  \\\n",
              "0                              10.389648   \n",
              "1                              10.497069   \n",
              "2                              10.354494   \n",
              "3                               8.496563   \n",
              "4                               9.986786   \n",
              "\n",
              "   primary_cleaner.output.concentrate_sol  \\\n",
              "0                               19.529297   \n",
              "1                               19.369147   \n",
              "2                               19.167579   \n",
              "3                               15.978538   \n",
              "4                               19.199864   \n",
              "\n",
              "   primary_cleaner.output.concentrate_au  primary_cleaner.output.tail_ag  \\\n",
              "0                              34.174427                       14.936526   \n",
              "1                              34.118526                       16.250511   \n",
              "2                              33.969464                       16.491823   \n",
              "3                              28.260743                       16.024359   \n",
              "4                              33.044932                       16.480185   \n",
              "\n",
              "   primary_cleaner.output.tail_pb  primary_cleaner.output.tail_sol  \\\n",
              "0                        2.534912                         7.476074   \n",
              "1                        3.049646                         6.733907   \n",
              "2                        3.124664                         6.471768   \n",
              "3                        2.960362                         6.843791   \n",
              "4                        3.112100                         6.550154   \n",
              "\n",
              "   primary_cleaner.output.tail_au  primary_cleaner.state.floatbank8_a_air  \\\n",
              "0                        2.106679                             1549.775757   \n",
              "1                        2.353017                             1576.166671   \n",
              "2                        2.416800                             1601.556163   \n",
              "3                        2.262051                             1599.968720   \n",
              "4                        2.277073                             1601.339707   \n",
              "\n",
              "   primary_cleaner.state.floatbank8_a_level  \\\n",
              "0                               -498.912140   \n",
              "1                               -500.904965   \n",
              "2                               -499.997791   \n",
              "3                               -500.951778   \n",
              "4                               -498.975456   \n",
              "\n",
              "   primary_cleaner.state.floatbank8_b_air  \\\n",
              "0                             1551.434204   \n",
              "1                             1575.950626   \n",
              "2                             1600.386685   \n",
              "3                             1600.659236   \n",
              "4                             1601.437854   \n",
              "\n",
              "   primary_cleaner.state.floatbank8_b_level  \\\n",
              "0                               -516.403442   \n",
              "1                               -499.865889   \n",
              "2                               -500.607762   \n",
              "3                               -499.677094   \n",
              "4                               -500.323246   \n",
              "\n",
              "   primary_cleaner.state.floatbank8_c_air  \\\n",
              "0                             1549.873901   \n",
              "1                             1575.994189   \n",
              "2                             1602.003542   \n",
              "3                             1600.304144   \n",
              "4                             1599.581894   \n",
              "\n",
              "   primary_cleaner.state.floatbank8_c_level  \\\n",
              "0                               -498.666595   \n",
              "1                               -499.315107   \n",
              "2                               -500.870069   \n",
              "3                               -500.727997   \n",
              "4                               -500.888152   \n",
              "\n",
              "   primary_cleaner.state.floatbank8_d_air  \\\n",
              "0                             1554.367432   \n",
              "1                             1574.479259   \n",
              "2                             1599.541515   \n",
              "3                             1600.449520   \n",
              "4                             1602.649541   \n",
              "\n",
              "   primary_cleaner.state.floatbank8_d_level  \\\n",
              "0                               -493.428131   \n",
              "1                               -498.931665   \n",
              "2                               -499.827444   \n",
              "3                               -500.052575   \n",
              "4                               -500.593010   \n",
              "\n",
              "   rougher.calculation.sulfate_to_au_concentrate  \\\n",
              "0                                   41885.707031   \n",
              "1                                   42050.861809   \n",
              "2                                   42018.101184   \n",
              "3                                   42029.447991   \n",
              "4                                   42125.354245   \n",
              "\n",
              "   rougher.calculation.floatbank10_sulfate_to_au_feed  \\\n",
              "0                                        3481.779053    \n",
              "1                                        3498.370979    \n",
              "2                                        3495.348910    \n",
              "3                                        3498.578313    \n",
              "4                                        3494.800771    \n",
              "\n",
              "   rougher.calculation.floatbank11_sulfate_to_au_feed  \\\n",
              "0                                        3520.337158    \n",
              "1                                        3489.981857    \n",
              "2                                        3502.359819    \n",
              "3                                        3499.162912    \n",
              "4                                        3506.679315    \n",
              "\n",
              "   rougher.calculation.au_pb_ratio  rougher.input.feed_ag  \\\n",
              "0                         2.838687               6.100378   \n",
              "1                         2.858998               6.161113   \n",
              "2                         2.945989               6.116455   \n",
              "3                         3.002340               6.043309   \n",
              "4                         3.169615               6.060915   \n",
              "\n",
              "   rougher.input.feed_pb  rougher.input.feed_rate  rougher.input.feed_size  \\\n",
              "0               2.284912               523.546326                55.486599   \n",
              "1               2.266033               525.290581                57.278666   \n",
              "2               2.159622               530.026610                57.510649   \n",
              "3               2.037807               542.590390                57.792734   \n",
              "4               1.786875               540.531893                56.047189   \n",
              "\n",
              "   rougher.input.feed_sol  rougher.input.feed_au  \\\n",
              "0               36.808594               6.486150   \n",
              "1               35.753385               6.478583   \n",
              "2               35.971630               6.362222   \n",
              "3               36.862241               6.118189   \n",
              "4               34.347666               5.663707   \n",
              "\n",
              "   rougher.input.floatbank10_sulfate  rougher.input.floatbank10_xanthate  \\\n",
              "0                          11.986616                            6.007990   \n",
              "1                          11.971193                            6.005766   \n",
              "2                          11.920603                            6.197377   \n",
              "3                          11.630094                            6.203177   \n",
              "4                          10.957755                            6.198826   \n",
              "\n",
              "   rougher.input.floatbank11_sulfate  rougher.input.floatbank11_xanthate  \\\n",
              "0                          11.836743                            6.005818   \n",
              "1                          11.996163                            6.012594   \n",
              "2                          11.920305                            6.204633   \n",
              "3                          11.692450                            6.196578   \n",
              "4                          10.960521                            6.194897   \n",
              "\n",
              "   rougher.output.concentrate_ag  rougher.output.concentrate_pb  \\\n",
              "0                      11.500771                       7.101074   \n",
              "1                      11.615865                       7.278807   \n",
              "2                      11.695753                       7.216833   \n",
              "3                      11.915047                       7.175616   \n",
              "4                      12.411054                       7.240205   \n",
              "\n",
              "   rougher.output.concentrate_sol  rougher.output.concentrate_au  \\\n",
              "0                       28.029297                      19.793808   \n",
              "1                       28.067063                      20.050975   \n",
              "2                       27.454037                      19.737170   \n",
              "3                       27.341277                      19.320810   \n",
              "4                       27.041023                      19.216101   \n",
              "\n",
              "   rougher.output.recovery  rougher.output.tail_ag  rougher.output.tail_pb  \\\n",
              "0                87.107763                5.008018                0.508728   \n",
              "1                86.843261                4.955378                0.536689   \n",
              "2                86.842308                4.843460                0.546416   \n",
              "3                87.226430                4.655288                0.542525   \n",
              "4                86.688794                4.552800                0.515438   \n",
              "\n",
              "   rougher.output.tail_sol  rougher.output.tail_au  \\\n",
              "0                19.154297                1.170244   \n",
              "1                18.965234                1.184827   \n",
              "2                18.808533                1.162562   \n",
              "3                19.330200                1.079755   \n",
              "4                19.267422                1.012642   \n",
              "\n",
              "   rougher.state.floatbank10_a_air  rougher.state.floatbank10_a_level  \\\n",
              "0                       999.706909                        -404.066986   \n",
              "1                      1000.286398                        -400.065196   \n",
              "2                       999.719565                        -400.074028   \n",
              "3                       999.814770                        -400.200179   \n",
              "4                       999.678690                        -399.752729   \n",
              "\n",
              "   rougher.state.floatbank10_b_air  rougher.state.floatbank10_b_level  \\\n",
              "0                      1603.011353                        -434.715027   \n",
              "1                      1600.754587                        -449.953435   \n",
              "2                      1599.337330                        -450.008530   \n",
              "3                      1600.059442                        -450.619948   \n",
              "4                      1600.208824                        -449.599614   \n",
              "\n",
              "   rougher.state.floatbank10_c_air  rougher.state.floatbank10_c_level  \\\n",
              "0                      1602.375000                        -442.204468   \n",
              "1                      1600.479580                        -449.830646   \n",
              "2                      1599.672797                        -449.954491   \n",
              "3                      1600.012842                        -449.910497   \n",
              "4                      1600.357732                        -450.034364   \n",
              "\n",
              "   rougher.state.floatbank10_d_air  rougher.state.floatbank10_d_level  \\\n",
              "0                      1598.937256                        -451.294128   \n",
              "1                      1600.527589                        -449.953649   \n",
              "2                      1599.849325                        -449.954185   \n",
              "3                      1597.725177                        -450.130127   \n",
              "4                      1599.759049                        -449.909799   \n",
              "\n",
              "   rougher.state.floatbank10_e_air  rougher.state.floatbank10_e_level  \\\n",
              "0                      1404.472046                        -455.462982   \n",
              "1                      1399.227084                        -450.869848   \n",
              "2                      1399.180945                        -449.937588   \n",
              "3                      1400.943157                        -450.030142   \n",
              "4                      1401.560902                        -448.877187   \n",
              "\n",
              "   rougher.state.floatbank10_f_air  rougher.state.floatbank10_f_level  \\\n",
              "0                      1416.354980                        -451.939636   \n",
              "1                      1399.719514                        -450.119001   \n",
              "2                      1400.316682                        -450.527147   \n",
              "3                      1400.234743                        -449.790835   \n",
              "4                      1401.160227                        -450.407128   \n",
              "\n",
              "   secondary_cleaner.output.tail_ag  secondary_cleaner.output.tail_pb  \\\n",
              "0                         14.500184                          4.694824   \n",
              "1                         14.265474                          4.592547   \n",
              "2                         14.115662                          4.624775   \n",
              "3                         13.732071                          4.482453   \n",
              "4                         14.079996                          4.470737   \n",
              "\n",
              "   secondary_cleaner.output.tail_sol  secondary_cleaner.output.tail_au  \\\n",
              "0                           8.764648                          2.606185   \n",
              "1                           9.001494                          2.488248   \n",
              "2                           8.842896                          2.458187   \n",
              "3                           9.122857                          2.322062   \n",
              "4                           8.871028                          2.330448   \n",
              "\n",
              "   secondary_cleaner.state.floatbank2_a_air  \\\n",
              "0                                 25.853109   \n",
              "1                                 25.880539   \n",
              "2                                 26.005245   \n",
              "3                                 25.942508   \n",
              "4                                 26.024787   \n",
              "\n",
              "   secondary_cleaner.state.floatbank2_a_level  \\\n",
              "0                                 -498.526489   \n",
              "1                                 -499.989656   \n",
              "2                                 -499.929616   \n",
              "3                                 -499.176749   \n",
              "4                                 -500.279091   \n",
              "\n",
              "   secondary_cleaner.state.floatbank2_b_air  \\\n",
              "0                                 23.893660   \n",
              "1                                 23.889530   \n",
              "2                                 23.886657   \n",
              "3                                 23.955516   \n",
              "4                                 23.955345   \n",
              "\n",
              "   secondary_cleaner.state.floatbank2_b_level  \\\n",
              "0                                 -501.406281   \n",
              "1                                 -500.372428   \n",
              "2                                 -499.951928   \n",
              "3                                 -499.848796   \n",
              "4                                 -500.593614   \n",
              "\n",
              "   secondary_cleaner.state.floatbank3_a_air  \\\n",
              "0                                 23.961798   \n",
              "1                                 23.970550   \n",
              "2                                 23.913535   \n",
              "3                                 23.966838   \n",
              "4                                 23.985703   \n",
              "\n",
              "   secondary_cleaner.state.floatbank3_a_level  \\\n",
              "0                                 -495.262817   \n",
              "1                                 -500.085473   \n",
              "2                                 -499.442343   \n",
              "3                                 -500.008812   \n",
              "4                                 -500.083811   \n",
              "\n",
              "   secondary_cleaner.state.floatbank3_b_air  \\\n",
              "0                                 21.940409   \n",
              "1                                 22.085714   \n",
              "2                                 23.957717   \n",
              "3                                 23.954443   \n",
              "4                                 23.958945   \n",
              "\n",
              "   secondary_cleaner.state.floatbank3_b_level  \\\n",
              "0                                 -499.340973   \n",
              "1                                 -499.446897   \n",
              "2                                 -499.901982   \n",
              "3                                 -499.944710   \n",
              "4                                 -499.990309   \n",
              "\n",
              "   secondary_cleaner.state.floatbank4_a_air  \\\n",
              "0                                 14.016835   \n",
              "1                                 13.992281   \n",
              "2                                 14.015015   \n",
              "3                                 14.036510   \n",
              "4                                 14.027298   \n",
              "\n",
              "   secondary_cleaner.state.floatbank4_a_level  \\\n",
              "0                                 -502.488007   \n",
              "1                                 -505.503262   \n",
              "2                                 -502.520901   \n",
              "3                                 -500.857308   \n",
              "4                                 -499.838632   \n",
              "\n",
              "   secondary_cleaner.state.floatbank4_b_air  \\\n",
              "0                                 12.099931   \n",
              "1                                 11.950531   \n",
              "2                                 11.912783   \n",
              "3                                 11.999550   \n",
              "4                                 11.953070   \n",
              "\n",
              "   secondary_cleaner.state.floatbank4_b_level  \\\n",
              "0                                 -504.715942   \n",
              "1                                 -501.331529   \n",
              "2                                 -501.133383   \n",
              "3                                 -501.193686   \n",
              "4                                 -501.053894   \n",
              "\n",
              "   secondary_cleaner.state.floatbank5_a_air  \\\n",
              "0                                  9.925633   \n",
              "1                                 10.039245   \n",
              "2                                 10.070913   \n",
              "3                                  9.970366   \n",
              "4                                  9.925709   \n",
              "\n",
              "   secondary_cleaner.state.floatbank5_a_level  \\\n",
              "0                                 -498.310211   \n",
              "1                                 -500.169983   \n",
              "2                                 -500.129135   \n",
              "3                                 -499.201640   \n",
              "4                                 -501.686727   \n",
              "\n",
              "   secondary_cleaner.state.floatbank5_b_air  \\\n",
              "0                                  8.079666   \n",
              "1                                  7.984757   \n",
              "2                                  8.013877   \n",
              "3                                  7.977324   \n",
              "4                                  7.894242   \n",
              "\n",
              "   secondary_cleaner.state.floatbank5_b_level  \\\n",
              "0                                 -500.470978   \n",
              "1                                 -500.582168   \n",
              "2                                 -500.517572   \n",
              "3                                 -500.255908   \n",
              "4                                 -500.356035   \n",
              "\n",
              "   secondary_cleaner.state.floatbank6_a_air  \\\n",
              "0                                 14.151341   \n",
              "1                                 13.998353   \n",
              "2                                 14.028663   \n",
              "3                                 14.005551   \n",
              "4                                 13.996647   \n",
              "\n",
              "   secondary_cleaner.state.floatbank6_a_level  \n",
              "0                                 -605.841980  \n",
              "1                                 -599.787184  \n",
              "2                                 -601.427363  \n",
              "3                                 -599.996129  \n",
              "4                                 -601.496691  "
            ]
          },
          "metadata": {
            "tags": []
          },
          "execution_count": 9
        }
      ]
    },
    {
      "cell_type": "code",
      "metadata": {
        "scrolled": true,
        "id": "-5MzmA3RCkWx",
        "outputId": "b60782e7-cb8a-4f51-f2a3-6221a4add2f9"
      },
      "source": [
        "data_full.info()"
      ],
      "execution_count": null,
      "outputs": [
        {
          "output_type": "stream",
          "text": [
            "<class 'pandas.core.frame.DataFrame'>\n",
            "RangeIndex: 22716 entries, 0 to 22715\n",
            "Data columns (total 87 columns):\n",
            " #   Column                                              Non-Null Count  Dtype  \n",
            "---  ------                                              --------------  -----  \n",
            " 0   date                                                22716 non-null  object \n",
            " 1   final.output.concentrate_ag                         22627 non-null  float64\n",
            " 2   final.output.concentrate_pb                         22629 non-null  float64\n",
            " 3   final.output.concentrate_sol                        22331 non-null  float64\n",
            " 4   final.output.concentrate_au                         22630 non-null  float64\n",
            " 5   final.output.recovery                               20753 non-null  float64\n",
            " 6   final.output.tail_ag                                22633 non-null  float64\n",
            " 7   final.output.tail_pb                                22516 non-null  float64\n",
            " 8   final.output.tail_sol                               22445 non-null  float64\n",
            " 9   final.output.tail_au                                22635 non-null  float64\n",
            " 10  primary_cleaner.input.sulfate                       21107 non-null  float64\n",
            " 11  primary_cleaner.input.depressant                    21170 non-null  float64\n",
            " 12  primary_cleaner.input.feed_size                     22716 non-null  float64\n",
            " 13  primary_cleaner.input.xanthate                      21565 non-null  float64\n",
            " 14  primary_cleaner.output.concentrate_ag               22618 non-null  float64\n",
            " 15  primary_cleaner.output.concentrate_pb               22268 non-null  float64\n",
            " 16  primary_cleaner.output.concentrate_sol              21918 non-null  float64\n",
            " 17  primary_cleaner.output.concentrate_au               22618 non-null  float64\n",
            " 18  primary_cleaner.output.tail_ag                      22614 non-null  float64\n",
            " 19  primary_cleaner.output.tail_pb                      22594 non-null  float64\n",
            " 20  primary_cleaner.output.tail_sol                     22365 non-null  float64\n",
            " 21  primary_cleaner.output.tail_au                      22617 non-null  float64\n",
            " 22  primary_cleaner.state.floatbank8_a_air              22660 non-null  float64\n",
            " 23  primary_cleaner.state.floatbank8_a_level            22667 non-null  float64\n",
            " 24  primary_cleaner.state.floatbank8_b_air              22660 non-null  float64\n",
            " 25  primary_cleaner.state.floatbank8_b_level            22673 non-null  float64\n",
            " 26  primary_cleaner.state.floatbank8_c_air              22662 non-null  float64\n",
            " 27  primary_cleaner.state.floatbank8_c_level            22673 non-null  float64\n",
            " 28  primary_cleaner.state.floatbank8_d_air              22661 non-null  float64\n",
            " 29  primary_cleaner.state.floatbank8_d_level            22673 non-null  float64\n",
            " 30  rougher.calculation.sulfate_to_au_concentrate       22672 non-null  float64\n",
            " 31  rougher.calculation.floatbank10_sulfate_to_au_feed  22672 non-null  float64\n",
            " 32  rougher.calculation.floatbank11_sulfate_to_au_feed  22672 non-null  float64\n",
            " 33  rougher.calculation.au_pb_ratio                     21089 non-null  float64\n",
            " 34  rougher.input.feed_ag                               22618 non-null  float64\n",
            " 35  rougher.input.feed_pb                               22472 non-null  float64\n",
            " 36  rougher.input.feed_rate                             22163 non-null  float64\n",
            " 37  rougher.input.feed_size                             22277 non-null  float64\n",
            " 38  rougher.input.feed_sol                              22357 non-null  float64\n",
            " 39  rougher.input.feed_au                               22617 non-null  float64\n",
            " 40  rougher.input.floatbank10_sulfate                   21415 non-null  float64\n",
            " 41  rougher.input.floatbank10_xanthate                  22247 non-null  float64\n",
            " 42  rougher.input.floatbank11_sulfate                   22038 non-null  float64\n",
            " 43  rougher.input.floatbank11_xanthate                  20459 non-null  float64\n",
            " 44  rougher.output.concentrate_ag                       22618 non-null  float64\n",
            " 45  rougher.output.concentrate_pb                       22618 non-null  float64\n",
            " 46  rougher.output.concentrate_sol                      22526 non-null  float64\n",
            " 47  rougher.output.concentrate_au                       22618 non-null  float64\n",
            " 48  rougher.output.recovery                             19597 non-null  float64\n",
            " 49  rougher.output.tail_ag                              19979 non-null  float64\n",
            " 50  rougher.output.tail_pb                              22618 non-null  float64\n",
            " 51  rougher.output.tail_sol                             19980 non-null  float64\n",
            " 52  rougher.output.tail_au                              19980 non-null  float64\n",
            " 53  rougher.state.floatbank10_a_air                     22646 non-null  float64\n",
            " 54  rougher.state.floatbank10_a_level                   22647 non-null  float64\n",
            " 55  rougher.state.floatbank10_b_air                     22646 non-null  float64\n",
            " 56  rougher.state.floatbank10_b_level                   22647 non-null  float64\n",
            " 57  rougher.state.floatbank10_c_air                     22646 non-null  float64\n",
            " 58  rougher.state.floatbank10_c_level                   22654 non-null  float64\n",
            " 59  rougher.state.floatbank10_d_air                     22641 non-null  float64\n",
            " 60  rougher.state.floatbank10_d_level                   22649 non-null  float64\n",
            " 61  rougher.state.floatbank10_e_air                     22096 non-null  float64\n",
            " 62  rougher.state.floatbank10_e_level                   22649 non-null  float64\n",
            " 63  rougher.state.floatbank10_f_air                     22641 non-null  float64\n",
            " 64  rougher.state.floatbank10_f_level                   22642 non-null  float64\n",
            " 65  secondary_cleaner.output.tail_ag                    22616 non-null  float64\n",
            " 66  secondary_cleaner.output.tail_pb                    22600 non-null  float64\n",
            " 67  secondary_cleaner.output.tail_sol                   20501 non-null  float64\n",
            " 68  secondary_cleaner.output.tail_au                    22618 non-null  float64\n",
            " 69  secondary_cleaner.state.floatbank2_a_air            22333 non-null  float64\n",
            " 70  secondary_cleaner.state.floatbank2_a_level          22591 non-null  float64\n",
            " 71  secondary_cleaner.state.floatbank2_b_air            22538 non-null  float64\n",
            " 72  secondary_cleaner.state.floatbank2_b_level          22588 non-null  float64\n",
            " 73  secondary_cleaner.state.floatbank3_a_air            22585 non-null  float64\n",
            " 74  secondary_cleaner.state.floatbank3_a_level          22587 non-null  float64\n",
            " 75  secondary_cleaner.state.floatbank3_b_air            22592 non-null  float64\n",
            " 76  secondary_cleaner.state.floatbank3_b_level          22590 non-null  float64\n",
            " 77  secondary_cleaner.state.floatbank4_a_air            22571 non-null  float64\n",
            " 78  secondary_cleaner.state.floatbank4_a_level          22587 non-null  float64\n",
            " 79  secondary_cleaner.state.floatbank4_b_air            22608 non-null  float64\n",
            " 80  secondary_cleaner.state.floatbank4_b_level          22607 non-null  float64\n",
            " 81  secondary_cleaner.state.floatbank5_a_air            22615 non-null  float64\n",
            " 82  secondary_cleaner.state.floatbank5_a_level          22615 non-null  float64\n",
            " 83  secondary_cleaner.state.floatbank5_b_air            22615 non-null  float64\n",
            " 84  secondary_cleaner.state.floatbank5_b_level          22616 non-null  float64\n",
            " 85  secondary_cleaner.state.floatbank6_a_air            22597 non-null  float64\n",
            " 86  secondary_cleaner.state.floatbank6_a_level          22615 non-null  float64\n",
            "dtypes: float64(86), object(1)\n",
            "memory usage: 15.1+ MB\n"
          ],
          "name": "stdout"
        }
      ]
    },
    {
      "cell_type": "code",
      "metadata": {
        "id": "LAs7b9YeCkWx",
        "outputId": "208837f7-602f-4285-bd3b-22026847a803"
      },
      "source": [
        "data_full['final.output.concentrate_au'].isnull().sum()"
      ],
      "execution_count": null,
      "outputs": [
        {
          "output_type": "execute_result",
          "data": {
            "text/plain": [
              "86"
            ]
          },
          "metadata": {
            "tags": []
          },
          "execution_count": 11
        }
      ]
    },
    {
      "cell_type": "markdown",
      "metadata": {
        "id": "sIfSmIJyCkWy"
      },
      "source": [
        "<a id=\"step_1.1\"></a>\n",
        "## Проверим, что эффективность обогащения рассчитана правильно. Вычислим её на обучающей выборке для признака *rougher.output.recovery*"
      ]
    },
    {
      "cell_type": "code",
      "metadata": {
        "id": "Ls8BBKp3CkWy",
        "outputId": "9855b2d2-18c3-4e9a-a945-2850dd678761"
      },
      "source": [
        "data_train['rougher.output.recovery']"
      ],
      "execution_count": null,
      "outputs": [
        {
          "output_type": "execute_result",
          "data": {
            "text/plain": [
              "0        87.107763\n",
              "1        86.843261\n",
              "2        86.842308\n",
              "3        87.226430\n",
              "4        86.688794\n",
              "           ...    \n",
              "16855    89.574376\n",
              "16856    87.724007\n",
              "16857    88.890579\n",
              "16858    89.858126\n",
              "16859    89.514960\n",
              "Name: rougher.output.recovery, Length: 16860, dtype: float64"
            ]
          },
          "metadata": {
            "tags": []
          },
          "execution_count": 12
        }
      ]
    },
    {
      "cell_type": "code",
      "metadata": {
        "scrolled": true,
        "id": "Tywnu0OmCkWy",
        "outputId": "1bc6b65f-09a9-4d8a-d53c-df6d20720823"
      },
      "source": [
        "target_dt=data_train['rougher.output.recovery']\n",
        "target_dt.describe()"
      ],
      "execution_count": null,
      "outputs": [
        {
          "output_type": "execute_result",
          "data": {
            "text/plain": [
              "count    14287.000000\n",
              "mean        82.394201\n",
              "std         15.096808\n",
              "min          0.000000\n",
              "25%         79.818372\n",
              "50%         85.235997\n",
              "75%         90.131691\n",
              "max        100.000000\n",
              "Name: rougher.output.recovery, dtype: float64"
            ]
          },
          "metadata": {
            "tags": []
          },
          "execution_count": 13
        }
      ]
    },
    {
      "cell_type": "code",
      "metadata": {
        "id": "p8exh98ZCkWy"
      },
      "source": [
        "def recovery(data):\n",
        "    c= data['rougher.output.concentrate_au'].dropna()\n",
        "    f= data['rougher.input.feed_au'].dropna()\n",
        "    t= data['rougher.output.tail_au'].dropna()\n",
        "    r= (c*(f[(f>0)]-t))/(f[(f>0)]*(c-t))*100\n",
        "    \n",
        "    data['RECOV']=abs(r[(r >= 0) & (r <= 100)])"
      ],
      "execution_count": null,
      "outputs": []
    },
    {
      "cell_type": "code",
      "metadata": {
        "scrolled": true,
        "id": "BRz6TYBTCkWz"
      },
      "source": [
        "recovery(data_train)"
      ],
      "execution_count": null,
      "outputs": []
    },
    {
      "cell_type": "code",
      "metadata": {
        "id": "tILJPRM8CkWz",
        "outputId": "fdc84007-47a2-4f9b-b388-2ee86ee91cbe"
      },
      "source": [
        "data_train['RECOV'].describe()"
      ],
      "execution_count": null,
      "outputs": [
        {
          "output_type": "execute_result",
          "data": {
            "text/plain": [
              "count    14287.000000\n",
              "mean        82.394201\n",
              "std         15.096808\n",
              "min          0.000000\n",
              "25%         79.818372\n",
              "50%         85.235997\n",
              "75%         90.131691\n",
              "max        100.000000\n",
              "Name: RECOV, dtype: float64"
            ]
          },
          "metadata": {
            "tags": []
          },
          "execution_count": 16
        }
      ]
    },
    {
      "cell_type": "code",
      "metadata": {
        "scrolled": true,
        "id": "0xAV4-lVCkWz",
        "outputId": "a529b0aa-7f04-4e8f-8167-17baf7d35a11"
      },
      "source": [
        "predict_dt=data_train['RECOV'].dropna()\n",
        "predict_dt.isna().sum()"
      ],
      "execution_count": null,
      "outputs": [
        {
          "output_type": "execute_result",
          "data": {
            "text/plain": [
              "0"
            ]
          },
          "metadata": {
            "tags": []
          },
          "execution_count": 17
        }
      ]
    },
    {
      "cell_type": "code",
      "metadata": {
        "id": "D0qYZRB9CkWz",
        "outputId": "3cdca2e8-4ceb-4154-fa76-512ac5135e5f"
      },
      "source": [
        "target_dt = target_dt.dropna(0)\n",
        "target_dt.isna().sum()"
      ],
      "execution_count": null,
      "outputs": [
        {
          "output_type": "execute_result",
          "data": {
            "text/plain": [
              "0"
            ]
          },
          "metadata": {
            "tags": []
          },
          "execution_count": 18
        }
      ]
    },
    {
      "cell_type": "markdown",
      "metadata": {
        "id": "z7nVuscOCkWz"
      },
      "source": [
        "<a id=\"step_1.2\"></a>\n",
        "## Найдём MAE между нашими расчётами и значением признака"
      ]
    },
    {
      "cell_type": "code",
      "metadata": {
        "id": "LIf1c9scCkW0"
      },
      "source": [
        "def mae(target,predict):\n",
        "    error=0\n",
        "    for i in range(target.shape[0]):\n",
        "        error += abs(target[i] - predict[i])\n",
        "        y = (error/(target.shape[0]))\n",
        "        return y"
      ],
      "execution_count": null,
      "outputs": []
    },
    {
      "cell_type": "code",
      "metadata": {
        "id": "c7ka8FlACkW0",
        "outputId": "7d5a6ec1-d1cd-4f97-9ca3-14cf49f83bd2"
      },
      "source": [
        "target_dt.shape[0]"
      ],
      "execution_count": null,
      "outputs": [
        {
          "output_type": "execute_result",
          "data": {
            "text/plain": [
              "14287"
            ]
          },
          "metadata": {
            "tags": []
          },
          "execution_count": 20
        }
      ]
    },
    {
      "cell_type": "code",
      "metadata": {
        "scrolled": true,
        "id": "dCXMB5NkCkW0",
        "outputId": "df19a0ca-c4ed-4a3d-d11e-fe2d01c22137"
      },
      "source": [
        "predict_dt.shape[0]"
      ],
      "execution_count": null,
      "outputs": [
        {
          "output_type": "execute_result",
          "data": {
            "text/plain": [
              "14287"
            ]
          },
          "metadata": {
            "tags": []
          },
          "execution_count": 21
        }
      ]
    },
    {
      "cell_type": "code",
      "metadata": {
        "scrolled": true,
        "id": "kM2bLjY4CkW0",
        "outputId": "880869b2-3912-406c-8616-8d4e798eb4d6"
      },
      "source": [
        "print(mae(target_dt,predict_dt))"
      ],
      "execution_count": null,
      "outputs": [
        {
          "output_type": "stream",
          "text": [
            "0.0\n"
          ],
          "name": "stdout"
        }
      ]
    },
    {
      "cell_type": "markdown",
      "metadata": {
        "id": "Wsmvynf1CkW1"
      },
      "source": [
        "### Найдём MAE при помощи функции `mean_absolute_error` из библиотеки `sklearn`"
      ]
    },
    {
      "cell_type": "code",
      "metadata": {
        "id": "nEeCH0cRCkW1"
      },
      "source": [
        "from sklearn.metrics import mean_absolute_error"
      ],
      "execution_count": null,
      "outputs": []
    },
    {
      "cell_type": "code",
      "metadata": {
        "id": "bCbzZkM8CkW1",
        "outputId": "c520af79-1f66-4dec-e4f6-058307445ed6"
      },
      "source": [
        "mean_absolute_error(target_dt,predict_dt).round(4)"
      ],
      "execution_count": null,
      "outputs": [
        {
          "output_type": "execute_result",
          "data": {
            "text/plain": [
              "0.0"
            ]
          },
          "metadata": {
            "tags": []
          },
          "execution_count": 24
        }
      ]
    },
    {
      "cell_type": "markdown",
      "metadata": {
        "id": "Z6PvK_4kCkW1"
      },
      "source": [
        "<a id=\"step_1.2.1\"></a>\n",
        "### Опишем выводы"
      ]
    },
    {
      "cell_type": "markdown",
      "metadata": {
        "id": "Po2fySWGCkW2"
      },
      "source": [
        "Отлично, значения по эффективности обогащения рассчитана правильно, результат работы нашей формулы проверили методом MAE по формуле и закрепили результат c применением библиотеки `sklearn.metrics`"
      ]
    },
    {
      "cell_type": "markdown",
      "metadata": {
        "id": "FbOCcf6jCkW2"
      },
      "source": [
        "<a id=\"step_1.3\"></a>\n",
        "## Проанализируем признаки, недоступные в тестовой выборке. Что это за параметры? К какому типу относятся?"
      ]
    },
    {
      "cell_type": "code",
      "metadata": {
        "id": "PjZ3pTkTCkW2",
        "outputId": "3bb971f2-a00e-4101-bd51-c891fef51cba"
      },
      "source": [
        "pd.Series(data_train.columns)"
      ],
      "execution_count": null,
      "outputs": [
        {
          "output_type": "execute_result",
          "data": {
            "text/plain": [
              "0                                           date\n",
              "1                    final.output.concentrate_ag\n",
              "2                    final.output.concentrate_pb\n",
              "3                   final.output.concentrate_sol\n",
              "4                    final.output.concentrate_au\n",
              "                         ...                    \n",
              "83      secondary_cleaner.state.floatbank5_b_air\n",
              "84    secondary_cleaner.state.floatbank5_b_level\n",
              "85      secondary_cleaner.state.floatbank6_a_air\n",
              "86    secondary_cleaner.state.floatbank6_a_level\n",
              "87                                         RECOV\n",
              "Length: 88, dtype: object"
            ]
          },
          "metadata": {
            "tags": []
          },
          "execution_count": 25
        }
      ]
    },
    {
      "cell_type": "code",
      "metadata": {
        "scrolled": true,
        "id": "H9ZZcquhCkW2",
        "outputId": "666e9a8c-e684-42f5-86c6-056b8d7e4c3a"
      },
      "source": [
        "pd.Series(data_test.columns)"
      ],
      "execution_count": null,
      "outputs": [
        {
          "output_type": "execute_result",
          "data": {
            "text/plain": [
              "0                                           date\n",
              "1                  primary_cleaner.input.sulfate\n",
              "2               primary_cleaner.input.depressant\n",
              "3                primary_cleaner.input.feed_size\n",
              "4                 primary_cleaner.input.xanthate\n",
              "5         primary_cleaner.state.floatbank8_a_air\n",
              "6       primary_cleaner.state.floatbank8_a_level\n",
              "7         primary_cleaner.state.floatbank8_b_air\n",
              "8       primary_cleaner.state.floatbank8_b_level\n",
              "9         primary_cleaner.state.floatbank8_c_air\n",
              "10      primary_cleaner.state.floatbank8_c_level\n",
              "11        primary_cleaner.state.floatbank8_d_air\n",
              "12      primary_cleaner.state.floatbank8_d_level\n",
              "13                         rougher.input.feed_ag\n",
              "14                         rougher.input.feed_pb\n",
              "15                       rougher.input.feed_rate\n",
              "16                       rougher.input.feed_size\n",
              "17                        rougher.input.feed_sol\n",
              "18                         rougher.input.feed_au\n",
              "19             rougher.input.floatbank10_sulfate\n",
              "20            rougher.input.floatbank10_xanthate\n",
              "21             rougher.input.floatbank11_sulfate\n",
              "22            rougher.input.floatbank11_xanthate\n",
              "23               rougher.state.floatbank10_a_air\n",
              "24             rougher.state.floatbank10_a_level\n",
              "25               rougher.state.floatbank10_b_air\n",
              "26             rougher.state.floatbank10_b_level\n",
              "27               rougher.state.floatbank10_c_air\n",
              "28             rougher.state.floatbank10_c_level\n",
              "29               rougher.state.floatbank10_d_air\n",
              "30             rougher.state.floatbank10_d_level\n",
              "31               rougher.state.floatbank10_e_air\n",
              "32             rougher.state.floatbank10_e_level\n",
              "33               rougher.state.floatbank10_f_air\n",
              "34             rougher.state.floatbank10_f_level\n",
              "35      secondary_cleaner.state.floatbank2_a_air\n",
              "36    secondary_cleaner.state.floatbank2_a_level\n",
              "37      secondary_cleaner.state.floatbank2_b_air\n",
              "38    secondary_cleaner.state.floatbank2_b_level\n",
              "39      secondary_cleaner.state.floatbank3_a_air\n",
              "40    secondary_cleaner.state.floatbank3_a_level\n",
              "41      secondary_cleaner.state.floatbank3_b_air\n",
              "42    secondary_cleaner.state.floatbank3_b_level\n",
              "43      secondary_cleaner.state.floatbank4_a_air\n",
              "44    secondary_cleaner.state.floatbank4_a_level\n",
              "45      secondary_cleaner.state.floatbank4_b_air\n",
              "46    secondary_cleaner.state.floatbank4_b_level\n",
              "47      secondary_cleaner.state.floatbank5_a_air\n",
              "48    secondary_cleaner.state.floatbank5_a_level\n",
              "49      secondary_cleaner.state.floatbank5_b_air\n",
              "50    secondary_cleaner.state.floatbank5_b_level\n",
              "51      secondary_cleaner.state.floatbank6_a_air\n",
              "52    secondary_cleaner.state.floatbank6_a_level\n",
              "dtype: object"
            ]
          },
          "metadata": {
            "tags": []
          },
          "execution_count": 26
        }
      ]
    },
    {
      "cell_type": "markdown",
      "metadata": {
        "scrolled": true,
        "id": "vU730iiECkW2"
      },
      "source": [
        "col = data_test.columns"
      ]
    },
    {
      "cell_type": "code",
      "metadata": {
        "id": "aVsK-ZlfCkW2"
      },
      "source": [
        "col_drop=data_train.drop(data_test.columns,axis=1)"
      ],
      "execution_count": null,
      "outputs": []
    },
    {
      "cell_type": "markdown",
      "metadata": {
        "id": "moK8diPoCkW3"
      },
      "source": [
        "#### Выведем названия столбцов, которых нет в тестовой выборке "
      ]
    },
    {
      "cell_type": "code",
      "metadata": {
        "scrolled": false,
        "id": "KjrpCp5YCkW3",
        "outputId": "306d4d84-1cd5-40c1-ab71-390776ac115d"
      },
      "source": [
        "pd.Series(col_drop.columns)"
      ],
      "execution_count": null,
      "outputs": [
        {
          "output_type": "execute_result",
          "data": {
            "text/plain": [
              "0                           final.output.concentrate_ag\n",
              "1                           final.output.concentrate_pb\n",
              "2                          final.output.concentrate_sol\n",
              "3                           final.output.concentrate_au\n",
              "4                                 final.output.recovery\n",
              "5                                  final.output.tail_ag\n",
              "6                                  final.output.tail_pb\n",
              "7                                 final.output.tail_sol\n",
              "8                                  final.output.tail_au\n",
              "9                 primary_cleaner.output.concentrate_ag\n",
              "10                primary_cleaner.output.concentrate_pb\n",
              "11               primary_cleaner.output.concentrate_sol\n",
              "12                primary_cleaner.output.concentrate_au\n",
              "13                       primary_cleaner.output.tail_ag\n",
              "14                       primary_cleaner.output.tail_pb\n",
              "15                      primary_cleaner.output.tail_sol\n",
              "16                       primary_cleaner.output.tail_au\n",
              "17        rougher.calculation.sulfate_to_au_concentrate\n",
              "18    rougher.calculation.floatbank10_sulfate_to_au_...\n",
              "19    rougher.calculation.floatbank11_sulfate_to_au_...\n",
              "20                      rougher.calculation.au_pb_ratio\n",
              "21                        rougher.output.concentrate_ag\n",
              "22                        rougher.output.concentrate_pb\n",
              "23                       rougher.output.concentrate_sol\n",
              "24                        rougher.output.concentrate_au\n",
              "25                              rougher.output.recovery\n",
              "26                               rougher.output.tail_ag\n",
              "27                               rougher.output.tail_pb\n",
              "28                              rougher.output.tail_sol\n",
              "29                               rougher.output.tail_au\n",
              "30                     secondary_cleaner.output.tail_ag\n",
              "31                     secondary_cleaner.output.tail_pb\n",
              "32                    secondary_cleaner.output.tail_sol\n",
              "33                     secondary_cleaner.output.tail_au\n",
              "34                                                RECOV\n",
              "dtype: object"
            ]
          },
          "metadata": {
            "tags": []
          },
          "execution_count": 28
        }
      ]
    },
    {
      "cell_type": "markdown",
      "metadata": {
        "id": "f8HzP6D6CkW3"
      },
      "source": [
        "<a id=\"step_1.4\"></a>\n",
        "## Проведём предобработку данных"
      ]
    },
    {
      "cell_type": "markdown",
      "metadata": {
        "id": "KY9epGelCkW3"
      },
      "source": [
        "##### приведём столбец с датой в соответствующий формат"
      ]
    },
    {
      "cell_type": "markdown",
      "metadata": {
        "id": "JI6aoBHDCkW3"
      },
      "source": [
        "- для выборки data_train:"
      ]
    },
    {
      "cell_type": "code",
      "metadata": {
        "id": "b-5DMcvECkW4"
      },
      "source": [
        "data_train['date'] = pd.to_datetime(data_train['date'], format='%Y-%m-%dT%H:%M:%S')"
      ],
      "execution_count": null,
      "outputs": []
    },
    {
      "cell_type": "markdown",
      "metadata": {
        "id": "xTFqwYqzCkW4"
      },
      "source": [
        "- для выборки data_test"
      ]
    },
    {
      "cell_type": "code",
      "metadata": {
        "id": "mypxXvfnCkW4"
      },
      "source": [
        "data_test['date'] = pd.to_datetime(data_test['date'], format='%Y-%m-%dT%H:%M:%S')"
      ],
      "execution_count": null,
      "outputs": []
    },
    {
      "cell_type": "markdown",
      "metadata": {
        "id": "qc6CMPIxCkW4"
      },
      "source": [
        "- для выбрки data_full"
      ]
    },
    {
      "cell_type": "code",
      "metadata": {
        "id": "fowdb_a-CkW4"
      },
      "source": [
        "data_full['date'] = pd.to_datetime(data_full['date'], format='%Y-%m-%dT%H:%M:%S')"
      ],
      "execution_count": null,
      "outputs": []
    },
    {
      "cell_type": "markdown",
      "metadata": {
        "id": "OIJ8AoNfCkW4"
      },
      "source": [
        "##### Заполняем в наших выборках пропуски методом `fillna(method=‘ffill’)` и удалим пропуски в целевых столбцах"
      ]
    },
    {
      "cell_type": "code",
      "metadata": {
        "id": "XQ78LiDNCkW5"
      },
      "source": [
        "data_test=data_test.fillna(method='ffill')"
      ],
      "execution_count": null,
      "outputs": []
    },
    {
      "cell_type": "code",
      "metadata": {
        "id": "hId9oDbrCkW5"
      },
      "source": [
        "data_train=data_train.dropna(subset=['rougher.output.recovery','final.output.recovery'])"
      ],
      "execution_count": null,
      "outputs": []
    },
    {
      "cell_type": "code",
      "metadata": {
        "id": "KMJoArroCkW5"
      },
      "source": [
        "data_train=data_train.fillna(method='ffill')"
      ],
      "execution_count": null,
      "outputs": []
    },
    {
      "cell_type": "code",
      "metadata": {
        "id": "kLSafee6CkW5"
      },
      "source": [
        "data_full=data_full.dropna(subset=['rougher.output.recovery','final.output.recovery'])"
      ],
      "execution_count": null,
      "outputs": []
    },
    {
      "cell_type": "code",
      "metadata": {
        "id": "SrWPMTd-CkW5"
      },
      "source": [
        "data_full=data_full.fillna(method='ffill')"
      ],
      "execution_count": null,
      "outputs": []
    },
    {
      "cell_type": "markdown",
      "metadata": {
        "id": "59WW-LbXCkW5"
      },
      "source": [
        "##### переносим значения столбцов по индексу - rougher.output.recovery и final.output.recovery в тестовую выборку"
      ]
    },
    {
      "cell_type": "code",
      "metadata": {
        "id": "XGJNjj3RCkW5"
      },
      "source": [
        "dt_mud_full = data_full[['date','rougher.output.recovery','final.output.recovery']]"
      ],
      "execution_count": null,
      "outputs": []
    },
    {
      "cell_type": "code",
      "metadata": {
        "id": "_jRk0dBVCkW6",
        "outputId": "72f3e320-30d8-40aa-fab2-7fe82ce8edbf"
      },
      "source": [
        "data_test = data_test.merge(dt_mud_full, on='date', how='left')\n",
        "data_test.head(3)"
      ],
      "execution_count": null,
      "outputs": [
        {
          "output_type": "execute_result",
          "data": {
            "text/html": [
              "<div>\n",
              "<style scoped>\n",
              "    .dataframe tbody tr th:only-of-type {\n",
              "        vertical-align: middle;\n",
              "    }\n",
              "\n",
              "    .dataframe tbody tr th {\n",
              "        vertical-align: top;\n",
              "    }\n",
              "\n",
              "    .dataframe thead th {\n",
              "        text-align: right;\n",
              "    }\n",
              "</style>\n",
              "<table border=\"1\" class=\"dataframe\">\n",
              "  <thead>\n",
              "    <tr style=\"text-align: right;\">\n",
              "      <th></th>\n",
              "      <th>date</th>\n",
              "      <th>primary_cleaner.input.sulfate</th>\n",
              "      <th>primary_cleaner.input.depressant</th>\n",
              "      <th>primary_cleaner.input.feed_size</th>\n",
              "      <th>primary_cleaner.input.xanthate</th>\n",
              "      <th>primary_cleaner.state.floatbank8_a_air</th>\n",
              "      <th>primary_cleaner.state.floatbank8_a_level</th>\n",
              "      <th>primary_cleaner.state.floatbank8_b_air</th>\n",
              "      <th>primary_cleaner.state.floatbank8_b_level</th>\n",
              "      <th>primary_cleaner.state.floatbank8_c_air</th>\n",
              "      <th>primary_cleaner.state.floatbank8_c_level</th>\n",
              "      <th>primary_cleaner.state.floatbank8_d_air</th>\n",
              "      <th>primary_cleaner.state.floatbank8_d_level</th>\n",
              "      <th>rougher.input.feed_ag</th>\n",
              "      <th>rougher.input.feed_pb</th>\n",
              "      <th>rougher.input.feed_rate</th>\n",
              "      <th>rougher.input.feed_size</th>\n",
              "      <th>rougher.input.feed_sol</th>\n",
              "      <th>rougher.input.feed_au</th>\n",
              "      <th>rougher.input.floatbank10_sulfate</th>\n",
              "      <th>rougher.input.floatbank10_xanthate</th>\n",
              "      <th>rougher.input.floatbank11_sulfate</th>\n",
              "      <th>rougher.input.floatbank11_xanthate</th>\n",
              "      <th>rougher.state.floatbank10_a_air</th>\n",
              "      <th>rougher.state.floatbank10_a_level</th>\n",
              "      <th>rougher.state.floatbank10_b_air</th>\n",
              "      <th>rougher.state.floatbank10_b_level</th>\n",
              "      <th>rougher.state.floatbank10_c_air</th>\n",
              "      <th>rougher.state.floatbank10_c_level</th>\n",
              "      <th>rougher.state.floatbank10_d_air</th>\n",
              "      <th>rougher.state.floatbank10_d_level</th>\n",
              "      <th>rougher.state.floatbank10_e_air</th>\n",
              "      <th>rougher.state.floatbank10_e_level</th>\n",
              "      <th>rougher.state.floatbank10_f_air</th>\n",
              "      <th>rougher.state.floatbank10_f_level</th>\n",
              "      <th>secondary_cleaner.state.floatbank2_a_air</th>\n",
              "      <th>secondary_cleaner.state.floatbank2_a_level</th>\n",
              "      <th>secondary_cleaner.state.floatbank2_b_air</th>\n",
              "      <th>secondary_cleaner.state.floatbank2_b_level</th>\n",
              "      <th>secondary_cleaner.state.floatbank3_a_air</th>\n",
              "      <th>secondary_cleaner.state.floatbank3_a_level</th>\n",
              "      <th>secondary_cleaner.state.floatbank3_b_air</th>\n",
              "      <th>secondary_cleaner.state.floatbank3_b_level</th>\n",
              "      <th>secondary_cleaner.state.floatbank4_a_air</th>\n",
              "      <th>secondary_cleaner.state.floatbank4_a_level</th>\n",
              "      <th>secondary_cleaner.state.floatbank4_b_air</th>\n",
              "      <th>secondary_cleaner.state.floatbank4_b_level</th>\n",
              "      <th>secondary_cleaner.state.floatbank5_a_air</th>\n",
              "      <th>secondary_cleaner.state.floatbank5_a_level</th>\n",
              "      <th>secondary_cleaner.state.floatbank5_b_air</th>\n",
              "      <th>secondary_cleaner.state.floatbank5_b_level</th>\n",
              "      <th>secondary_cleaner.state.floatbank6_a_air</th>\n",
              "      <th>secondary_cleaner.state.floatbank6_a_level</th>\n",
              "      <th>rougher.output.recovery</th>\n",
              "      <th>final.output.recovery</th>\n",
              "    </tr>\n",
              "  </thead>\n",
              "  <tbody>\n",
              "    <tr>\n",
              "      <th>0</th>\n",
              "      <td>2016-09-01 00:59:59</td>\n",
              "      <td>210.800909</td>\n",
              "      <td>14.993118</td>\n",
              "      <td>8.080000</td>\n",
              "      <td>1.005021</td>\n",
              "      <td>1398.981301</td>\n",
              "      <td>-500.225577</td>\n",
              "      <td>1399.144926</td>\n",
              "      <td>-499.919735</td>\n",
              "      <td>1400.102998</td>\n",
              "      <td>-500.704369</td>\n",
              "      <td>1399.001695</td>\n",
              "      <td>-499.485144</td>\n",
              "      <td>13.128569</td>\n",
              "      <td>5.636710</td>\n",
              "      <td>489.793655</td>\n",
              "      <td>62.710452</td>\n",
              "      <td>42.022440</td>\n",
              "      <td>12.084103</td>\n",
              "      <td>16.922877</td>\n",
              "      <td>6.153479</td>\n",
              "      <td>16.867518</td>\n",
              "      <td>6.150709</td>\n",
              "      <td>1001.849317</td>\n",
              "      <td>-350.301265</td>\n",
              "      <td>1249.738612</td>\n",
              "      <td>-399.107531</td>\n",
              "      <td>1249.750520</td>\n",
              "      <td>-399.396730</td>\n",
              "      <td>1198.287855</td>\n",
              "      <td>-399.488594</td>\n",
              "      <td>999.472250</td>\n",
              "      <td>-399.530962</td>\n",
              "      <td>949.566189</td>\n",
              "      <td>-398.180807</td>\n",
              "      <td>24.938200</td>\n",
              "      <td>-500.490963</td>\n",
              "      <td>14.947607</td>\n",
              "      <td>-500.013837</td>\n",
              "      <td>20.018166</td>\n",
              "      <td>-450.395995</td>\n",
              "      <td>13.987058</td>\n",
              "      <td>-449.831513</td>\n",
              "      <td>12.023554</td>\n",
              "      <td>-497.795834</td>\n",
              "      <td>8.016656</td>\n",
              "      <td>-501.289139</td>\n",
              "      <td>7.946562</td>\n",
              "      <td>-432.317850</td>\n",
              "      <td>4.872511</td>\n",
              "      <td>-500.037437</td>\n",
              "      <td>26.705889</td>\n",
              "      <td>-499.709414</td>\n",
              "      <td>89.993421</td>\n",
              "      <td>70.273583</td>\n",
              "    </tr>\n",
              "    <tr>\n",
              "      <th>1</th>\n",
              "      <td>2016-09-01 01:59:59</td>\n",
              "      <td>215.392455</td>\n",
              "      <td>14.987471</td>\n",
              "      <td>8.080000</td>\n",
              "      <td>0.990469</td>\n",
              "      <td>1398.777912</td>\n",
              "      <td>-500.057435</td>\n",
              "      <td>1398.055362</td>\n",
              "      <td>-499.778182</td>\n",
              "      <td>1396.151033</td>\n",
              "      <td>-499.240168</td>\n",
              "      <td>1399.508091</td>\n",
              "      <td>-500.416324</td>\n",
              "      <td>13.036280</td>\n",
              "      <td>5.526065</td>\n",
              "      <td>490.104534</td>\n",
              "      <td>61.961163</td>\n",
              "      <td>41.187903</td>\n",
              "      <td>11.918977</td>\n",
              "      <td>17.002532</td>\n",
              "      <td>5.999043</td>\n",
              "      <td>16.996063</td>\n",
              "      <td>6.002315</td>\n",
              "      <td>998.690785</td>\n",
              "      <td>-350.425704</td>\n",
              "      <td>1248.395457</td>\n",
              "      <td>-399.946025</td>\n",
              "      <td>1249.514451</td>\n",
              "      <td>-399.630810</td>\n",
              "      <td>1200.506459</td>\n",
              "      <td>-399.942434</td>\n",
              "      <td>1000.002114</td>\n",
              "      <td>-399.491528</td>\n",
              "      <td>950.200009</td>\n",
              "      <td>-405.787514</td>\n",
              "      <td>24.923466</td>\n",
              "      <td>-499.813963</td>\n",
              "      <td>14.930873</td>\n",
              "      <td>-500.764452</td>\n",
              "      <td>19.988503</td>\n",
              "      <td>-450.114024</td>\n",
              "      <td>14.092981</td>\n",
              "      <td>-450.059163</td>\n",
              "      <td>12.058140</td>\n",
              "      <td>-498.695773</td>\n",
              "      <td>8.130979</td>\n",
              "      <td>-499.634209</td>\n",
              "      <td>7.958270</td>\n",
              "      <td>-525.839648</td>\n",
              "      <td>4.878850</td>\n",
              "      <td>-500.162375</td>\n",
              "      <td>25.019940</td>\n",
              "      <td>-499.819438</td>\n",
              "      <td>88.089657</td>\n",
              "      <td>68.910432</td>\n",
              "    </tr>\n",
              "    <tr>\n",
              "      <th>2</th>\n",
              "      <td>2016-09-01 02:59:59</td>\n",
              "      <td>215.259946</td>\n",
              "      <td>12.884934</td>\n",
              "      <td>7.786667</td>\n",
              "      <td>0.996043</td>\n",
              "      <td>1398.493666</td>\n",
              "      <td>-500.868360</td>\n",
              "      <td>1398.860436</td>\n",
              "      <td>-499.764529</td>\n",
              "      <td>1398.075709</td>\n",
              "      <td>-502.151509</td>\n",
              "      <td>1399.497088</td>\n",
              "      <td>-499.715479</td>\n",
              "      <td>13.138412</td>\n",
              "      <td>5.426561</td>\n",
              "      <td>489.617969</td>\n",
              "      <td>66.903807</td>\n",
              "      <td>42.546294</td>\n",
              "      <td>12.091332</td>\n",
              "      <td>16.992520</td>\n",
              "      <td>5.850632</td>\n",
              "      <td>16.982096</td>\n",
              "      <td>5.853594</td>\n",
              "      <td>998.516720</td>\n",
              "      <td>-349.783538</td>\n",
              "      <td>1247.440748</td>\n",
              "      <td>-400.264330</td>\n",
              "      <td>1248.207204</td>\n",
              "      <td>-401.074405</td>\n",
              "      <td>1199.770026</td>\n",
              "      <td>-400.790582</td>\n",
              "      <td>999.925519</td>\n",
              "      <td>-399.236999</td>\n",
              "      <td>950.320481</td>\n",
              "      <td>-400.864340</td>\n",
              "      <td>24.908732</td>\n",
              "      <td>-500.304035</td>\n",
              "      <td>14.996511</td>\n",
              "      <td>-500.993821</td>\n",
              "      <td>20.039689</td>\n",
              "      <td>-450.263164</td>\n",
              "      <td>14.077881</td>\n",
              "      <td>-449.660997</td>\n",
              "      <td>11.962366</td>\n",
              "      <td>-498.767484</td>\n",
              "      <td>8.096893</td>\n",
              "      <td>-500.827423</td>\n",
              "      <td>8.071056</td>\n",
              "      <td>-500.801673</td>\n",
              "      <td>4.905125</td>\n",
              "      <td>-499.828510</td>\n",
              "      <td>24.994862</td>\n",
              "      <td>-500.622559</td>\n",
              "      <td>88.412756</td>\n",
              "      <td>68.143213</td>\n",
              "    </tr>\n",
              "  </tbody>\n",
              "</table>\n",
              "</div>"
            ],
            "text/plain": [
              "                 date  primary_cleaner.input.sulfate  \\\n",
              "0 2016-09-01 00:59:59                     210.800909   \n",
              "1 2016-09-01 01:59:59                     215.392455   \n",
              "2 2016-09-01 02:59:59                     215.259946   \n",
              "\n",
              "   primary_cleaner.input.depressant  primary_cleaner.input.feed_size  \\\n",
              "0                         14.993118                         8.080000   \n",
              "1                         14.987471                         8.080000   \n",
              "2                         12.884934                         7.786667   \n",
              "\n",
              "   primary_cleaner.input.xanthate  primary_cleaner.state.floatbank8_a_air  \\\n",
              "0                        1.005021                             1398.981301   \n",
              "1                        0.990469                             1398.777912   \n",
              "2                        0.996043                             1398.493666   \n",
              "\n",
              "   primary_cleaner.state.floatbank8_a_level  \\\n",
              "0                               -500.225577   \n",
              "1                               -500.057435   \n",
              "2                               -500.868360   \n",
              "\n",
              "   primary_cleaner.state.floatbank8_b_air  \\\n",
              "0                             1399.144926   \n",
              "1                             1398.055362   \n",
              "2                             1398.860436   \n",
              "\n",
              "   primary_cleaner.state.floatbank8_b_level  \\\n",
              "0                               -499.919735   \n",
              "1                               -499.778182   \n",
              "2                               -499.764529   \n",
              "\n",
              "   primary_cleaner.state.floatbank8_c_air  \\\n",
              "0                             1400.102998   \n",
              "1                             1396.151033   \n",
              "2                             1398.075709   \n",
              "\n",
              "   primary_cleaner.state.floatbank8_c_level  \\\n",
              "0                               -500.704369   \n",
              "1                               -499.240168   \n",
              "2                               -502.151509   \n",
              "\n",
              "   primary_cleaner.state.floatbank8_d_air  \\\n",
              "0                             1399.001695   \n",
              "1                             1399.508091   \n",
              "2                             1399.497088   \n",
              "\n",
              "   primary_cleaner.state.floatbank8_d_level  rougher.input.feed_ag  \\\n",
              "0                               -499.485144              13.128569   \n",
              "1                               -500.416324              13.036280   \n",
              "2                               -499.715479              13.138412   \n",
              "\n",
              "   rougher.input.feed_pb  rougher.input.feed_rate  rougher.input.feed_size  \\\n",
              "0               5.636710               489.793655                62.710452   \n",
              "1               5.526065               490.104534                61.961163   \n",
              "2               5.426561               489.617969                66.903807   \n",
              "\n",
              "   rougher.input.feed_sol  rougher.input.feed_au  \\\n",
              "0               42.022440              12.084103   \n",
              "1               41.187903              11.918977   \n",
              "2               42.546294              12.091332   \n",
              "\n",
              "   rougher.input.floatbank10_sulfate  rougher.input.floatbank10_xanthate  \\\n",
              "0                          16.922877                            6.153479   \n",
              "1                          17.002532                            5.999043   \n",
              "2                          16.992520                            5.850632   \n",
              "\n",
              "   rougher.input.floatbank11_sulfate  rougher.input.floatbank11_xanthate  \\\n",
              "0                          16.867518                            6.150709   \n",
              "1                          16.996063                            6.002315   \n",
              "2                          16.982096                            5.853594   \n",
              "\n",
              "   rougher.state.floatbank10_a_air  rougher.state.floatbank10_a_level  \\\n",
              "0                      1001.849317                        -350.301265   \n",
              "1                       998.690785                        -350.425704   \n",
              "2                       998.516720                        -349.783538   \n",
              "\n",
              "   rougher.state.floatbank10_b_air  rougher.state.floatbank10_b_level  \\\n",
              "0                      1249.738612                        -399.107531   \n",
              "1                      1248.395457                        -399.946025   \n",
              "2                      1247.440748                        -400.264330   \n",
              "\n",
              "   rougher.state.floatbank10_c_air  rougher.state.floatbank10_c_level  \\\n",
              "0                      1249.750520                        -399.396730   \n",
              "1                      1249.514451                        -399.630810   \n",
              "2                      1248.207204                        -401.074405   \n",
              "\n",
              "   rougher.state.floatbank10_d_air  rougher.state.floatbank10_d_level  \\\n",
              "0                      1198.287855                        -399.488594   \n",
              "1                      1200.506459                        -399.942434   \n",
              "2                      1199.770026                        -400.790582   \n",
              "\n",
              "   rougher.state.floatbank10_e_air  rougher.state.floatbank10_e_level  \\\n",
              "0                       999.472250                        -399.530962   \n",
              "1                      1000.002114                        -399.491528   \n",
              "2                       999.925519                        -399.236999   \n",
              "\n",
              "   rougher.state.floatbank10_f_air  rougher.state.floatbank10_f_level  \\\n",
              "0                       949.566189                        -398.180807   \n",
              "1                       950.200009                        -405.787514   \n",
              "2                       950.320481                        -400.864340   \n",
              "\n",
              "   secondary_cleaner.state.floatbank2_a_air  \\\n",
              "0                                 24.938200   \n",
              "1                                 24.923466   \n",
              "2                                 24.908732   \n",
              "\n",
              "   secondary_cleaner.state.floatbank2_a_level  \\\n",
              "0                                 -500.490963   \n",
              "1                                 -499.813963   \n",
              "2                                 -500.304035   \n",
              "\n",
              "   secondary_cleaner.state.floatbank2_b_air  \\\n",
              "0                                 14.947607   \n",
              "1                                 14.930873   \n",
              "2                                 14.996511   \n",
              "\n",
              "   secondary_cleaner.state.floatbank2_b_level  \\\n",
              "0                                 -500.013837   \n",
              "1                                 -500.764452   \n",
              "2                                 -500.993821   \n",
              "\n",
              "   secondary_cleaner.state.floatbank3_a_air  \\\n",
              "0                                 20.018166   \n",
              "1                                 19.988503   \n",
              "2                                 20.039689   \n",
              "\n",
              "   secondary_cleaner.state.floatbank3_a_level  \\\n",
              "0                                 -450.395995   \n",
              "1                                 -450.114024   \n",
              "2                                 -450.263164   \n",
              "\n",
              "   secondary_cleaner.state.floatbank3_b_air  \\\n",
              "0                                 13.987058   \n",
              "1                                 14.092981   \n",
              "2                                 14.077881   \n",
              "\n",
              "   secondary_cleaner.state.floatbank3_b_level  \\\n",
              "0                                 -449.831513   \n",
              "1                                 -450.059163   \n",
              "2                                 -449.660997   \n",
              "\n",
              "   secondary_cleaner.state.floatbank4_a_air  \\\n",
              "0                                 12.023554   \n",
              "1                                 12.058140   \n",
              "2                                 11.962366   \n",
              "\n",
              "   secondary_cleaner.state.floatbank4_a_level  \\\n",
              "0                                 -497.795834   \n",
              "1                                 -498.695773   \n",
              "2                                 -498.767484   \n",
              "\n",
              "   secondary_cleaner.state.floatbank4_b_air  \\\n",
              "0                                  8.016656   \n",
              "1                                  8.130979   \n",
              "2                                  8.096893   \n",
              "\n",
              "   secondary_cleaner.state.floatbank4_b_level  \\\n",
              "0                                 -501.289139   \n",
              "1                                 -499.634209   \n",
              "2                                 -500.827423   \n",
              "\n",
              "   secondary_cleaner.state.floatbank5_a_air  \\\n",
              "0                                  7.946562   \n",
              "1                                  7.958270   \n",
              "2                                  8.071056   \n",
              "\n",
              "   secondary_cleaner.state.floatbank5_a_level  \\\n",
              "0                                 -432.317850   \n",
              "1                                 -525.839648   \n",
              "2                                 -500.801673   \n",
              "\n",
              "   secondary_cleaner.state.floatbank5_b_air  \\\n",
              "0                                  4.872511   \n",
              "1                                  4.878850   \n",
              "2                                  4.905125   \n",
              "\n",
              "   secondary_cleaner.state.floatbank5_b_level  \\\n",
              "0                                 -500.037437   \n",
              "1                                 -500.162375   \n",
              "2                                 -499.828510   \n",
              "\n",
              "   secondary_cleaner.state.floatbank6_a_air  \\\n",
              "0                                 26.705889   \n",
              "1                                 25.019940   \n",
              "2                                 24.994862   \n",
              "\n",
              "   secondary_cleaner.state.floatbank6_a_level  rougher.output.recovery  \\\n",
              "0                                 -499.709414                89.993421   \n",
              "1                                 -499.819438                88.089657   \n",
              "2                                 -500.622559                88.412756   \n",
              "\n",
              "   final.output.recovery  \n",
              "0              70.273583  \n",
              "1              68.910432  \n",
              "2              68.143213  "
            ]
          },
          "metadata": {
            "tags": []
          },
          "execution_count": 38
        }
      ]
    },
    {
      "cell_type": "markdown",
      "metadata": {
        "id": "RqdAs2yJCkW6"
      },
      "source": [
        "##### из выборки `data_train` – удаляем все лишние столбцы которых нет в тестовой выборке"
      ]
    },
    {
      "cell_type": "code",
      "metadata": {
        "id": "nLyx9ACgCkW6"
      },
      "source": [
        "data_train=data_train[data_test.columns]"
      ],
      "execution_count": null,
      "outputs": []
    },
    {
      "cell_type": "markdown",
      "metadata": {
        "id": "M57TVMB_CkW6"
      },
      "source": [
        "#### Проверим распределение размеров наших таблиц с данными"
      ]
    },
    {
      "cell_type": "code",
      "metadata": {
        "id": "K_r-hppyCkW6",
        "outputId": "085d8ff1-f710-402f-e8dc-478cde615854"
      },
      "source": [
        "print(data_train.shape)\n",
        "print(data_test.shape)"
      ],
      "execution_count": null,
      "outputs": [
        {
          "output_type": "stream",
          "text": [
            "(14149, 55)\n",
            "(5856, 55)\n"
          ],
          "name": "stdout"
        }
      ]
    },
    {
      "cell_type": "markdown",
      "metadata": {
        "id": "OENTCGuQCkW6"
      },
      "source": [
        "<a id=\"step_1.end\"></a>\n",
        "## Вывод"
      ]
    },
    {
      "cell_type": "markdown",
      "metadata": {
        "id": "IyWwKv_OCkW7"
      },
      "source": [
        "В тестовой выборке нет признаков по этапам `rougher` ,`primary_cleaner`, `secondary_cleaner`, `final` и по типу `output`. Соответственно мы их удаляем и из тренировочной выборке, т.к. мы ориентируемся на тестовые данные, т.к. они появляются на определённом этапе производства и именно на таких данных должна обучаться модель для качественного предсказания значений.\n",
        "<br>Определены так же целевые признаки - `rougher.output.recovery`,`final.output.recovery`"
      ]
    },
    {
      "cell_type": "markdown",
      "metadata": {
        "id": "Y1CAEBUjCkW7"
      },
      "source": [
        "---"
      ]
    },
    {
      "cell_type": "markdown",
      "metadata": {
        "id": "L8E9P2hUCkW7"
      },
      "source": [
        "<a href='#start'>Вернуться к оглавлению</a>\n",
        "<a id=\"step_2\"></a>\n",
        "# 2. Анализ данных"
      ]
    },
    {
      "cell_type": "markdown",
      "metadata": {
        "id": "fAxF6G7KCkW7"
      },
      "source": [
        "## Посмотрим, как меняется концентрация металлов (Au, Ag, Pb) на различных этапах очистки. Опишем выводы"
      ]
    },
    {
      "cell_type": "code",
      "metadata": {
        "scrolled": false,
        "id": "8EKzu2XcCkW7",
        "outputId": "799775b9-df94-4e56-c0e9-abf127f2e462"
      },
      "source": [
        "data_full.columns"
      ],
      "execution_count": null,
      "outputs": [
        {
          "output_type": "execute_result",
          "data": {
            "text/plain": [
              "Index(['date', 'final.output.concentrate_ag', 'final.output.concentrate_pb',\n",
              "       'final.output.concentrate_sol', 'final.output.concentrate_au',\n",
              "       'final.output.recovery', 'final.output.tail_ag', 'final.output.tail_pb',\n",
              "       'final.output.tail_sol', 'final.output.tail_au',\n",
              "       'primary_cleaner.input.sulfate', 'primary_cleaner.input.depressant',\n",
              "       'primary_cleaner.input.feed_size', 'primary_cleaner.input.xanthate',\n",
              "       'primary_cleaner.output.concentrate_ag',\n",
              "       'primary_cleaner.output.concentrate_pb',\n",
              "       'primary_cleaner.output.concentrate_sol',\n",
              "       'primary_cleaner.output.concentrate_au',\n",
              "       'primary_cleaner.output.tail_ag', 'primary_cleaner.output.tail_pb',\n",
              "       'primary_cleaner.output.tail_sol', 'primary_cleaner.output.tail_au',\n",
              "       'primary_cleaner.state.floatbank8_a_air',\n",
              "       'primary_cleaner.state.floatbank8_a_level',\n",
              "       'primary_cleaner.state.floatbank8_b_air',\n",
              "       'primary_cleaner.state.floatbank8_b_level',\n",
              "       'primary_cleaner.state.floatbank8_c_air',\n",
              "       'primary_cleaner.state.floatbank8_c_level',\n",
              "       'primary_cleaner.state.floatbank8_d_air',\n",
              "       'primary_cleaner.state.floatbank8_d_level',\n",
              "       'rougher.calculation.sulfate_to_au_concentrate',\n",
              "       'rougher.calculation.floatbank10_sulfate_to_au_feed',\n",
              "       'rougher.calculation.floatbank11_sulfate_to_au_feed',\n",
              "       'rougher.calculation.au_pb_ratio', 'rougher.input.feed_ag',\n",
              "       'rougher.input.feed_pb', 'rougher.input.feed_rate',\n",
              "       'rougher.input.feed_size', 'rougher.input.feed_sol',\n",
              "       'rougher.input.feed_au', 'rougher.input.floatbank10_sulfate',\n",
              "       'rougher.input.floatbank10_xanthate',\n",
              "       'rougher.input.floatbank11_sulfate',\n",
              "       'rougher.input.floatbank11_xanthate', 'rougher.output.concentrate_ag',\n",
              "       'rougher.output.concentrate_pb', 'rougher.output.concentrate_sol',\n",
              "       'rougher.output.concentrate_au', 'rougher.output.recovery',\n",
              "       'rougher.output.tail_ag', 'rougher.output.tail_pb',\n",
              "       'rougher.output.tail_sol', 'rougher.output.tail_au',\n",
              "       'rougher.state.floatbank10_a_air', 'rougher.state.floatbank10_a_level',\n",
              "       'rougher.state.floatbank10_b_air', 'rougher.state.floatbank10_b_level',\n",
              "       'rougher.state.floatbank10_c_air', 'rougher.state.floatbank10_c_level',\n",
              "       'rougher.state.floatbank10_d_air', 'rougher.state.floatbank10_d_level',\n",
              "       'rougher.state.floatbank10_e_air', 'rougher.state.floatbank10_e_level',\n",
              "       'rougher.state.floatbank10_f_air', 'rougher.state.floatbank10_f_level',\n",
              "       'secondary_cleaner.output.tail_ag', 'secondary_cleaner.output.tail_pb',\n",
              "       'secondary_cleaner.output.tail_sol', 'secondary_cleaner.output.tail_au',\n",
              "       'secondary_cleaner.state.floatbank2_a_air',\n",
              "       'secondary_cleaner.state.floatbank2_a_level',\n",
              "       'secondary_cleaner.state.floatbank2_b_air',\n",
              "       'secondary_cleaner.state.floatbank2_b_level',\n",
              "       'secondary_cleaner.state.floatbank3_a_air',\n",
              "       'secondary_cleaner.state.floatbank3_a_level',\n",
              "       'secondary_cleaner.state.floatbank3_b_air',\n",
              "       'secondary_cleaner.state.floatbank3_b_level',\n",
              "       'secondary_cleaner.state.floatbank4_a_air',\n",
              "       'secondary_cleaner.state.floatbank4_a_level',\n",
              "       'secondary_cleaner.state.floatbank4_b_air',\n",
              "       'secondary_cleaner.state.floatbank4_b_level',\n",
              "       'secondary_cleaner.state.floatbank5_a_air',\n",
              "       'secondary_cleaner.state.floatbank5_a_level',\n",
              "       'secondary_cleaner.state.floatbank5_b_air',\n",
              "       'secondary_cleaner.state.floatbank5_b_level',\n",
              "       'secondary_cleaner.state.floatbank6_a_air',\n",
              "       'secondary_cleaner.state.floatbank6_a_level'],\n",
              "      dtype='object')"
            ]
          },
          "metadata": {
            "tags": []
          },
          "execution_count": 41
        }
      ]
    },
    {
      "cell_type": "markdown",
      "metadata": {
        "id": "7_nS6SB6CkW7"
      },
      "source": [
        "##### Концентрация на входе"
      ]
    },
    {
      "cell_type": "code",
      "metadata": {
        "id": "Zyza5CcmCkW7"
      },
      "source": [
        "sns.set_style('darkgrid')"
      ],
      "execution_count": null,
      "outputs": []
    },
    {
      "cell_type": "code",
      "metadata": {
        "id": "jlvWj7cUCkW8",
        "outputId": "0e360c4e-4eb8-46b1-b395-65e2c072ae2d"
      },
      "source": [
        "plt.figure(figsize=(14,6))\n",
        "data_full['rougher.input.feed_ag'].plot.hist(bins=range(1,50), alpha=0.7)\n",
        "data_full['rougher.input.feed_au'].plot.hist(bins=range(1,50), alpha=0.7)\n",
        "data_full['rougher.input.feed_pb'].plot.hist(bins=range(1,50), alpha=0.7)\n",
        "plt.legend(['Ag', 'Au', 'Pb'])\n",
        "plt.title('Концентрация металлов на вторичном этапе очистки')\n",
        "plt.xlabel('Концентрация')\n",
        "plt.grid(True)\n",
        "plt.show()"
      ],
      "execution_count": null,
      "outputs": [
        {
          "output_type": "display_data",
          "data": {
            "image/png": "[encoded data removed]",
            "text/plain": [
              "<Figure size 1008x432 with 1 Axes>"
            ]
          },
          "metadata": {
            "tags": []
          }
        }
      ]
    },
    {
      "cell_type": "markdown",
      "metadata": {
        "id": "Y3nQwUHqCkW8"
      },
      "source": [
        "##### Черновой этап"
      ]
    },
    {
      "cell_type": "code",
      "metadata": {
        "id": "ao2qftSWCkW8",
        "outputId": "37d24264-8799-441b-a9ee-2d5f3fed135e"
      },
      "source": [
        "plt.figure(figsize=(14,6))\n",
        "data_full['rougher.output.concentrate_ag'].plot.hist(bins=range(1,50), alpha=0.7)\n",
        "data_full['rougher.output.concentrate_au'].plot.hist(bins=range(1,50), alpha=0.7)\n",
        "data_full['rougher.output.concentrate_pb'].plot.hist(bins=range(1,50), alpha=0.7)\n",
        "plt.legend(['Ag', 'Au', 'Pb'])\n",
        "plt.title('Концентрация металлов на черновом этапе очистки')\n",
        "plt.xlabel('Концентрация')\n",
        "plt.grid(True)\n",
        "plt.show()"
      ],
      "execution_count": null,
      "outputs": [
        {
          "output_type": "display_data",
          "data": {
            "image/png": "[encoded data removed]",
            "text/plain": [
              "<Figure size 1008x432 with 1 Axes>"
            ]
          },
          "metadata": {
            "tags": []
          }
        }
      ]
    },
    {
      "cell_type": "markdown",
      "metadata": {
        "id": "P6QD7wW3CkW8"
      },
      "source": [
        "###### Первичный этап очистки"
      ]
    },
    {
      "cell_type": "code",
      "metadata": {
        "id": "TXLiTkYiCkW8",
        "outputId": "8ba0c0b5-7b8b-46cb-d17a-92540007490c"
      },
      "source": [
        "plt.figure(figsize=(14,6))\n",
        "data_full['primary_cleaner.output.concentrate_ag'].plot.hist(bins=range(1,50), alpha=0.7)\n",
        "data_full['primary_cleaner.output.concentrate_au'].plot.hist(bins=range(1,50), alpha=0.7)\n",
        "data_full['primary_cleaner.output.concentrate_pb'].plot.hist(bins=range(1,50), alpha=0.7)\n",
        "plt.legend(['Ag', 'Au', 'Pb'])\n",
        "plt.title('Концентрация металлов на первичном этапе очистки')\n",
        "plt.xlabel('Концентрация')\n",
        "plt.grid(True)\n",
        "plt.show()"
      ],
      "execution_count": null,
      "outputs": [
        {
          "output_type": "display_data",
          "data": {
            "image/png": "[encoded data removed]",
            "text/plain": [
              "<Figure size 1008x432 with 1 Axes>"
            ]
          },
          "metadata": {
            "tags": []
          }
        }
      ]
    },
    {
      "cell_type": "markdown",
      "metadata": {
        "id": "o96nHZxFCkW9"
      },
      "source": [
        "##### Вторичный этам очитски"
      ]
    },
    {
      "cell_type": "code",
      "metadata": {
        "scrolled": false,
        "id": "M5fEZ_URCkW9",
        "outputId": "7d7cf033-cce9-4e25-a60e-eb970bd4b33b"
      },
      "source": [
        "plt.figure(figsize=(14,6))\n",
        "data_full['final.output.concentrate_ag'].plot.hist(bins=range(1,50), alpha=0.7)\n",
        "data_full['final.output.concentrate_au'].plot.hist(bins=range(1,50), alpha=0.7)\n",
        "data_full['final.output.concentrate_pb'].plot.hist(bins=range(1,50), alpha=0.7)\n",
        "plt.legend(['Ag', 'Au', 'Pb'])\n",
        "plt.title('Концентрация металлов на вторичном этапе очистки')\n",
        "plt.xlabel('Концентрация')\n",
        "plt.grid(True)\n",
        "plt.show()"
      ],
      "execution_count": null,
      "outputs": [
        {
          "output_type": "display_data",
          "data": {
            "image/png": "[encoded data removed]",
            "text/plain": [
              "<Figure size 1008x432 with 1 Axes>"
            ]
          },
          "metadata": {
            "tags": []
          }
        }
      ]
    },
    {
      "cell_type": "markdown",
      "metadata": {
        "id": "Iy7BWbJWCkW9"
      },
      "source": [
        "##### По результату анализа мы видим, что с этапами обработки увеличивается концентрация золота, а концентрации серебра и синца снижаются"
      ]
    },
    {
      "cell_type": "markdown",
      "metadata": {
        "id": "njN0mtw8CkW9"
      },
      "source": [
        "<a id=\"step_2.1\"></a>\n",
        "## Сравним распределения размеров гранул сырья на обучающей и тестовой выборках. Если распределения сильно отличаются друг от друга, оценка модели будет неправильной"
      ]
    },
    {
      "cell_type": "code",
      "metadata": {
        "id": "Nv4D1yxVCkW9"
      },
      "source": [
        "def compare_train_test_features(features):\n",
        "    plt.figure(figsize=(14,6))\n",
        "    (data_train[features]).plot.kde(linewidth=3,alpha=0.7)\n",
        "    (data_test[features]).plot.kde(linewidth=3, alpha=0.7)\n",
        "    plt.legend(['Тренировочная выборка','Тестовая выборка'])\n",
        "    plt.title('Распределение размеров гранул на обучающей и тестовой выборках')\n",
        "    plt.xlabel('Размер гранул')\n",
        "    plt.grid(True)\n",
        "    plt.show()"
      ],
      "execution_count": null,
      "outputs": []
    },
    {
      "cell_type": "code",
      "metadata": {
        "scrolled": false,
        "id": "O1rEKExhCkW-",
        "outputId": "2ba8e2ca-64f5-42c8-f201-b204a41c928c"
      },
      "source": [
        "compare_train_test_features('rougher.input.feed_size')"
      ],
      "execution_count": null,
      "outputs": [
        {
          "output_type": "display_data",
          "data": {
            "image/png": "[encoded data removed]",
            "text/plain": [
              "<Figure size 1008x432 with 1 Axes>"
            ]
          },
          "metadata": {
            "tags": []
          }
        }
      ]
    },
    {
      "cell_type": "markdown",
      "metadata": {
        "id": "SYvIfFlcCkW-"
      },
      "source": [
        "##### Отлично, распределение гранул по двум выборкам совпадают, а значит и оценка модели должна быть правильной."
      ]
    },
    {
      "cell_type": "markdown",
      "metadata": {
        "id": "4_jOjUqPCkW-"
      },
      "source": [
        "<a id=\"step_2.2\"></a>\n",
        "## Исследуем суммарную концентрацию всех веществ на разных стадиях:"
      ]
    },
    {
      "cell_type": "markdown",
      "metadata": {
        "id": "a8xQbk39CkW-"
      },
      "source": [
        "#### Напишем функцию для подсчёта:"
      ]
    },
    {
      "cell_type": "code",
      "metadata": {
        "id": "18AoYoZWCkW-"
      },
      "source": [
        "def sum_concentration_col(data,concentrat_ag,concentrat_au,concentrat_pb,concentrat_sol):\n",
        "    ag=data[concentrat_ag]\n",
        "    au=data[concentrat_au]\n",
        "    pb=data[concentrat_pb]\n",
        "    sol=data[concentrat_sol]\n",
        "    sum_conc=ag+au+pb+sol\n",
        "    \n",
        "    plt.figure(figsize=(14,6))\n",
        "    sum_conc.plot.hist(bins=100)\n",
        "    plt.title('Cуммарная концентрация всех веществ')\n",
        "    plt.xlabel('Значение концентрации')\n",
        "    plt.ylabel('Количество значений')\n",
        "    plt.grid(True)\n",
        "    plt.show()\n",
        "    print('Распределение данных:\\n ',sum_conc.describe())"
      ],
      "execution_count": null,
      "outputs": []
    },
    {
      "cell_type": "markdown",
      "metadata": {
        "id": "ad93INLxCkW_"
      },
      "source": [
        "<a id=\"step_2.2.1\"></a>\n",
        "### - в сырье"
      ]
    },
    {
      "cell_type": "code",
      "metadata": {
        "id": "ggs-vDYKCkW_",
        "outputId": "bd9028b6-8f71-4d20-a352-d3d5ef80af1c"
      },
      "source": [
        "sum_concentration_col(data_full,'rougher.input.feed_ag','rougher.input.feed_au','rougher.input.feed_pb','rougher.input.feed_sol')"
      ],
      "execution_count": null,
      "outputs": [
        {
          "output_type": "display_data",
          "data": {
            "image/png": "[encoded data removed]",
            "text/plain": [
              "<Figure size 1008x432 with 1 Axes>"
            ]
          },
          "metadata": {
            "tags": []
          }
        },
        {
          "output_type": "stream",
          "text": [
            "Распределение данных:\n",
            "  count    19439.000000\n",
            "mean        57.320789\n",
            "std          7.212680\n",
            "min          0.040000\n",
            "25%         53.557679\n",
            "50%         57.594391\n",
            "75%         61.953459\n",
            "max         76.978947\n",
            "dtype: float64\n"
          ],
          "name": "stdout"
        }
      ]
    },
    {
      "cell_type": "markdown",
      "metadata": {
        "id": "sSPK26UxCkW_"
      },
      "source": [
        "<a id=\"step_2.2.2\"></a>\n",
        "### - в черновом"
      ]
    },
    {
      "cell_type": "code",
      "metadata": {
        "id": "OSp0B-r7CkW_",
        "outputId": "1a3f2c27-8c62-49d6-968d-77ebe2f20a03"
      },
      "source": [
        "sum_concentration_col(data_full,'rougher.output.concentrate_ag','rougher.output.concentrate_au','rougher.output.concentrate_pb','rougher.output.concentrate_sol')"
      ],
      "execution_count": null,
      "outputs": [
        {
          "output_type": "display_data",
          "data": {
            "image/png": "[encoded data removed]",
            "text/plain": [
              "<Figure size 1008x432 with 1 Axes>"
            ]
          },
          "metadata": {
            "tags": []
          }
        },
        {
          "output_type": "stream",
          "text": [
            "Распределение данных:\n",
            "  count    19439.000000\n",
            "mean        68.170865\n",
            "std         12.491279\n",
            "min          0.000000\n",
            "25%         66.012495\n",
            "50%         70.181495\n",
            "75%         74.356904\n",
            "max         88.140119\n",
            "dtype: float64\n"
          ],
          "name": "stdout"
        }
      ]
    },
    {
      "cell_type": "markdown",
      "metadata": {
        "id": "c7Cv2yMNCkW_"
      },
      "source": [
        "<a id=\"step_2.2.3\"></a>\n",
        "### - в финальных концентратах"
      ]
    },
    {
      "cell_type": "code",
      "metadata": {
        "scrolled": false,
        "id": "7VB35B1vCkW_",
        "outputId": "d89c5627-7c9f-45da-bc58-bdff3e9b1c75"
      },
      "source": [
        "sum_concentration_col(data_full,'final.output.concentrate_ag','final.output.concentrate_au','final.output.concentrate_pb','final.output.concentrate_sol')"
      ],
      "execution_count": null,
      "outputs": [
        {
          "output_type": "display_data",
          "data": {
            "image/png": "[encoded data removed]",
            "text/plain": [
              "<Figure size 1008x432 with 1 Axes>"
            ]
          },
          "metadata": {
            "tags": []
          }
        },
        {
          "output_type": "stream",
          "text": [
            "Распределение данных:\n",
            "  count    19439.000000\n",
            "mean        68.653624\n",
            "std          7.427536\n",
            "min          0.000000\n",
            "25%         67.932362\n",
            "50%         69.598444\n",
            "75%         71.368472\n",
            "max         80.210644\n",
            "dtype: float64\n"
          ],
          "name": "stdout"
        }
      ]
    },
    {
      "cell_type": "markdown",
      "metadata": {
        "id": "UI4yHB2HCkXA"
      },
      "source": [
        "<a id=\"step_2.2.end\"></a>\n",
        "###  Опишием выводы и удалим аномалии"
      ]
    },
    {
      "cell_type": "markdown",
      "metadata": {
        "id": "ryoHis1MCkXA"
      },
      "source": [
        "#### Суммарная концентрация по всем этапам обработки имеет нормальное распределение значений, но есть выбивающиеся значения у нулевой отметки, такие значения нам не интересны"
      ]
    },
    {
      "cell_type": "markdown",
      "metadata": {
        "id": "4zYSovTwCkXA"
      },
      "source": [
        "#### Создадим функцию и добавим данные о сумме концентрации в общую таблицу с данными"
      ]
    },
    {
      "cell_type": "code",
      "metadata": {
        "id": "C-GMGoyaCkXA"
      },
      "source": [
        "def sum_concentration_col5(data,concentrat_ag,concentrat_au,concentrat_pb,concentrat_sol):\n",
        "    ag=data[concentrat_ag]\n",
        "    au=data[concentrat_au]\n",
        "    pb=data[concentrat_pb]\n",
        "    sol=data[concentrat_sol]\n",
        "    sum_conc=ag+au+pb+sol\n",
        "    data = sum_conc\n",
        "    return data"
      ],
      "execution_count": null,
      "outputs": []
    },
    {
      "cell_type": "code",
      "metadata": {
        "id": "hi5Dj_A5CkXA"
      },
      "source": [
        "data_full['sum_concentration'] = sum_concentration_col5(data_full,'final.output.concentrate_ag','final.output.concentrate_au','final.output.concentrate_pb','final.output.concentrate_sol')"
      ],
      "execution_count": null,
      "outputs": []
    },
    {
      "cell_type": "markdown",
      "metadata": {
        "id": "Tde1zbt-CkXA"
      },
      "source": [
        "#### Добавим значения суммы концентраций веществ в выборку `data_train`"
      ]
    },
    {
      "cell_type": "code",
      "metadata": {
        "id": "VaHqWbqxCkXA"
      },
      "source": [
        "data_mud_conc=data_full[['date','sum_concentration']]\n",
        "data_train = data_train.merge(data_mud_conc, on='date', how='left')"
      ],
      "execution_count": null,
      "outputs": []
    },
    {
      "cell_type": "code",
      "metadata": {
        "id": "--eHopYLCkXB",
        "outputId": "67a8f45f-4b09-4a0a-fd92-a93afac0b05c"
      },
      "source": [
        "data_train['sum_concentration'].describe()"
      ],
      "execution_count": null,
      "outputs": [
        {
          "output_type": "execute_result",
          "data": {
            "text/plain": [
              "count    14149.000000\n",
              "mean        68.387872\n",
              "std          7.023723\n",
              "min          0.000000\n",
              "25%         67.559819\n",
              "50%         69.141502\n",
              "75%         70.974661\n",
              "max         80.210644\n",
              "Name: sum_concentration, dtype: float64"
            ]
          },
          "metadata": {
            "tags": []
          },
          "execution_count": 56
        }
      ]
    },
    {
      "cell_type": "markdown",
      "metadata": {
        "id": "Bck45oS2CkXB"
      },
      "source": [
        "#### Добавим значения суммы концентраций веществ в выборку `data_test`"
      ]
    },
    {
      "cell_type": "code",
      "metadata": {
        "id": "STkJ4au2CkXB"
      },
      "source": [
        "data_test = data_test.merge(data_mud_conc, on='date', how='left')"
      ],
      "execution_count": null,
      "outputs": []
    },
    {
      "cell_type": "code",
      "metadata": {
        "id": "-uqS_nh4CkXB",
        "outputId": "db370724-46e0-4e86-b1d7-421f90b2cda8"
      },
      "source": [
        "data_test['sum_concentration'].describe()"
      ],
      "execution_count": null,
      "outputs": [
        {
          "output_type": "execute_result",
          "data": {
            "text/plain": [
              "count    5290.000000\n",
              "mean       69.364422\n",
              "std         8.372254\n",
              "min         0.000000\n",
              "25%        69.342800\n",
              "50%        70.688587\n",
              "75%        72.073175\n",
              "max        79.977670\n",
              "Name: sum_concentration, dtype: float64"
            ]
          },
          "metadata": {
            "tags": []
          },
          "execution_count": 58
        }
      ]
    },
    {
      "cell_type": "markdown",
      "metadata": {
        "id": "m8N_bqtdCkXB"
      },
      "source": [
        "#### Для удаления аномальных значений концентрации веществ создадим функцию"
      ]
    },
    {
      "cell_type": "code",
      "metadata": {
        "id": "x8rRsXERCkXB"
      },
      "source": [
        "def concentration_clean(data,sum_concentrat,trashold):\n",
        "    data=data[data[sum_concentrat] > trashold]\n",
        "    plt.figure(figsize=(14,6))\n",
        "    data[sum_concentrat].plot.hist(bins=100)\n",
        "    plt.title('Cуммарная концентрация всех веществ')\n",
        "    plt.xlabel('Значение концентрации')\n",
        "    plt.ylabel('Количество значений')\n",
        "    plt.grid(True)\n",
        "    plt.show()\n",
        "    print('Распределение данных:\\n ',data[sum_concentrat].describe())\n",
        "    return data"
      ],
      "execution_count": null,
      "outputs": []
    },
    {
      "cell_type": "markdown",
      "metadata": {
        "id": "8ZxqZmJECkXB"
      },
      "source": [
        "#### Судя по распределению значений стандартного отклонения и среднего значения, мы смело можем поставить порог в *50* для обеспечения более качественного распределения значений."
      ]
    },
    {
      "cell_type": "markdown",
      "metadata": {
        "id": "uz67M9GmCkXC"
      },
      "source": [
        "#### Удалим данные из полной выборки и посмотрим распределение"
      ]
    },
    {
      "cell_type": "code",
      "metadata": {
        "scrolled": false,
        "id": "UFO4obK_CkXC",
        "outputId": "8bde4f6c-2e1f-4233-bcc8-91da2c722d53"
      },
      "source": [
        "data_full = concentration_clean(data_full,'sum_concentration', 50)"
      ],
      "execution_count": null,
      "outputs": [
        {
          "output_type": "display_data",
          "data": {
            "image/png": "[encoded data removed]",
            "text/plain": [
              "<Figure size 1008x432 with 1 Axes>"
            ]
          },
          "metadata": {
            "tags": []
          }
        },
        {
          "output_type": "stream",
          "text": [
            "Распределение данных:\n",
            "  count    19033.000000\n",
            "mean        69.546324\n",
            "std          3.311818\n",
            "min         50.098603\n",
            "25%         68.056037\n",
            "50%         69.662138\n",
            "75%         71.407003\n",
            "max         80.210644\n",
            "Name: sum_concentration, dtype: float64\n"
          ],
          "name": "stdout"
        }
      ]
    },
    {
      "cell_type": "markdown",
      "metadata": {
        "id": "wE7heLpmCkXC"
      },
      "source": [
        "#### Повторим удаление строк в тренировочной выборке"
      ]
    },
    {
      "cell_type": "code",
      "metadata": {
        "id": "FpIKxnyNCkXC",
        "outputId": "746bad0a-e1da-49a9-cd56-cce89d073d57"
      },
      "source": [
        "data_train = concentration_clean(data_train,'sum_concentration', 50)"
      ],
      "execution_count": null,
      "outputs": [
        {
          "output_type": "display_data",
          "data": {
            "image/png": "[encoded data removed]",
            "text/plain": [
              "<Figure size 1008x432 with 1 Axes>"
            ]
          },
          "metadata": {
            "tags": []
          }
        },
        {
          "output_type": "stream",
          "text": [
            "Распределение данных:\n",
            "  count    13896.000000\n",
            "mean        69.155362\n",
            "std          3.359173\n",
            "min         50.098603\n",
            "25%         67.674460\n",
            "50%         69.188746\n",
            "75%         71.018587\n",
            "max         80.210644\n",
            "Name: sum_concentration, dtype: float64\n"
          ],
          "name": "stdout"
        }
      ]
    },
    {
      "cell_type": "markdown",
      "metadata": {
        "id": "ROh8XRFKCkXC"
      },
      "source": [
        "#### Повторим удаление строк в тестовой выборке"
      ]
    },
    {
      "cell_type": "code",
      "metadata": {
        "scrolled": false,
        "id": "QBBAjGwzCkXC",
        "outputId": "fe6be2a8-0d8c-46fc-f2ad-d91ae22c3d52"
      },
      "source": [
        "data_test = concentration_clean(data_test,'sum_concentration', 55)"
      ],
      "execution_count": null,
      "outputs": [
        {
          "output_type": "display_data",
          "data": {
            "image/png": "[encoded data removed]",
            "text/plain": [
              "<Figure size 1008x432 with 1 Axes>"
            ]
          },
          "metadata": {
            "tags": []
          }
        },
        {
          "output_type": "stream",
          "text": [
            "Распределение данных:\n",
            "  count    5108.000000\n",
            "mean       70.704453\n",
            "std         2.613732\n",
            "min        55.096218\n",
            "25%        69.489121\n",
            "50%        70.772160\n",
            "75%        72.115115\n",
            "max        79.977670\n",
            "Name: sum_concentration, dtype: float64\n"
          ],
          "name": "stdout"
        }
      ]
    },
    {
      "cell_type": "markdown",
      "metadata": {
        "id": "dryxbogoCkXD"
      },
      "source": [
        "#### Удалим столбцы из наших выборок для того, чтобы не вызвать переобучение модели"
      ]
    },
    {
      "cell_type": "code",
      "metadata": {
        "scrolled": true,
        "id": "JghjpckoCkXD",
        "outputId": "648d7df0-af39-4f5f-aa03-4f2019e9094e"
      },
      "source": [
        "data_train = data_train.drop(['sum_concentration'], axis=1)\n",
        "print(data_train.shape)"
      ],
      "execution_count": null,
      "outputs": [
        {
          "output_type": "stream",
          "text": [
            "(13896, 55)\n"
          ],
          "name": "stdout"
        }
      ]
    },
    {
      "cell_type": "code",
      "metadata": {
        "scrolled": true,
        "id": "ow5Ow37rCkXD"
      },
      "source": [
        "data_test = data_test.drop(['sum_concentration'], axis=1)"
      ],
      "execution_count": null,
      "outputs": []
    },
    {
      "cell_type": "code",
      "metadata": {
        "scrolled": false,
        "id": "U7s5rVqSCkXD",
        "outputId": "d383b596-2828-4a11-c091-be8a229c6046"
      },
      "source": [
        "print(data_test.shape)"
      ],
      "execution_count": null,
      "outputs": [
        {
          "output_type": "stream",
          "text": [
            "(5108, 55)\n"
          ],
          "name": "stdout"
        }
      ]
    },
    {
      "cell_type": "markdown",
      "metadata": {
        "id": "42ns9M8rCkXD"
      },
      "source": [
        "-----"
      ]
    },
    {
      "cell_type": "markdown",
      "metadata": {
        "id": "CDCsP9qSCkXE"
      },
      "source": [
        "### Посмотрим на распределение данных в целевых столбцах в полной выборке данных"
      ]
    },
    {
      "cell_type": "code",
      "metadata": {
        "scrolled": false,
        "id": "G1PCWy8DCkXE",
        "outputId": "ac566f54-bc8e-4fbc-b849-15bb16f4a27e"
      },
      "source": [
        "data_full = concentration_clean(data_full,'rougher.output.recovery',-1)"
      ],
      "execution_count": null,
      "outputs": [
        {
          "output_type": "display_data",
          "data": {
            "image/png": "[encoded data removed]",
            "text/plain": [
              "<Figure size 1008x432 with 1 Axes>"
            ]
          },
          "metadata": {
            "tags": []
          }
        },
        {
          "output_type": "stream",
          "text": [
            "Распределение данных:\n",
            "  count    19033.000000\n",
            "mean        83.515919\n",
            "std         13.963362\n",
            "min          0.000000\n",
            "25%         81.168463\n",
            "50%         86.277219\n",
            "75%         90.060351\n",
            "max        100.000000\n",
            "Name: rougher.output.recovery, dtype: float64\n"
          ],
          "name": "stdout"
        }
      ]
    },
    {
      "cell_type": "code",
      "metadata": {
        "scrolled": false,
        "id": "XeCTOK1XCkXE",
        "outputId": "a4f84c55-b07b-4ec4-e342-4ac9b9abbec6"
      },
      "source": [
        "data_full = concentration_clean(data_full,'final.output.recovery', -1)"
      ],
      "execution_count": null,
      "outputs": [
        {
          "output_type": "display_data",
          "data": {
            "image/png": "[encoded data removed]",
            "text/plain": [
              "<Figure size 1008x432 with 1 Axes>"
            ]
          },
          "metadata": {
            "tags": []
          }
        },
        {
          "output_type": "stream",
          "text": [
            "Распределение данных:\n",
            "  count    19033.000000\n",
            "mean        67.399266\n",
            "std          8.729029\n",
            "min          0.430264\n",
            "25%         63.437355\n",
            "50%         68.215611\n",
            "75%         72.679494\n",
            "max        100.000000\n",
            "Name: final.output.recovery, dtype: float64\n"
          ],
          "name": "stdout"
        }
      ]
    },
    {
      "cell_type": "markdown",
      "metadata": {
        "id": "lGEQpyYBCkXE"
      },
      "source": [
        "### Выбераем пороговое значение концентрации в 55 для `rougher.output.recovery` "
      ]
    },
    {
      "cell_type": "code",
      "metadata": {
        "scrolled": false,
        "id": "AF04vWNZCkXE",
        "outputId": "4f8a8fca-5890-4b4b-caee-cb377295d118"
      },
      "source": [
        "data_full = concentration_clean(data_full,'rougher.output.recovery', 55)"
      ],
      "execution_count": null,
      "outputs": [
        {
          "output_type": "display_data",
          "data": {
            "image/png": "[encoded data removed]",
            "text/plain": [
              "<Figure size 1008x432 with 1 Axes>"
            ]
          },
          "metadata": {
            "tags": []
          }
        },
        {
          "output_type": "stream",
          "text": [
            "Распределение данных:\n",
            "  count    18581.000000\n",
            "mean        85.384050\n",
            "std          6.784802\n",
            "min         55.050947\n",
            "25%         81.630886\n",
            "50%         86.480850\n",
            "75%         90.158858\n",
            "max        100.000000\n",
            "Name: rougher.output.recovery, dtype: float64\n"
          ],
          "name": "stdout"
        }
      ]
    },
    {
      "cell_type": "markdown",
      "metadata": {
        "id": "8hf12S4-CkXF"
      },
      "source": [
        "### Выбераем пороговое значение концентрации в 35 для `final.output.recovery` "
      ]
    },
    {
      "cell_type": "code",
      "metadata": {
        "id": "aNFaCJkoCkXF",
        "outputId": "361f3bc7-adc9-4847-cf5f-033bfdd3ccb4"
      },
      "source": [
        "data_full = concentration_clean(data_full,'final.output.recovery', 35)"
      ],
      "execution_count": null,
      "outputs": [
        {
          "output_type": "display_data",
          "data": {
            "image/png": "[encoded data removed]",
            "text/plain": [
              "<Figure size 1008x432 with 1 Axes>"
            ]
          },
          "metadata": {
            "tags": []
          }
        },
        {
          "output_type": "stream",
          "text": [
            "Распределение данных:\n",
            "  count    18502.000000\n",
            "mean        67.762431\n",
            "std          7.966386\n",
            "min         35.105022\n",
            "25%         63.709100\n",
            "50%         68.348554\n",
            "75%         72.750555\n",
            "max        100.000000\n",
            "Name: final.output.recovery, dtype: float64\n"
          ],
          "name": "stdout"
        }
      ]
    },
    {
      "cell_type": "markdown",
      "metadata": {
        "id": "OQiEBfVdCkXF"
      },
      "source": [
        "### Создадим функцию для удаления аномальных и неустраивающих нас строк с даными в целевых столбцах"
      ]
    },
    {
      "cell_type": "code",
      "metadata": {
        "id": "iMYXoioNCkXF"
      },
      "source": [
        "def concentration_clean2(data,concentrat_1,concentrat_2,trashold,trashold2):\n",
        "    data=data[data[concentrat_1] > trashold]\n",
        "    data=data[data[concentrat_2] > trashold2]\n",
        "    return data"
      ],
      "execution_count": null,
      "outputs": []
    },
    {
      "cell_type": "markdown",
      "metadata": {
        "id": "Y8rBTE1DCkXF"
      },
      "source": [
        "### Выполним корректриовку значений в двух других выборках `data_train` и `data_test`"
      ]
    },
    {
      "cell_type": "markdown",
      "metadata": {
        "id": "6l0_a2lTCkXF"
      },
      "source": [
        "#### Удалим данные из тренировочной выборки"
      ]
    },
    {
      "cell_type": "code",
      "metadata": {
        "id": "odDevT9eCkXG",
        "outputId": "f2da10e7-e574-4af9-b2c1-b3cfcf124111"
      },
      "source": [
        "data_train = concentration_clean2(data_train,'rougher.output.recovery','final.output.recovery',55,35)\n",
        "data_train[['rougher.output.recovery','final.output.recovery']].describe()"
      ],
      "execution_count": null,
      "outputs": [
        {
          "output_type": "execute_result",
          "data": {
            "text/html": [
              "<div>\n",
              "<style scoped>\n",
              "    .dataframe tbody tr th:only-of-type {\n",
              "        vertical-align: middle;\n",
              "    }\n",
              "\n",
              "    .dataframe tbody tr th {\n",
              "        vertical-align: top;\n",
              "    }\n",
              "\n",
              "    .dataframe thead th {\n",
              "        text-align: right;\n",
              "    }\n",
              "</style>\n",
              "<table border=\"1\" class=\"dataframe\">\n",
              "  <thead>\n",
              "    <tr style=\"text-align: right;\">\n",
              "      <th></th>\n",
              "      <th>rougher.output.recovery</th>\n",
              "      <th>final.output.recovery</th>\n",
              "    </tr>\n",
              "  </thead>\n",
              "  <tbody>\n",
              "    <tr>\n",
              "      <th>count</th>\n",
              "      <td>13470.000000</td>\n",
              "      <td>13470.000000</td>\n",
              "    </tr>\n",
              "    <tr>\n",
              "      <th>mean</th>\n",
              "      <td>84.857071</td>\n",
              "      <td>67.213690</td>\n",
              "    </tr>\n",
              "    <tr>\n",
              "      <th>std</th>\n",
              "      <td>7.258538</td>\n",
              "      <td>8.318982</td>\n",
              "    </tr>\n",
              "    <tr>\n",
              "      <th>min</th>\n",
              "      <td>55.050947</td>\n",
              "      <td>35.105022</td>\n",
              "    </tr>\n",
              "    <tr>\n",
              "      <th>25%</th>\n",
              "      <td>80.558872</td>\n",
              "      <td>62.955420</td>\n",
              "    </tr>\n",
              "    <tr>\n",
              "      <th>50%</th>\n",
              "      <td>85.648396</td>\n",
              "      <td>67.547893</td>\n",
              "    </tr>\n",
              "    <tr>\n",
              "      <th>75%</th>\n",
              "      <td>90.368332</td>\n",
              "      <td>72.409952</td>\n",
              "    </tr>\n",
              "    <tr>\n",
              "      <th>max</th>\n",
              "      <td>100.000000</td>\n",
              "      <td>100.000000</td>\n",
              "    </tr>\n",
              "  </tbody>\n",
              "</table>\n",
              "</div>"
            ],
            "text/plain": [
              "       rougher.output.recovery  final.output.recovery\n",
              "count             13470.000000           13470.000000\n",
              "mean                 84.857071              67.213690\n",
              "std                   7.258538               8.318982\n",
              "min                  55.050947              35.105022\n",
              "25%                  80.558872              62.955420\n",
              "50%                  85.648396              67.547893\n",
              "75%                  90.368332              72.409952\n",
              "max                 100.000000             100.000000"
            ]
          },
          "metadata": {
            "tags": []
          },
          "execution_count": 71
        }
      ]
    },
    {
      "cell_type": "markdown",
      "metadata": {
        "id": "L_7C2qukCkXG"
      },
      "source": [
        "#### Удалим данные из тестовой выборки"
      ]
    },
    {
      "cell_type": "code",
      "metadata": {
        "id": "b_hPuVTNCkXG",
        "outputId": "97da4bed-791d-4c37-dceb-4ba22fb2ad9a"
      },
      "source": [
        "data_test = concentration_clean2(data_test,'rougher.output.recovery','final.output.recovery',55,35)\n",
        "data_test[['rougher.output.recovery','final.output.recovery']].describe()"
      ],
      "execution_count": null,
      "outputs": [
        {
          "output_type": "execute_result",
          "data": {
            "text/html": [
              "<div>\n",
              "<style scoped>\n",
              "    .dataframe tbody tr th:only-of-type {\n",
              "        vertical-align: middle;\n",
              "    }\n",
              "\n",
              "    .dataframe tbody tr th {\n",
              "        vertical-align: top;\n",
              "    }\n",
              "\n",
              "    .dataframe thead th {\n",
              "        text-align: right;\n",
              "    }\n",
              "</style>\n",
              "<table border=\"1\" class=\"dataframe\">\n",
              "  <thead>\n",
              "    <tr style=\"text-align: right;\">\n",
              "      <th></th>\n",
              "      <th>rougher.output.recovery</th>\n",
              "      <th>final.output.recovery</th>\n",
              "    </tr>\n",
              "  </thead>\n",
              "  <tbody>\n",
              "    <tr>\n",
              "      <th>count</th>\n",
              "      <td>5005.000000</td>\n",
              "      <td>5005.000000</td>\n",
              "    </tr>\n",
              "    <tr>\n",
              "      <th>mean</th>\n",
              "      <td>86.978368</td>\n",
              "      <td>69.248823</td>\n",
              "    </tr>\n",
              "    <tr>\n",
              "      <th>std</th>\n",
              "      <td>4.724165</td>\n",
              "      <td>6.678996</td>\n",
              "    </tr>\n",
              "    <tr>\n",
              "      <th>min</th>\n",
              "      <td>56.179625</td>\n",
              "      <td>38.519412</td>\n",
              "    </tr>\n",
              "    <tr>\n",
              "      <th>25%</th>\n",
              "      <td>84.953720</td>\n",
              "      <td>65.900248</td>\n",
              "    </tr>\n",
              "    <tr>\n",
              "      <th>50%</th>\n",
              "      <td>87.532575</td>\n",
              "      <td>70.009681</td>\n",
              "    </tr>\n",
              "    <tr>\n",
              "      <th>75%</th>\n",
              "      <td>89.827854</td>\n",
              "      <td>73.320629</td>\n",
              "    </tr>\n",
              "    <tr>\n",
              "      <th>max</th>\n",
              "      <td>99.169699</td>\n",
              "      <td>100.000000</td>\n",
              "    </tr>\n",
              "  </tbody>\n",
              "</table>\n",
              "</div>"
            ],
            "text/plain": [
              "       rougher.output.recovery  final.output.recovery\n",
              "count              5005.000000            5005.000000\n",
              "mean                 86.978368              69.248823\n",
              "std                   4.724165               6.678996\n",
              "min                  56.179625              38.519412\n",
              "25%                  84.953720              65.900248\n",
              "50%                  87.532575              70.009681\n",
              "75%                  89.827854              73.320629\n",
              "max                  99.169699             100.000000"
            ]
          },
          "metadata": {
            "tags": []
          },
          "execution_count": 72
        }
      ]
    },
    {
      "cell_type": "markdown",
      "metadata": {
        "id": "qR8-iCqICkXG"
      },
      "source": [
        "----"
      ]
    },
    {
      "cell_type": "markdown",
      "metadata": {
        "id": "tOtNKgHqCkXG"
      },
      "source": [
        "<a id=\"step_2.end\"></a>\n",
        "## Вывод"
      ]
    },
    {
      "cell_type": "markdown",
      "metadata": {
        "id": "Fd1P106NCkXG"
      },
      "source": [
        "Мы удалили все не вошедшие признаки из тренировочной выборки, так как по факту они абсолютно бесполезны. Если у нас концентрация всех веществ 0, то из такого сырья ничего полезного мы не получим. Такие выбросы могли появиться, из-за сбоя на прозводстве и пр. факторов."
      ]
    },
    {
      "cell_type": "markdown",
      "metadata": {
        "id": "7zqBeLCOCkXH"
      },
      "source": [
        "---"
      ]
    },
    {
      "cell_type": "markdown",
      "metadata": {
        "id": "ucuyPVySCkXH"
      },
      "source": [
        "<a href='#start'>Вернуться к оглавлению</a>\n",
        "<a id=\"step_3\"></a>\n",
        "# 3. Модель"
      ]
    },
    {
      "cell_type": "markdown",
      "metadata": {
        "id": "TD_5qp1XCkXH"
      },
      "source": [
        "### Отделим целевые выборки от  тренировочных и тестовых данных и присвоим им свои переменные для дальнейшего обучения "
      ]
    },
    {
      "cell_type": "markdown",
      "metadata": {
        "id": "j8mCcb2OCkXH"
      },
      "source": [
        "### `тренировочная выборка`"
      ]
    },
    {
      "cell_type": "code",
      "metadata": {
        "id": "A8DGtXoCCkXK"
      },
      "source": [
        "data_train=data_train.drop('date',axis=1)"
      ],
      "execution_count": null,
      "outputs": []
    },
    {
      "cell_type": "code",
      "metadata": {
        "id": "DXMsoQjQCkXK"
      },
      "source": [
        "dt_train_features = data_train.drop(['rougher.output.recovery','final.output.recovery'], axis=1)\n",
        "dt_train_target_r = data_train['rougher.output.recovery']\n",
        "dt_train_target_f = data_train['final.output.recovery']"
      ],
      "execution_count": null,
      "outputs": []
    },
    {
      "cell_type": "markdown",
      "metadata": {
        "id": "n8PtEWxqCkXK"
      },
      "source": [
        "#### Применим масштабирование данных для более качественного обучения моделей на `тренировочной выборке`"
      ]
    },
    {
      "cell_type": "code",
      "metadata": {
        "id": "LyAsuYzDCkXK"
      },
      "source": [
        "numeric = dt_train_features.columns\n",
        "scaler_rougher = StandardScaler()\n",
        "scaler_rougher.fit(dt_train_features[numeric]) \n",
        "dt_train_features[numeric] = scaler_rougher.transform(dt_train_features[numeric])"
      ],
      "execution_count": null,
      "outputs": []
    },
    {
      "cell_type": "code",
      "metadata": {
        "id": "6zgpd2cnCkXK",
        "outputId": "23686885-935a-41d9-dede-0b517b9eee74"
      },
      "source": [
        "plt.figure(figsize=(11,4))\n",
        "dt_train_target_r.hist(bins=40)\n",
        "plt.show()"
      ],
      "execution_count": null,
      "outputs": [
        {
          "output_type": "display_data",
          "data": {
            "image/png": "[encoded data removed]",
            "text/plain": [
              "<Figure size 792x288 with 1 Axes>"
            ]
          },
          "metadata": {
            "tags": []
          }
        }
      ]
    },
    {
      "cell_type": "code",
      "metadata": {
        "scrolled": false,
        "id": "oEc08a4pCkXL",
        "outputId": "dfaa8827-e1be-4ba8-ce22-e3feaa37b11c"
      },
      "source": [
        "plt.figure(figsize=(11,4))\n",
        "dt_train_target_f.hist(bins=40)\n",
        "plt.show()"
      ],
      "execution_count": null,
      "outputs": [
        {
          "output_type": "display_data",
          "data": {
            "image/png": "[encoded data removed]",
            "text/plain": [
              "<Figure size 792x288 with 1 Axes>"
            ]
          },
          "metadata": {
            "tags": []
          }
        }
      ]
    },
    {
      "cell_type": "markdown",
      "metadata": {
        "id": "i165_P0cCkXL"
      },
      "source": [
        "### `тестовая выборка`"
      ]
    },
    {
      "cell_type": "code",
      "metadata": {
        "id": "ZHSS8NUqCkXL"
      },
      "source": [
        "data_test=data_test.drop('date',axis=1)"
      ],
      "execution_count": null,
      "outputs": []
    },
    {
      "cell_type": "code",
      "metadata": {
        "id": "fE3UQTCxCkXL"
      },
      "source": [
        "dt_test_features = data_test.drop(['rougher.output.recovery','final.output.recovery'], axis=1)\n",
        "dt_test_target_r = data_test['rougher.output.recovery']\n",
        "dt_test_target_f = data_test['final.output.recovery']"
      ],
      "execution_count": null,
      "outputs": []
    },
    {
      "cell_type": "markdown",
      "metadata": {
        "id": "3D_NQPQGCkXL"
      },
      "source": [
        "#### Применим масштабирование данных для более качественного обучения моделей на `тестовой выборке`"
      ]
    },
    {
      "cell_type": "code",
      "metadata": {
        "id": "Zt5nsdbQCkXL"
      },
      "source": [
        "numerict = dt_test_features.columns\n",
        "\n",
        "dt_test_features[numeric] = scaler_rougher.transform(dt_test_features[numerict])"
      ],
      "execution_count": null,
      "outputs": []
    },
    {
      "cell_type": "code",
      "metadata": {
        "id": "H2JhXPS6CkXM",
        "outputId": "7ede9634-8334-444d-ba14-cf63e0cf9dd0"
      },
      "source": [
        "plt.figure(figsize=(11,4))\n",
        "dt_test_target_r.hist(bins=50)\n",
        "plt.show()"
      ],
      "execution_count": null,
      "outputs": [
        {
          "output_type": "display_data",
          "data": {
            "image/png": "[encoded data removed]",
            "text/plain": [
              "<Figure size 792x288 with 1 Axes>"
            ]
          },
          "metadata": {
            "tags": []
          }
        }
      ]
    },
    {
      "cell_type": "code",
      "metadata": {
        "id": "He6O5DZPCkXM",
        "outputId": "a3a70f28-1f87-4897-dc65-c74d1f663f72"
      },
      "source": [
        "plt.figure(figsize=(11,4))\n",
        "dt_test_target_f.hist(bins=50)\n",
        "plt.show()"
      ],
      "execution_count": null,
      "outputs": [
        {
          "output_type": "display_data",
          "data": {
            "image/png": "[encoded data removed]",
            "text/plain": [
              "<Figure size 792x288 with 1 Axes>"
            ]
          },
          "metadata": {
            "tags": []
          }
        }
      ]
    },
    {
      "cell_type": "markdown",
      "metadata": {
        "id": "Lnhl3wTPCkXM"
      },
      "source": [
        "### Напишем функцию для вычисления итоговой sMAPE"
      ]
    },
    {
      "cell_type": "code",
      "metadata": {
        "id": "zeaTHZ-jCkXM"
      },
      "source": [
        "def sMAPE(y, y_pred):\n",
        "    results = abs(y - y_pred) / ((abs(y) + abs(y_pred)) / 2)\n",
        "    return -1*((results.sum() / len(results)) * 100).round(2)"
      ],
      "execution_count": null,
      "outputs": []
    },
    {
      "cell_type": "code",
      "metadata": {
        "id": "PcPfS2CsCkXM",
        "outputId": "13f33c22-3131-4a8a-889c-7b4758e2e782"
      },
      "source": [
        "sMAPE(target_dt,predict_dt)"
      ],
      "execution_count": null,
      "outputs": [
        {
          "output_type": "execute_result",
          "data": {
            "text/plain": [
              "-0.0"
            ]
          },
          "metadata": {
            "tags": []
          },
          "execution_count": 84
        }
      ]
    },
    {
      "cell_type": "markdown",
      "metadata": {
        "id": "jwwhbEc5CkXM"
      },
      "source": [
        "### Итоговое sMAPE"
      ]
    },
    {
      "cell_type": "markdown",
      "metadata": {
        "id": "O8OMROXkCkXN"
      },
      "source": [
        "def fin_smape(target_r,target_f,rougher,final):\n",
        "    fin_smape = (0.25*sMAPE(target_r,rougher))+(0.75*sMAPE(target_f,final))\n",
        "    return -1*fin_smape.round(2)"
      ]
    },
    {
      "cell_type": "code",
      "metadata": {
        "scrolled": true,
        "id": "Sp5FknL5CkXN"
      },
      "source": [
        "def fin_smape2(rougher,final):\n",
        "    fin_smape = (0.25*rougher)+(0.75*final)\n",
        "    return fin_smape.round(2)"
      ],
      "execution_count": null,
      "outputs": []
    },
    {
      "cell_type": "markdown",
      "metadata": {
        "id": "SaY7SuUTCkXN"
      },
      "source": [
        "<a id=\"step_3.1.k\"></a>\n",
        "## Создадим `константную` модель и проверим значение sMAPE на её данных"
      ]
    },
    {
      "cell_type": "code",
      "metadata": {
        "id": "IpoGV0XWCkXN"
      },
      "source": [
        "from sklearn.dummy import DummyRegressor\n",
        "from sklearn.model_selection import cross_val_score\n",
        "from sklearn.metrics import make_scorer"
      ],
      "execution_count": null,
      "outputs": []
    },
    {
      "cell_type": "markdown",
      "metadata": {
        "id": "swX8-6LaCkXN"
      },
      "source": [
        "#### rougher.output.recovery"
      ]
    },
    {
      "cell_type": "code",
      "metadata": {
        "id": "q7cywQ2rCkXN",
        "outputId": "edb706bd-4654-42b5-d6c5-9270747e7b7b"
      },
      "source": [
        "model_const_r=DummyRegressor(strategy=\"median\")\n",
        "model_const_r.fit(dt_train_features,dt_train_target_r)\n",
        "predict_const_model_r=cross_val_score(model_const_r,dt_train_features,dt_train_target_r, cv=5, scoring=make_scorer(sMAPE, greater_is_better=False)).mean()\n",
        "predict_const_model_r.round(2)"
      ],
      "execution_count": null,
      "outputs": [
        {
          "output_type": "execute_result",
          "data": {
            "text/plain": [
              "7.4"
            ]
          },
          "metadata": {
            "tags": []
          },
          "execution_count": 87
        }
      ]
    },
    {
      "cell_type": "markdown",
      "metadata": {
        "id": "x7OxaU-BCkXO"
      },
      "source": [
        "#### final.output.recovery"
      ]
    },
    {
      "cell_type": "code",
      "metadata": {
        "id": "ZQorrfAeCkXO",
        "outputId": "239da1cf-18ef-46a0-e735-f327e64f2f28"
      },
      "source": [
        "model_const_f=DummyRegressor(strategy=\"median\")\n",
        "model_const_f.fit(dt_train_features,dt_train_target_f)\n",
        "\n",
        "predict_const_model_f =cross_val_score(model_const_f,dt_train_features,dt_train_target_f, cv=5, scoring=make_scorer(sMAPE, greater_is_better=False)).mean()\n",
        "predict_const_model_f.round(2)"
      ],
      "execution_count": null,
      "outputs": [
        {
          "output_type": "execute_result",
          "data": {
            "text/plain": [
              "9.57"
            ]
          },
          "metadata": {
            "tags": []
          },
          "execution_count": 88
        }
      ]
    },
    {
      "cell_type": "markdown",
      "metadata": {
        "id": "jZHURpMsCkXO"
      },
      "source": [
        "#### Проверим результат"
      ]
    },
    {
      "cell_type": "markdown",
      "metadata": {
        "scrolled": true,
        "id": "jd73StoDCkXO"
      },
      "source": [
        "#### Вычислим итоговое значение sMAPE константной модели"
      ]
    },
    {
      "cell_type": "code",
      "metadata": {
        "scrolled": true,
        "id": "V78_MyNCCkXO",
        "outputId": "0ca3b305-1217-4235-f2af-d988cf16c69b"
      },
      "source": [
        "const_model_smape = fin_smape2(predict_const_model_r,predict_const_model_f)\n",
        "print('Итоговое значение sMAPE константной модели: ', const_model_smape)"
      ],
      "execution_count": null,
      "outputs": [
        {
          "output_type": "stream",
          "text": [
            "Итоговое значение sMAPE константной модели:  9.03\n"
          ],
          "name": "stdout"
        }
      ]
    },
    {
      "cell_type": "markdown",
      "metadata": {
        "id": "nReMyEhZCkXP"
      },
      "source": [
        "#### Отлично, `Константная модель` создана, цель для достижения видна! Тепер проверим качество предсказания наших моделей"
      ]
    },
    {
      "cell_type": "markdown",
      "metadata": {
        "id": "hCzMwPHJCkXP"
      },
      "source": [
        "<a id=\"step_3.1\"></a>\n",
        "## Обучим разные модели и оценим их качество кросс-валидацией"
      ]
    },
    {
      "cell_type": "markdown",
      "metadata": {
        "id": "ZD_j1mwBCkXP"
      },
      "source": [
        "## Дерево решений"
      ]
    },
    {
      "cell_type": "code",
      "metadata": {
        "id": "4gHIsZdRCkXP"
      },
      "source": [
        "from sklearn.tree import DecisionTreeRegressor\n",
        "from sklearn.model_selection import GridSearchCV"
      ],
      "execution_count": null,
      "outputs": []
    },
    {
      "cell_type": "markdown",
      "metadata": {
        "id": "wcDjsRHECkXP"
      },
      "source": [
        "### Создадим функцию для проверки качества модели на кросс-валидации"
      ]
    },
    {
      "cell_type": "code",
      "metadata": {
        "id": "uo1e23QbCkXP"
      },
      "source": [
        "def cross_validat(model):\n",
        "    score_val = (cross_val_score(model, dt_train_features, dt_train_target_r, cv=5, scoring=make_scorer(sMAPE, greater_is_better=True))).mean() \n",
        "    print('Cреднее значение sMAPE для `rougher`: ',-1*score_val.round(2))\n",
        "\n",
        "    \n",
        "    score_val_f = (cross_val_score(model, dt_train_features, dt_train_target_f, cv=5, scoring=make_scorer(sMAPE, greater_is_better=True))).mean() \n",
        "    print('Cреднее значение sMAPE для `final`: ',-1*score_val_f.round(2))\n",
        "\n",
        "    fin_score_smape= fin_smape2(score_val,score_val_f)\n",
        "    print('Итоговое sMAPE модели на кросс-валидации: ',-1*fin_score_smape.round(2)) "
      ],
      "execution_count": null,
      "outputs": []
    },
    {
      "cell_type": "markdown",
      "metadata": {
        "id": "ONFemcwfCkXQ"
      },
      "source": [
        "### Оценим модель методом кросс-валидации при помощи нашей функции"
      ]
    },
    {
      "cell_type": "code",
      "metadata": {
        "id": "onB3mIObCkXQ",
        "outputId": "a70bb200-8136-411e-b55d-b032c7e724e8"
      },
      "source": [
        "cross_validat(DecisionTreeRegressor(random_state=12345))"
      ],
      "execution_count": null,
      "outputs": [
        {
          "output_type": "stream",
          "text": [
            "Cреднее значение sMAPE для `rougher`:  8.3\n",
            "Cреднее значение sMAPE для `final`:  15.52\n",
            "Итоговое sMAPE модели на кросс-валидации:  13.72\n"
          ],
          "name": "stdout"
        }
      ]
    },
    {
      "cell_type": "markdown",
      "metadata": {
        "id": "sXTs2xocCkXQ"
      },
      "source": [
        "### Подберём параметры для модели Дерево решений при помощи цикла `for`"
      ]
    },
    {
      "cell_type": "markdown",
      "metadata": {
        "id": "-U3V7hW1CkXQ"
      },
      "source": [
        "#### rougher.output.recovery"
      ]
    },
    {
      "cell_type": "code",
      "metadata": {
        "scrolled": true,
        "colab": {
          "referenced_widgets": [
            "0d7f904427bd4762846404e4edc2e79f"
          ]
        },
        "id": "qHmI2VuWCkXQ",
        "outputId": "c49f69d8-0fef-4f47-ec9a-9be89af45ee9"
      },
      "source": [
        "best_model = None\n",
        "best_result_r = 100\n",
        "best_depth = 0\n",
        "for depth in tqdm(range(1, 13)):\n",
        "    model_dr = DecisionTreeRegressor(random_state=12345, max_depth=depth)\n",
        "    #model.fit(dt_train_features,dt_train_target_r) \n",
        "   # predictions_valid_r = model.predict(dt_train_features) \n",
        "    result = -1*cross_val_score(model_dr,dt_train_features,dt_train_target_r, cv=5, scoring=make_scorer(sMAPE, greater_is_better=True)).mean()\n",
        "    #result = -1*sMAPE(dt_train_target_r,predictions_valid_r)\n",
        "    if result < best_result_r:\n",
        "        best_model = model_dr\n",
        "        best_result_r = result.round(2)\n",
        "        best_depth = depth\n",
        "\n",
        "print(\"Значение sMAPE наилучшей модели для целевого признака `rougher.output.recovery`:\", best_result_r, \"\\nКоличество деревьев:\", best_depth)"
      ],
      "execution_count": null,
      "outputs": [
        {
          "output_type": "display_data",
          "data": {
            "application/vnd.jupyter.widget-view+json": {
              "model_id": "0d7f904427bd4762846404e4edc2e79f",
              "version_major": 2,
              "version_minor": 0
            },
            "text/plain": [
              "HBox(children=(HTML(value=''), FloatProgress(value=0.0, max=12.0), HTML(value='')))"
            ]
          },
          "metadata": {
            "tags": []
          }
        },
        {
          "output_type": "stream",
          "text": [
            "\n",
            "Значение sMAPE наилучшей модели для целевого признака `rougher.output.recovery`: 6.65 \n",
            "Количество деревьев: 4\n"
          ],
          "name": "stdout"
        }
      ]
    },
    {
      "cell_type": "markdown",
      "metadata": {
        "id": "3S15yt4CCkXR"
      },
      "source": [
        "#### final.output.recovery"
      ]
    },
    {
      "cell_type": "code",
      "metadata": {
        "scrolled": true,
        "colab": {
          "referenced_widgets": [
            "5cb87ded9d78412394f941d21d7c769a"
          ]
        },
        "id": "WABAPO83CkXS",
        "outputId": "785b1280-013d-4263-b8e5-50e205334907"
      },
      "source": [
        "best_model = None\n",
        "best_result_f = 100\n",
        "best_depth_f = 0\n",
        "for depth in tqdm(range(1, 13)):\n",
        "    model_d = DecisionTreeRegressor(random_state=12345, max_depth=depth)\n",
        "  \n",
        "    result = -1*cross_val_score(model_d,dt_train_features,dt_train_target_f, cv=5, scoring=make_scorer(sMAPE, greater_is_better=True)).mean()\n",
        "    if result < best_result_f:\n",
        "        best_model = model_d\n",
        "        best_result_f = result.round(2)\n",
        "        best_depth_f = depth\n",
        "\n",
        "print(\"Значение sMAPE наилучшей модели для целевого признака `final.output.recovery`:\", best_result_f, \"\\nКоличество деревьев:\", best_depth_f)"
      ],
      "execution_count": null,
      "outputs": [
        {
          "output_type": "display_data",
          "data": {
            "application/vnd.jupyter.widget-view+json": {
              "model_id": "5cb87ded9d78412394f941d21d7c769a",
              "version_major": 2,
              "version_minor": 0
            },
            "text/plain": [
              "HBox(children=(HTML(value=''), FloatProgress(value=0.0, max=12.0), HTML(value='')))"
            ]
          },
          "metadata": {
            "tags": []
          }
        },
        {
          "output_type": "stream",
          "text": [
            "\n",
            "Значение sMAPE наилучшей модели для целевого признака `final.output.recovery`: 8.7 \n",
            "Количество деревьев: 1\n"
          ],
          "name": "stdout"
        }
      ]
    },
    {
      "cell_type": "markdown",
      "metadata": {
        "id": "RpKmNj44CkXS"
      },
      "source": [
        "#### Итоговое значение sMAPE модели Дерева решений"
      ]
    },
    {
      "cell_type": "code",
      "metadata": {
        "id": "9MFGbcdZCkXS",
        "outputId": "1e765e4f-929e-447f-cc2a-e72075e071a1"
      },
      "source": [
        "fin_score_dtf = fin_smape2(best_result_r,best_result_f)\n",
        "print('Итоговое значение sMAPE модели Дерева решений при подборе циклом `for`: ', fin_score_dtf )"
      ],
      "execution_count": null,
      "outputs": [
        {
          "output_type": "stream",
          "text": [
            "Итоговое значение sMAPE модели Дерева решений при подборе циклом `for`:  8.19\n"
          ],
          "name": "stdout"
        }
      ]
    },
    {
      "cell_type": "markdown",
      "metadata": {
        "id": "-uHrtUI2CkXS"
      },
      "source": [
        "### Подберём параметры для модели Дерева решений при помощи `GridSearchCV`"
      ]
    },
    {
      "cell_type": "markdown",
      "metadata": {
        "id": "537Kb60ECkXT"
      },
      "source": [
        "#### rougher.output.recovery"
      ]
    },
    {
      "cell_type": "code",
      "metadata": {
        "scrolled": true,
        "id": "XXqEABBPCkXT",
        "outputId": "2f868b8d-4a44-47f2-9a26-30585b48e5e7"
      },
      "source": [
        "parametrs_r = { 'max_depth': range (1,13) }\n",
        "model_d = DecisionTreeRegressor(random_state=12345)  \n",
        "grid_r = GridSearchCV(model_d, parametrs_r, cv=5, scoring=make_scorer(sMAPE, greater_is_better=True))\n",
        "grid_r.fit(dt_train_features, dt_train_target_r)\n",
        "best_score_r = -1*grid_r.best_score_\n",
        "parametrs_r_gs = pd.Series(grid_r.best_params_)[0]\n",
        "print('Для целевого признака `rougher.output.recovery` значение sMAPE равно: {:.2f}'.format(best_score_r), '\\nМаксимальная глубина:',parametrs_r_gs)\n"
      ],
      "execution_count": null,
      "outputs": [
        {
          "output_type": "stream",
          "text": [
            "Для целевого признака `rougher.output.recovery` значение sMAPE равно: 6.65 \n",
            "Максимальная глубина: 4\n"
          ],
          "name": "stdout"
        }
      ]
    },
    {
      "cell_type": "markdown",
      "metadata": {
        "id": "bWlFKeKpCkXT"
      },
      "source": [
        "#### final.output.recovery"
      ]
    },
    {
      "cell_type": "code",
      "metadata": {
        "scrolled": false,
        "id": "4Fm2cdfWCkXT",
        "outputId": "116aaa4a-c53b-493d-d793-c6d34b3adfd4"
      },
      "source": [
        "\n",
        "parametrs_f = {'max_depth': range (1,13)}\n",
        "model_df = DecisionTreeRegressor(random_state=12345)         \n",
        "grid_r = GridSearchCV(model_df, parametrs_f, cv=5, scoring=make_scorer(sMAPE, greater_is_better=True))\n",
        "grid_r.fit(dt_train_features, dt_train_target_f)\n",
        "parametrs_f_gs=pd.Series(grid_r.best_params_)[0]\n",
        "best_score_f = -1*grid_r.best_score_\n",
        "print('Для целевого признака `final.output.recovery` значение sMAPE равно: {:.2f}'.format(best_score_f), '\\nМаксимальная глубина:',parametrs_f_gs)\n"
      ],
      "execution_count": null,
      "outputs": [
        {
          "output_type": "stream",
          "text": [
            "Для целевого признака `final.output.recovery` значение sMAPE равно: 8.70 \n",
            "Максимальная глубина: 1\n"
          ],
          "name": "stdout"
        }
      ]
    },
    {
      "cell_type": "markdown",
      "metadata": {
        "id": "UIAWqdcECkXT"
      },
      "source": [
        "#### Итоговое значение sMAPE модели Дерева решений"
      ]
    },
    {
      "cell_type": "code",
      "metadata": {
        "id": "XtOwNPHeCkXU",
        "outputId": "32f93eb1-54d9-43bf-c574-cb12b1720543"
      },
      "source": [
        "fin_score_dt= fin_smape2(best_score_r,best_score_f)\n",
        "print('Итоговое значение sMAPE модели Дерева решений при подборе параметров методом GridSearchCV: ',fin_score_dt) "
      ],
      "execution_count": null,
      "outputs": [
        {
          "output_type": "stream",
          "text": [
            "Итоговое значение sMAPE модели Дерева решений при подборе параметров методом GridSearchCV:  8.18\n"
          ],
          "name": "stdout"
        }
      ]
    },
    {
      "cell_type": "markdown",
      "metadata": {
        "id": "BD4YiKrVCkXU"
      },
      "source": [
        "---"
      ]
    },
    {
      "cell_type": "markdown",
      "metadata": {
        "id": "tHVjG_GGCkXU"
      },
      "source": [
        "## Cлучайный лес регрессии"
      ]
    },
    {
      "cell_type": "code",
      "metadata": {
        "id": "Iqi2QGh4CkXU"
      },
      "source": [
        "from sklearn.ensemble import RandomForestRegressor\n",
        "import warnings\n",
        "warnings.filterwarnings('ignore')"
      ],
      "execution_count": null,
      "outputs": []
    },
    {
      "cell_type": "markdown",
      "metadata": {
        "id": "CzI12z73CkXU"
      },
      "source": [
        "### Оценим модель методом кросс-валидации при помощи нашей функции"
      ]
    },
    {
      "cell_type": "code",
      "metadata": {
        "scrolled": true,
        "id": "354ZFKbtCkXV",
        "outputId": "cc5fc797-6fd5-48fc-aad9-1c636d6716e4"
      },
      "source": [
        "cross_validat(RandomForestRegressor(random_state=12345))"
      ],
      "execution_count": null,
      "outputs": [
        {
          "output_type": "stream",
          "text": [
            "Cреднее значение sMAPE для `rougher`:  6.54\n",
            "Cреднее значение sMAPE для `final`:  8.61\n",
            "Итоговое sMAPE модели на кросс-валидации:  8.09\n"
          ],
          "name": "stdout"
        }
      ]
    },
    {
      "cell_type": "markdown",
      "metadata": {
        "id": "gcJFVRbHCkXV"
      },
      "source": [
        "### Подберём параметры для модели Случайный лес при помощи `GridSearchCV`"
      ]
    },
    {
      "cell_type": "markdown",
      "metadata": {
        "id": "_p7LeAnsCkXV"
      },
      "source": [
        "#### rougher.output.recovery"
      ]
    },
    {
      "cell_type": "code",
      "metadata": {
        "id": "HulDmNdqCkXV"
      },
      "source": [
        "parametrs = { 'n_estimators': range (1, 10, 2),\n",
        "              'max_depth': range (1, 13, 2)}"
      ],
      "execution_count": null,
      "outputs": []
    },
    {
      "cell_type": "code",
      "metadata": {
        "scrolled": true,
        "id": "OFFgp5JECkXW",
        "outputId": "d40d8cb8-14d6-492a-fb71-abf11728c650"
      },
      "source": [
        "model_rf = RandomForestRegressor(random_state=12345)\n",
        "grid_rf = GridSearchCV(model_rf, parametrs, cv=5, scoring=make_scorer(sMAPE, greater_is_better=True))\n",
        "grid_rf.fit(dt_train_features, dt_train_target_r)\n",
        "\n",
        "best_score_rf = -1*grid_rf.best_score_\n",
        "\n",
        "parametrs_r_gs_d=pd.Series(grid_rf.best_params_)[0]\n",
        "parametrs_r_gs_n=pd.Series(grid_rf.best_params_)[1]\n",
        "print('Для целевого признака `rougher.output.recovery` значение sMAPE равно: {:.2f}'. format(best_score_rf), '\\nМаксимальная глубина:',parametrs_r_gs_d, '\\nКоличество деревьев:',parametrs_r_gs_n)"
      ],
      "execution_count": null,
      "outputs": [
        {
          "output_type": "stream",
          "text": [
            "Для целевого признака `rougher.output.recovery` значение sMAPE равно: 6.18 \n",
            "Максимальная глубина: 5 \n",
            "Количество деревьев: 9\n"
          ],
          "name": "stdout"
        }
      ]
    },
    {
      "cell_type": "markdown",
      "metadata": {
        "id": "KXsCalM8CkXW"
      },
      "source": [
        "#### final.output.recovery"
      ]
    },
    {
      "cell_type": "code",
      "metadata": {
        "id": "ELIitc2CCkXW",
        "outputId": "a138d06a-8f7e-4c70-8129-f779f4fe4086"
      },
      "source": [
        "model_rff = RandomForestRegressor(random_state=12345)\n",
        "grid_rff = GridSearchCV(model_rff, parametrs, cv=5, scoring=make_scorer(sMAPE, greater_is_better=True))\n",
        "grid_rff.fit(dt_train_features, dt_train_target_f)\n",
        "result_gs_f= -1*grid_rff.best_score_\n",
        "\n",
        "parametrs_f_gs_d=pd.Series(grid_rff.best_params_)[0]\n",
        "parametrs_f_gs_n=pd.Series(grid_rff.best_params_)[1]\n",
        "print('Для целевого признака `final.output.recovery` значение sMAPE равно: {:.2f}'.format(result_gs_f), '\\nМаксимальная глубина:',parametrs_f_gs_d, '\\nКоличество деревьев:',parametrs_f_gs_n)"
      ],
      "execution_count": null,
      "outputs": [
        {
          "output_type": "stream",
          "text": [
            "Для целевого признака `final.output.recovery` значение sMAPE равно: 8.20 \n",
            "Максимальная глубина: 5 \n",
            "Количество деревьев: 9\n"
          ],
          "name": "stdout"
        }
      ]
    },
    {
      "cell_type": "code",
      "metadata": {
        "id": "6BkdDlPyCkXW",
        "outputId": "f189f164-6628-4c3a-8b6b-4b81d04be4b0"
      },
      "source": [
        "fin_score_rf= fin_smape2(best_score_rf,result_gs_f)\n",
        "print('Итоговое значение sMAPE модели Дерева решений при подборе параметров методом GridSearchCV: ',fin_score_rf) "
      ],
      "execution_count": null,
      "outputs": [
        {
          "output_type": "stream",
          "text": [
            "Итоговое значение sMAPE модели Дерева решений при подборе параметров методом GridSearchCV:  7.69\n"
          ],
          "name": "stdout"
        }
      ]
    },
    {
      "cell_type": "markdown",
      "metadata": {
        "id": "VfxCnia8CkXX"
      },
      "source": [
        "### Подберём параметры для модели Случайный лес при помощи цикла `for`"
      ]
    },
    {
      "cell_type": "markdown",
      "metadata": {
        "id": "yHKTO9-WCkXX"
      },
      "source": [
        "#### rougher.output.recovery"
      ]
    },
    {
      "cell_type": "code",
      "metadata": {
        "colab": {
          "referenced_widgets": [
            "60ff002a1f1242eaae195437fd5770fa",
            ""
          ]
        },
        "id": "KPwMhOu1CkXX",
        "outputId": "4000f259-71e0-4685-bc25-1d08c5dfeef8"
      },
      "source": [
        "best_model = None\n",
        "best_result_r = 100\n",
        "best_est_r = 0\n",
        "best_depth_r = 0\n",
        "for est in tqdm(range(1,10, 2)):\n",
        "    for depth in tqdm(range (1,13,2), desc='depth loop', leave=False):\n",
        "        model_rf = RandomForestRegressor(random_state=12345, n_estimators=est, max_depth=depth)\n",
        "\n",
        "        result_rf = -1*cross_val_score(model_rf,dt_train_features,dt_train_target_r, cv=5, scoring=make_scorer(sMAPE, greater_is_better=True)).mean()\n",
        "     \n",
        "\n",
        "        if result_rf < best_result_r:\n",
        "            best_model = model_rf\n",
        "            best_result_r = result_rf\n",
        "            best_est_r = est\n",
        "            best_depth_r = depth\n",
        "\n",
        "print(\"Значение sMAPE наилучшей модели для целевого признака `rougher.output.recovery`:\", best_result_r.round(2), \"\\nКоличество деревьев:\", best_est_r, \"\\nМаксимальная глубина:\", best_depth_r)"
      ],
      "execution_count": null,
      "outputs": [
        {
          "output_type": "display_data",
          "data": {
            "application/vnd.jupyter.widget-view+json": {
              "model_id": "60ff002a1f1242eaae195437fd5770fa",
              "version_major": 2,
              "version_minor": 0
            },
            "text/plain": [
              "HBox(children=(HTML(value=''), FloatProgress(value=0.0, max=5.0), HTML(value='')))"
            ]
          },
          "metadata": {
            "tags": []
          }
        },
        {
          "output_type": "display_data",
          "data": {
            "application/vnd.jupyter.widget-view+json": {
              "model_id": "",
              "version_major": 2,
              "version_minor": 0
            },
            "text/plain": [
              "HBox(children=(HTML(value='depth loop'), FloatProgress(value=0.0, max=6.0), HTML(value='')))"
            ]
          },
          "metadata": {
            "tags": []
          }
        },
        {
          "output_type": "display_data",
          "data": {
            "application/vnd.jupyter.widget-view+json": {
              "model_id": "",
              "version_major": 2,
              "version_minor": 0
            },
            "text/plain": [
              "HBox(children=(HTML(value='depth loop'), FloatProgress(value=0.0, max=6.0), HTML(value='')))"
            ]
          },
          "metadata": {
            "tags": []
          }
        },
        {
          "output_type": "display_data",
          "data": {
            "application/vnd.jupyter.widget-view+json": {
              "model_id": "",
              "version_major": 2,
              "version_minor": 0
            },
            "text/plain": [
              "HBox(children=(HTML(value='depth loop'), FloatProgress(value=0.0, max=6.0), HTML(value='')))"
            ]
          },
          "metadata": {
            "tags": []
          }
        },
        {
          "output_type": "display_data",
          "data": {
            "application/vnd.jupyter.widget-view+json": {
              "model_id": "",
              "version_major": 2,
              "version_minor": 0
            },
            "text/plain": [
              "HBox(children=(HTML(value='depth loop'), FloatProgress(value=0.0, max=6.0), HTML(value='')))"
            ]
          },
          "metadata": {
            "tags": []
          }
        },
        {
          "output_type": "display_data",
          "data": {
            "application/vnd.jupyter.widget-view+json": {
              "model_id": "",
              "version_major": 2,
              "version_minor": 0
            },
            "text/plain": [
              "HBox(children=(HTML(value='depth loop'), FloatProgress(value=0.0, max=6.0), HTML(value='')))"
            ]
          },
          "metadata": {
            "tags": []
          }
        },
        {
          "output_type": "stream",
          "text": [
            "\n",
            "Значение sMAPE наилучшей модели для целевого признака `rougher.output.recovery`: 6.18 \n",
            "Количество деревьев: 9 \n",
            "Максимальная глубина: 5\n"
          ],
          "name": "stdout"
        }
      ]
    },
    {
      "cell_type": "markdown",
      "metadata": {
        "id": "laaPbg_SCkXX"
      },
      "source": [
        "#### final.output.recovery"
      ]
    },
    {
      "cell_type": "code",
      "metadata": {
        "scrolled": true,
        "colab": {
          "referenced_widgets": [
            "e6f7836b83cf49a5bbfa12fbfd069cbf",
            ""
          ]
        },
        "id": "xnBtU0o_CkXX",
        "outputId": "fbd5ea7c-154b-446c-f7b5-55ed48016a50"
      },
      "source": [
        "best_model = None\n",
        "best_result_f = 100\n",
        "best_est_f = 0\n",
        "best_depth_f = 0\n",
        "for est in tqdm(range(1,10, 2)):\n",
        "    for depth in tqdm(range (1,13, 2), desc='depth loop', leave=False):\n",
        "        model_rff = RandomForestRegressor(random_state=12345, n_estimators=est, max_depth=depth)\n",
        "    \n",
        "        result_rf = -1*cross_val_score(model_rff,dt_train_features,dt_train_target_f, cv=5, scoring=make_scorer(sMAPE, greater_is_better=True)).mean() \n",
        "        if result_rf < best_result_f:\n",
        "            best_model = model_rff\n",
        "            best_result_f = result_rf\n",
        "            best_est_f = est\n",
        "            best_depth_f = depth\n",
        "\n",
        "print(\"Значение sMAPE наилучшей модели для целевого признака `final.output.recovery`:\", best_result_f.round(2), \"\\nКоличество деревьев:\", best_est_f, \"\\nМаксимальная глубина:\", best_depth_f)"
      ],
      "execution_count": null,
      "outputs": [
        {
          "output_type": "display_data",
          "data": {
            "application/vnd.jupyter.widget-view+json": {
              "model_id": "e6f7836b83cf49a5bbfa12fbfd069cbf",
              "version_major": 2,
              "version_minor": 0
            },
            "text/plain": [
              "HBox(children=(HTML(value=''), FloatProgress(value=0.0, max=5.0), HTML(value='')))"
            ]
          },
          "metadata": {
            "tags": []
          }
        },
        {
          "output_type": "display_data",
          "data": {
            "application/vnd.jupyter.widget-view+json": {
              "model_id": "",
              "version_major": 2,
              "version_minor": 0
            },
            "text/plain": [
              "HBox(children=(HTML(value='depth loop'), FloatProgress(value=0.0, max=6.0), HTML(value='')))"
            ]
          },
          "metadata": {
            "tags": []
          }
        },
        {
          "output_type": "display_data",
          "data": {
            "application/vnd.jupyter.widget-view+json": {
              "model_id": "",
              "version_major": 2,
              "version_minor": 0
            },
            "text/plain": [
              "HBox(children=(HTML(value='depth loop'), FloatProgress(value=0.0, max=6.0), HTML(value='')))"
            ]
          },
          "metadata": {
            "tags": []
          }
        },
        {
          "output_type": "display_data",
          "data": {
            "application/vnd.jupyter.widget-view+json": {
              "model_id": "",
              "version_major": 2,
              "version_minor": 0
            },
            "text/plain": [
              "HBox(children=(HTML(value='depth loop'), FloatProgress(value=0.0, max=6.0), HTML(value='')))"
            ]
          },
          "metadata": {
            "tags": []
          }
        },
        {
          "output_type": "display_data",
          "data": {
            "application/vnd.jupyter.widget-view+json": {
              "model_id": "",
              "version_major": 2,
              "version_minor": 0
            },
            "text/plain": [
              "HBox(children=(HTML(value='depth loop'), FloatProgress(value=0.0, max=6.0), HTML(value='')))"
            ]
          },
          "metadata": {
            "tags": []
          }
        },
        {
          "output_type": "display_data",
          "data": {
            "application/vnd.jupyter.widget-view+json": {
              "model_id": "",
              "version_major": 2,
              "version_minor": 0
            },
            "text/plain": [
              "HBox(children=(HTML(value='depth loop'), FloatProgress(value=0.0, max=6.0), HTML(value='')))"
            ]
          },
          "metadata": {
            "tags": []
          }
        },
        {
          "output_type": "stream",
          "text": [
            "\n",
            "Значение sMAPE наилучшей модели для целевого признака `final.output.recovery`: 8.2 \n",
            "Количество деревьев: 9 \n",
            "Максимальная глубина: 5\n"
          ],
          "name": "stdout"
        }
      ]
    },
    {
      "cell_type": "code",
      "metadata": {
        "id": "CK_0NEA_CkXX",
        "outputId": "a82baf43-8edd-4296-c5bd-3588dd76977c"
      },
      "source": [
        "fin_score_rff =fin_smape2(best_result_r,best_result_f)\n",
        "print('Итоговое значение sMAPE модели Случайный лес при подборе циклом `for`: ',fin_score_rff.round(2)) "
      ],
      "execution_count": null,
      "outputs": [
        {
          "output_type": "stream",
          "text": [
            "Итоговое значение sMAPE модели Случайный лес при подборе циклом `for`:  7.69\n"
          ],
          "name": "stdout"
        }
      ]
    },
    {
      "cell_type": "markdown",
      "metadata": {
        "id": "cJ1oBvOlCkXY"
      },
      "source": [
        "-----"
      ]
    },
    {
      "cell_type": "markdown",
      "metadata": {
        "id": "34Xct_8vCkXY"
      },
      "source": [
        "## Линейная регрессия"
      ]
    },
    {
      "cell_type": "code",
      "metadata": {
        "id": "PLKsrvBlCkXY"
      },
      "source": [
        "from sklearn.linear_model import LinearRegression"
      ],
      "execution_count": null,
      "outputs": []
    },
    {
      "cell_type": "markdown",
      "metadata": {
        "id": "GGnHzxtZCkXY"
      },
      "source": [
        "### Оценим модель методом кросс-валидации при помощи нашей функции"
      ]
    },
    {
      "cell_type": "code",
      "metadata": {
        "scrolled": true,
        "id": "RJcEfJ6BCkXZ",
        "outputId": "4eba08db-21b1-4166-f763-1409bbf22bce"
      },
      "source": [
        "cross_validat(LinearRegression())"
      ],
      "execution_count": null,
      "outputs": [
        {
          "output_type": "stream",
          "text": [
            "Cреднее значение sMAPE для `rougher`:  6.66\n",
            "Cреднее значение sMAPE для `final`:  9.88\n",
            "Итоговое sMAPE модели на кросс-валидации:  9.07\n"
          ],
          "name": "stdout"
        }
      ]
    },
    {
      "cell_type": "markdown",
      "metadata": {
        "id": "9sS_G7RlCkXZ"
      },
      "source": [
        "### Подберём параметры для модели Линейная регрессия при помощи `GridSearchCV`"
      ]
    },
    {
      "cell_type": "markdown",
      "metadata": {
        "id": "iwsxEmBxCkXZ"
      },
      "source": [
        "#### rougher.output.recovery"
      ]
    },
    {
      "cell_type": "code",
      "metadata": {
        "id": "Zq8nJryhCkXZ"
      },
      "source": [
        "parametrs = { 'fit_intercept': [True],\n",
        "              'normalize': [True, False]}"
      ],
      "execution_count": null,
      "outputs": []
    },
    {
      "cell_type": "code",
      "metadata": {
        "id": "1c3hRjLNCkXZ",
        "outputId": "33551e99-cb5b-4892-aca7-c3fb355f679a"
      },
      "source": [
        "model_lr_r = LinearRegression()\n",
        "grid_lr_r = GridSearchCV(model_lr_r, parametrs, cv=5, scoring=make_scorer(sMAPE, greater_is_better=True))\n",
        "grid_lr_r.fit(dt_train_features, dt_train_target_r)\n",
        "\n",
        "fit_intercept_r=pd.Series(grid_lr_r.best_params_)[0]\n",
        "normalize_r=pd.Series(grid_lr_r.best_params_)[1]\n",
        "\n",
        "result_lr_r = -1*grid_lr_r.best_score_\n",
        "print('Для целевого признака `rougher.output.recovery` значение sMAPE равно: {:.2f}'.format(result_lr_r), '\\nfit_intercept:',fit_intercept_r, '\\nnormalize:',normalize_r)"
      ],
      "execution_count": null,
      "outputs": [
        {
          "output_type": "stream",
          "text": [
            "Для целевого признака `rougher.output.recovery` значение sMAPE равно: 6.66 \n",
            "fit_intercept: True \n",
            "normalize: True\n"
          ],
          "name": "stdout"
        }
      ]
    },
    {
      "cell_type": "markdown",
      "metadata": {
        "id": "ck3QAg3SCkXZ"
      },
      "source": [
        "#### final.output.recovery"
      ]
    },
    {
      "cell_type": "code",
      "metadata": {
        "id": "ne5JsVEICkXa",
        "outputId": "2c9516d6-e859-426b-d072-c7bc45025e44"
      },
      "source": [
        "%%time\n",
        "model_lr_f = LinearRegression()\n",
        "grid_lr_f = GridSearchCV(model_lr_f, parametrs, cv=5, scoring=make_scorer(sMAPE, greater_is_better=True))\n",
        "grid_lr_f.fit(dt_train_features, dt_train_target_f)\n",
        "\n",
        "fit_intercept_f = pd.Series(grid_lr_f.best_params_)[0]\n",
        "normalize_f = pd.Series(grid_lr_f.best_params_)[1]\n",
        "result_lr_f=-1*grid_lr_f.best_score_\n",
        "print('Для целевого признака `rougher.output.recovery` значение sMAPE равно: {:.2f}'.format(result_lr_f), '\\nfit_intercept:',fit_intercept_f, '\\nnormalize:',normalize_f)"
      ],
      "execution_count": null,
      "outputs": [
        {
          "output_type": "stream",
          "text": [
            "Для целевого признака `rougher.output.recovery` значение sMAPE равно: 9.88 \n",
            "fit_intercept: True \n",
            "normalize: True\n",
            "Wall time: 234 ms\n"
          ],
          "name": "stdout"
        }
      ]
    },
    {
      "cell_type": "code",
      "metadata": {
        "scrolled": true,
        "id": "9IpDGXZ6CkXa",
        "outputId": "7cee069d-df97-42bb-8ceb-88e75e08a74c"
      },
      "source": [
        "fin_score_lr= fin_smape2(result_lr_r,result_lr_f)\n",
        "print('Итоговое значение sMAPE модели Линейная регрессия: ',fin_score_lr) "
      ],
      "execution_count": null,
      "outputs": [
        {
          "output_type": "stream",
          "text": [
            "Итоговое значение sMAPE модели Линейная регрессия:  9.07\n"
          ],
          "name": "stdout"
        }
      ]
    },
    {
      "cell_type": "markdown",
      "metadata": {
        "id": "YqQDgimqCkXa"
      },
      "source": [
        "___"
      ]
    },
    {
      "cell_type": "markdown",
      "metadata": {
        "id": "AowyqkRJCkXa"
      },
      "source": [
        "### Сведём все показатели по итоговому значению показателя `sMAPE` наших моделей на разных алгоритмах и подборах параметров в одну таблицу"
      ]
    },
    {
      "cell_type": "code",
      "metadata": {
        "id": "TYAQ81pTCkXa",
        "outputId": "281acd51-926b-45e3-c887-8e633dd50d79"
      },
      "source": [
        "column=['Подбор гиперпараметров циклом \"for\"','Подбор гиперпараметров \"GridSearchCV\"','Значение sMAPE на кросс-валидации без подбора гиперпараметров']\n",
        "\n",
        "comparison_tabl = pd.DataFrame(index=['Дерево решений','Случайный лес','Линейная регрессия','Константная модель'], columns=['Подбор гиперпараметров циклом \"for\"','Подбор гиперпараметров \"GridSearchCV\"','Значение sMAPE на кросс-валидации без подбора гиперпараметров'])\n",
        "comparison_tabl['Подбор гиперпараметров циклом \"for\"'] = fin_score_dtf,fin_score_rff,None,const_model_smape\n",
        "comparison_tabl['Подбор гиперпараметров \"GridSearchCV\"'] = fin_score_dt, fin_score_rf,fin_score_lr,const_model_smape\n",
        "comparison_tabl['Значение sMAPE на кросс-валидации без подбора гиперпараметров'] = 13.63,8.76,9.07,9.03\n",
        "\n",
        "comparison_tabl.style.highlight_min(color='yellowgreen',subset=column).highlight_null(null_color='lightgrey').highlight_max(color='coral',subset=column)"
      ],
      "execution_count": null,
      "outputs": [
        {
          "output_type": "execute_result",
          "data": {
            "text/html": [
              "<div>\n",
              "<style scoped>\n",
              "    .dataframe tbody tr th:only-of-type {\n",
              "        vertical-align: middle;\n",
              "    }\n",
              "\n",
              "    .dataframe tbody tr th {\n",
              "        vertical-align: top;\n",
              "    }\n",
              "\n",
              "    .dataframe thead th {\n",
              "        text-align: right;\n",
              "    }\n",
              "</style>\n",
              "<table border=\"1\" class=\"dataframe\">\n",
              "  <thead>\n",
              "    <tr style=\"text-align: right;\">\n",
              "      <th></th>\n",
              "      <th>Подбор гиперпараметров циклом \"for\"</th>\n",
              "      <th>Подбор гиперпараметров \"GridSearchCV\"</th>\n",
              "      <th>Значение sMAPE на кросс-валидации без подбора гиперпараметров</th>\n",
              "    </tr>\n",
              "  </thead>\n",
              "  <tbody>\n",
              "    <tr>\n",
              "      <th>Дерево решений</th>\n",
              "      <td>8.19</td>\n",
              "      <td>8.18</td>\n",
              "      <td>13.63</td>\n",
              "    </tr>\n",
              "    <tr>\n",
              "      <th>Случайный лес</th>\n",
              "      <td>7.69</td>\n",
              "      <td>7.69</td>\n",
              "      <td>8.76</td>\n",
              "    </tr>\n",
              "    <tr>\n",
              "      <th>Линейная регрессия</th>\n",
              "      <td>None</td>\n",
              "      <td>7.03</td>\n",
              "      <td>9.07</td>\n",
              "    </tr>\n",
              "    <tr>\n",
              "      <th>Константная модель</th>\n",
              "      <td>9.03</td>\n",
              "      <td>9.03</td>\n",
              "      <td>9.03</td>\n",
              "    </tr>\n",
              "  </tbody>\n",
              "</table>\n",
              "</div>"
            ],
            "text/plain": [
              "                   Подбор гиперпараметров циклом \"for\"  \\\n",
              "Дерево решений                                    8.19   \n",
              "Случайный лес                                     7.69   \n",
              "Линейная регрессия                                None   \n",
              "Константная модель                                9.03   \n",
              "\n",
              "                    Подбор гиперпараметров \"GridSearchCV\"  \\\n",
              "Дерево решений                                       8.18   \n",
              "Случайный лес                                        7.69   \n",
              "Линейная регрессия                                   7.03   \n",
              "Константная модель                                   9.03   \n",
              "\n",
              "                    Значение sMAPE на кросс-валидации без подбора гиперпараметров  \n",
              "Дерево решений                                                  13.63              \n",
              "Случайный лес                                                    8.76              \n",
              "Линейная регрессия                                               9.07              \n",
              "Константная модель                                               9.03              "
            ]
          },
          "metadata": {
            "tags": []
          },
          "execution_count": 134
        }
      ]
    },
    {
      "cell_type": "markdown",
      "metadata": {
        "id": "EGgEt-PSCkXa"
      },
      "source": [
        "-----"
      ]
    },
    {
      "cell_type": "markdown",
      "metadata": {
        "id": "VMnwmk-PCkXb"
      },
      "source": [
        "<a id=\"step_3.2\"></a>\n",
        "## Выберем лучшую модель и проверим её на тестовой выборке"
      ]
    },
    {
      "cell_type": "markdown",
      "metadata": {
        "id": "2EMr41u5CkXb"
      },
      "source": [
        "Т.к. модель `Случайный лес` показала наилудшие показатели значения **sMAPE** при подборе гиперпараметров и оценке её методом кросс-валидации, предсказания и проверку на тестовой выборке будем строить на ней. Так же мы рассмотрим вторую по показателям расчёта гиперпапарметров модель - `Линейная регрессия`, у неёпоказатели оценки модели на кросс-валидации не на много отстают от модели `Случайный лес`."
      ]
    },
    {
      "cell_type": "markdown",
      "metadata": {
        "id": "0WzeCIN5CkXb"
      },
      "source": [
        "### Линейная регрессия"
      ]
    },
    {
      "cell_type": "markdown",
      "metadata": {
        "id": "QQeyccWYCkXb"
      },
      "source": [
        "#### rougher.output.recovery"
      ]
    },
    {
      "cell_type": "code",
      "metadata": {
        "id": "0Ml6DeA4CkXb",
        "outputId": "e140bf58-fab2-40b2-cfe7-8823652b014b"
      },
      "source": [
        "model_lr_r = LinearRegression(fit_intercept=fit_intercept_r, normalize=normalize_r)\n",
        "model_lr_r.fit(dt_train_features, dt_train_target_r)\n",
        "pred_lr_r= model_lr_r.predict(dt_test_features)\n",
        "result_lr_r = -1*sMAPE(dt_test_target_r,pred_lr_r)\n",
        "result_lr_r"
      ],
      "execution_count": null,
      "outputs": [
        {
          "output_type": "execute_result",
          "data": {
            "text/plain": [
              "4.82"
            ]
          },
          "metadata": {
            "tags": []
          },
          "execution_count": 135
        }
      ]
    },
    {
      "cell_type": "code",
      "metadata": {
        "id": "Bxwmy5szCkXc",
        "outputId": "bc7d482c-a008-4c9c-8db9-10d2c91c3936"
      },
      "source": [
        "plt.figure(figsize=(11,5))\n",
        "pd.Series(pred_lr_r).plot(kind='hist', bins=range(55,100))\n",
        "pd.Series(dt_test_target_r).plot(kind='hist', bins=range(55,100), alpha= 0.7)\n",
        "plt.legend(['Предсказания','Цели'])\n",
        "plt.title('Распределение значений предсказание/цель')\n",
        "plt.xlabel('Значение')\n",
        "plt.ylabel('Количество')\n",
        "plt.show()"
      ],
      "execution_count": null,
      "outputs": [
        {
          "output_type": "display_data",
          "data": {
            "image/png": "[encoded data removed]",
            "text/plain": [
              "<Figure size 792x360 with 1 Axes>"
            ]
          },
          "metadata": {
            "tags": []
          }
        }
      ]
    },
    {
      "cell_type": "code",
      "metadata": {
        "scrolled": false,
        "id": "6HZxhpS5CkXc",
        "outputId": "cc86292b-42f6-4bf6-fc58-32e1b4633e55"
      },
      "source": [
        "plt.figure(figsize=(8,8))\n",
        "t=pd.Series(dt_test_target_r)#.sort_values(ascending=True)\n",
        "p=pd.Series(pred_lr_r,index=dt_test_target_r.index)\n",
        "plt.plot(t,p,'o')\n",
        "plt.plot([60,100],[60,100],linestyle='-')\n",
        "plt.xlim(60,100)\n",
        "plt.ylim(60,100)\n",
        "plt.title('График значений истиные/предсказанные')\n",
        "plt.xlabel('Истинные значения целевого признака')\n",
        "plt.ylabel('Предсказанные значения')\n",
        "plt.show()"
      ],
      "execution_count": null,
      "outputs": [
        {
          "output_type": "display_data",
          "data": {
            "image/png": "[encoded data removed]",
            "text/plain": [
              "<Figure size 576x576 with 1 Axes>"
            ]
          },
          "metadata": {
            "tags": []
          }
        }
      ]
    },
    {
      "cell_type": "markdown",
      "metadata": {
        "id": "808f9fRWCkXc"
      },
      "source": [
        "#### final.output.recovery"
      ]
    },
    {
      "cell_type": "code",
      "metadata": {
        "scrolled": false,
        "id": "lUmbvdFjCkXc",
        "outputId": "149d599c-d6e3-493a-8c73-48b1e11b2c2a"
      },
      "source": [
        "model_lr_f = LinearRegression(fit_intercept=fit_intercept_f, normalize=normalize_f)\n",
        "model_lr_f.fit(dt_train_features, dt_train_target_f)\n",
        "pred_lr_f = model_lr_f.predict(dt_test_features)\n",
        "result_lr_f = -1*sMAPE(dt_test_target_f,pred_lr_f)\n",
        "result_lr_f"
      ],
      "execution_count": null,
      "outputs": [
        {
          "output_type": "execute_result",
          "data": {
            "text/plain": [
              "7.77"
            ]
          },
          "metadata": {
            "tags": []
          },
          "execution_count": 138
        }
      ]
    },
    {
      "cell_type": "code",
      "metadata": {
        "scrolled": true,
        "id": "cAiRr_CaCkXc",
        "outputId": "19d4ecde-30f9-4c17-c24f-29aaadab1ca0"
      },
      "source": [
        "plt.figure(figsize=(11,5))\n",
        "pd.Series(pred_lr_f).plot(kind='hist', bins=range(55,100), alpha=1)\n",
        "pd.Series(dt_test_target_f).plot(kind='hist',bins=range(55,100), alpha= 0.7)\n",
        "plt.legend(['Предсказания','Цели'])\n",
        "plt.title('Распределение значений предсказание/цель')\n",
        "plt.xlabel('Значение')\n",
        "plt.ylabel('Количество')\n",
        "plt.show()"
      ],
      "execution_count": null,
      "outputs": [
        {
          "output_type": "display_data",
          "data": {
            "image/png": "[encoded data removed]",
            "text/plain": [
              "<Figure size 792x360 with 1 Axes>"
            ]
          },
          "metadata": {
            "tags": []
          }
        }
      ]
    },
    {
      "cell_type": "code",
      "metadata": {
        "id": "KgAu2o-QCkXd",
        "outputId": "a9527014-29ce-4cf2-b452-1df941970eb2"
      },
      "source": [
        "plt.figure(figsize=(8,8))\n",
        "t=pd.Series(dt_test_target_f) #.sort_values(ascending=True)\n",
        "p=pd.Series(pred_lr_f,index=dt_test_target_f.index)\n",
        "plt.plot(t,p,'o')\n",
        "plt.plot([50,100],[50,100],linestyle='-')\n",
        "plt.xlim(50,100)\n",
        "plt.ylim(50,100)\n",
        "plt.title('График значений истиные/предсказанные')\n",
        "plt.xlabel('Истинные значения целевого признака')\n",
        "plt.ylabel('Предсказанные значения')\n",
        "plt.show()"
      ],
      "execution_count": null,
      "outputs": [
        {
          "output_type": "display_data",
          "data": {
            "image/png": "[encoded data removed]",
            "text/plain": [
              "<Figure size 576x576 with 1 Axes>"
            ]
          },
          "metadata": {
            "tags": []
          }
        }
      ]
    },
    {
      "cell_type": "markdown",
      "metadata": {
        "id": "JjpwxL8zCkXd"
      },
      "source": [
        "### Итоговое значение sMAPE модели Линейная регрессия на тестовой выборке"
      ]
    },
    {
      "cell_type": "code",
      "metadata": {
        "id": "bbQWKKloCkXd",
        "outputId": "fe6f437c-d389-409f-aebf-bbb2d3024da5"
      },
      "source": [
        "fin_score_lr= fin_smape2(result_lr_r,result_lr_f)\n",
        "print('Итоговое значение sMAPE модели Линейная регрессия: ',fin_score_lr) "
      ],
      "execution_count": null,
      "outputs": [
        {
          "output_type": "stream",
          "text": [
            "Итоговое значение sMAPE модели Линейная регрессия:  7.03\n"
          ],
          "name": "stdout"
        }
      ]
    },
    {
      "cell_type": "markdown",
      "metadata": {
        "id": "7X3RFlNPCkXd"
      },
      "source": [
        "----"
      ]
    },
    {
      "cell_type": "markdown",
      "metadata": {
        "id": "xULI6xkQCkXd"
      },
      "source": [
        "### Случайный лес"
      ]
    },
    {
      "cell_type": "markdown",
      "metadata": {
        "id": "DwlBxbGJCkXd"
      },
      "source": [
        "#### rougher.output.recovery"
      ]
    },
    {
      "cell_type": "code",
      "metadata": {
        "id": "3TlTBmubCkXe",
        "outputId": "90f8fecc-faac-4c53-bd19-3d53179ac050"
      },
      "source": [
        "model_rf_test_r = RandomForestRegressor(random_state=12345, n_estimators=best_est_r, max_depth=best_depth_r)\n",
        "model_rf_test_r.fit(dt_train_features, dt_train_target_r) \n",
        "predictions_test_rf_r = model_rf_test_r.predict(dt_test_features)\n",
        "result_rf_test_r = -1*sMAPE(dt_test_target_r,predictions_test_rf_r)\n",
        "result_rf_test_r"
      ],
      "execution_count": null,
      "outputs": [
        {
          "output_type": "execute_result",
          "data": {
            "text/plain": [
              "4.06"
            ]
          },
          "metadata": {
            "tags": []
          },
          "execution_count": 142
        }
      ]
    },
    {
      "cell_type": "code",
      "metadata": {
        "scrolled": true,
        "id": "NXzca7qsCkXe",
        "outputId": "c70bcbc3-ad0e-4ba1-8534-51749acb9c95"
      },
      "source": [
        "plt.figure(figsize=(11,5))\n",
        "pd.Series(predictions_test_rf_r).plot(kind='hist', bins=range(55,100))\n",
        "pd.Series(dt_test_target_r).plot(kind='hist', bins=range(55,100), alpha= 0.7)\n",
        "plt.legend(['Предсказания','Цели'])\n",
        "plt.title('Распределение значений предсказание/цель')\n",
        "plt.xlabel('Значение')\n",
        "plt.ylabel('Количество')\n",
        "plt.show()"
      ],
      "execution_count": null,
      "outputs": [
        {
          "output_type": "display_data",
          "data": {
            "image/png": "[encoded data removed]",
            "text/plain": [
              "<Figure size 792x360 with 1 Axes>"
            ]
          },
          "metadata": {
            "tags": []
          }
        }
      ]
    },
    {
      "cell_type": "markdown",
      "metadata": {
        "id": "o10Lof5eCkXe"
      },
      "source": [
        "#### final.output.recovery"
      ]
    },
    {
      "cell_type": "code",
      "metadata": {
        "id": "cs2SOacYCkXe",
        "outputId": "93cbd77f-b6e2-4b29-ba11-ed33ff1fe098"
      },
      "source": [
        "model_rf_test_f = RandomForestRegressor(random_state=12345, n_estimators=best_est_f, max_depth=best_depth_f)\n",
        "model_rf_test_f.fit(dt_train_features, dt_train_target_f) \n",
        "predictions_test_rf_f = model_rf_test_f.predict(dt_test_features)\n",
        "result_rf_test_f = -1*sMAPE(dt_test_target_f,predictions_test_rf_f)\n",
        "result_rf_test_f"
      ],
      "execution_count": null,
      "outputs": [
        {
          "output_type": "execute_result",
          "data": {
            "text/plain": [
              "8.02"
            ]
          },
          "metadata": {
            "tags": []
          },
          "execution_count": 144
        }
      ]
    },
    {
      "cell_type": "code",
      "metadata": {
        "scrolled": false,
        "id": "rPFe-EAPCkXe",
        "outputId": "fc11379a-8f36-476c-e81d-f7e221969d5e"
      },
      "source": [
        "plt.figure(figsize=(11,5))\n",
        "pd.Series(predictions_test_rf_f).plot(kind='hist', bins=range(55,100), alpha=1)\n",
        "pd.Series(dt_test_target_f).plot(kind='hist', bins=range(55,100), alpha= 0.7)\n",
        "plt.legend(['Предсказания','Цели'])\n",
        "plt.title('Распределение значений предсказание/цель')\n",
        "plt.xlabel('Значение')\n",
        "plt.ylabel('Количество')\n",
        "plt.show()"
      ],
      "execution_count": null,
      "outputs": [
        {
          "output_type": "display_data",
          "data": {
            "image/png": "[encoded data removed]",
            "text/plain": [
              "<Figure size 792x360 with 1 Axes>"
            ]
          },
          "metadata": {
            "tags": []
          }
        }
      ]
    },
    {
      "cell_type": "markdown",
      "metadata": {
        "id": "6Yvn41YJCkXf"
      },
      "source": [
        "### Итоговое значение sMAPE модели Случайный лес на тестовой выборке"
      ]
    },
    {
      "cell_type": "code",
      "metadata": {
        "id": "R2saQQhcCkXf",
        "outputId": "84f03efe-2ed9-400e-9d56-bea4126ba91c"
      },
      "source": [
        "fin_score_test_rf = fin_smape2(result_rf_test_r, result_rf_test_f)\n",
        "print('Итоговое значение sMAPE модели Случайный лес: ', fin_score_test_rf) "
      ],
      "execution_count": null,
      "outputs": [
        {
          "output_type": "stream",
          "text": [
            "Итоговое значение sMAPE модели Случайный лес:  7.03\n"
          ],
          "name": "stdout"
        }
      ]
    },
    {
      "cell_type": "markdown",
      "metadata": {
        "id": "UqNbeu1SCkXf"
      },
      "source": [
        "---"
      ]
    },
    {
      "cell_type": "markdown",
      "metadata": {
        "id": "GpUV9I9uCkXf"
      },
      "source": [
        "### Проверим результат при помощи Константной модели"
      ]
    },
    {
      "cell_type": "markdown",
      "metadata": {
        "id": "Wb4xqnXOCkXf"
      },
      "source": [
        "### Константная модель"
      ]
    },
    {
      "cell_type": "code",
      "metadata": {
        "id": "iAtRPSERCkXf",
        "outputId": "e86d6d69-bbda-489e-d9f7-3d1aff2cd0f6"
      },
      "source": [
        "predict_const_model_rt = model_const_r.predict(dt_test_features)\n",
        "result_lr_const_rt = -1*sMAPE(dt_test_target_r,predict_const_model_rt)\n",
        "result_lr_const_rt"
      ],
      "execution_count": null,
      "outputs": [
        {
          "output_type": "execute_result",
          "data": {
            "text/plain": [
              "4.4"
            ]
          },
          "metadata": {
            "tags": []
          },
          "execution_count": 147
        }
      ]
    },
    {
      "cell_type": "code",
      "metadata": {
        "id": "eF-rl2jmCkXf",
        "outputId": "ad4c0d41-d8f5-4b6f-b9c7-11b15e6f3c45"
      },
      "source": [
        "plt.figure(figsize=(11,5))\n",
        "pd.Series(predict_const_model_rt).hist(bins=range(55,100))\n",
        "pd.Series(dt_test_target_r).hist(alpha=0.8, bins=range(55,100))\n",
        "plt.title('Распределение значений предсказание/цель')\n",
        "plt.xlabel('Значение')\n",
        "plt.ylabel('Количество')\n",
        "plt.show()"
      ],
      "execution_count": null,
      "outputs": [
        {
          "output_type": "display_data",
          "data": {
            "image/png": "[encoded data removed]",
            "text/plain": [
              "<Figure size 792x360 with 1 Axes>"
            ]
          },
          "metadata": {
            "tags": []
          }
        }
      ]
    },
    {
      "cell_type": "code",
      "metadata": {
        "id": "FdbkIQvsCkXg",
        "outputId": "fd53962c-5af4-4e2f-fa9f-a15a6d0a9040"
      },
      "source": [
        "predict_const_model_ft = model_const_f.predict(dt_test_features)\n",
        "result_lr_const_ft = -1*sMAPE(dt_test_target_f,predict_const_model_ft)\n",
        "result_lr_const_ft"
      ],
      "execution_count": null,
      "outputs": [
        {
          "output_type": "execute_result",
          "data": {
            "text/plain": [
              "7.73"
            ]
          },
          "metadata": {
            "tags": []
          },
          "execution_count": 149
        }
      ]
    },
    {
      "cell_type": "code",
      "metadata": {
        "scrolled": true,
        "id": "98cEmJHBCkXg",
        "outputId": "7c2b807f-0a64-4568-b6ae-e6bf1fec69e9"
      },
      "source": [
        "plt.figure(figsize=(11,5))\n",
        "pd.Series(predict_const_model_ft).hist(bins=range(55,100))\n",
        "pd.Series(dt_test_target_f).hist(alpha=0.8, bins=range(55,100))\n",
        "plt.title('Распределение значений предсказание/цель')\n",
        "plt.xlabel('Значение')\n",
        "plt.ylabel('Количество')\n",
        "plt.show()"
      ],
      "execution_count": null,
      "outputs": [
        {
          "output_type": "display_data",
          "data": {
            "image/png": "[encoded data removed]",
            "text/plain": [
              "<Figure size 792x360 with 1 Axes>"
            ]
          },
          "metadata": {
            "tags": []
          }
        }
      ]
    },
    {
      "cell_type": "markdown",
      "metadata": {
        "id": "kGWcr8iACkXg"
      },
      "source": [
        "### Итоговое значение sMAPE константной модели на тестовой выборке"
      ]
    },
    {
      "cell_type": "code",
      "metadata": {
        "id": "__cDKeqJCkXg",
        "outputId": "b1034623-756a-40a4-f162-ba691e596fe6"
      },
      "source": [
        "const_fin=fin_smape2(result_lr_const_rt,result_lr_const_ft)\n",
        "print('Итоговое значение sMAPE константной модели: ',const_fin) "
      ],
      "execution_count": null,
      "outputs": [
        {
          "output_type": "stream",
          "text": [
            "Итоговое значение sMAPE константной модели:  6.9\n"
          ],
          "name": "stdout"
        }
      ]
    },
    {
      "cell_type": "markdown",
      "metadata": {
        "id": "dRphV3zICkXg"
      },
      "source": [
        "### Для подведения итогового сравнения значений sMAPE на тестовых данных сведём их в таблицу"
      ]
    },
    {
      "cell_type": "code",
      "metadata": {
        "id": "J7CS_1_lCkXh",
        "outputId": "f5e7b49c-11b8-4f67-da9a-45bee5bce2e0"
      },
      "source": [
        "column=['Итоговое значение sMAPE']\n",
        "comparison_tabl = pd.DataFrame(index=['Случайный лес','Линейная регрессия','Константная модель'], columns=['Итоговое значение sMAPE'])\n",
        "comparison_tabl['Итоговое значение sMAPE'] = fin_score_test_rf,fin_score_lr,const_fin\n",
        "\n",
        "comparison_tabl.style.highlight_min(color='yellowgreen',subset=column).highlight_null(null_color='lightgrey').highlight_max(color='coral',subset=column)"
      ],
      "execution_count": null,
      "outputs": [
        {
          "output_type": "execute_result",
          "data": {
            "text/html": [
              "<style  type=\"text/css\" >\n",
              "#T_1f67d6b6_7c31_11eb_a5b5_b42e99b68bf9row0_col0,#T_1f67d6b6_7c31_11eb_a5b5_b42e99b68bf9row1_col0{\n",
              "            background-color:  coral;\n",
              "        }#T_1f67d6b6_7c31_11eb_a5b5_b42e99b68bf9row2_col0{\n",
              "            background-color:  yellowgreen;\n",
              "        }</style><table id=\"T_1f67d6b6_7c31_11eb_a5b5_b42e99b68bf9\" ><thead>    <tr>        <th class=\"blank level0\" ></th>        <th class=\"col_heading level0 col0\" >Итоговое значение sMAPE</th>    </tr></thead><tbody>\n",
              "                <tr>\n",
              "                        <th id=\"T_1f67d6b6_7c31_11eb_a5b5_b42e99b68bf9level0_row0\" class=\"row_heading level0 row0\" >Случайный лес</th>\n",
              "                        <td id=\"T_1f67d6b6_7c31_11eb_a5b5_b42e99b68bf9row0_col0\" class=\"data row0 col0\" >7.030000</td>\n",
              "            </tr>\n",
              "            <tr>\n",
              "                        <th id=\"T_1f67d6b6_7c31_11eb_a5b5_b42e99b68bf9level0_row1\" class=\"row_heading level0 row1\" >Линейная регрессия</th>\n",
              "                        <td id=\"T_1f67d6b6_7c31_11eb_a5b5_b42e99b68bf9row1_col0\" class=\"data row1 col0\" >7.030000</td>\n",
              "            </tr>\n",
              "            <tr>\n",
              "                        <th id=\"T_1f67d6b6_7c31_11eb_a5b5_b42e99b68bf9level0_row2\" class=\"row_heading level0 row2\" >Константная модель</th>\n",
              "                        <td id=\"T_1f67d6b6_7c31_11eb_a5b5_b42e99b68bf9row2_col0\" class=\"data row2 col0\" >6.900000</td>\n",
              "            </tr>\n",
              "    </tbody></table>"
            ],
            "text/plain": [
              "<pandas.io.formats.style.Styler at 0x1f6da9f29d0>"
            ]
          },
          "metadata": {
            "tags": []
          },
          "execution_count": 152
        }
      ]
    },
    {
      "cell_type": "code",
      "metadata": {
        "id": "qglQKvcECkXh",
        "outputId": "60b78b45-2037-46f4-c469-74b07b11462e"
      },
      "source": [
        "print('Отставание в результатах предсказания составляет: {:.2%} от константной модели '. format(abs(6.9/7.03-1)))"
      ],
      "execution_count": null,
      "outputs": [
        {
          "output_type": "stream",
          "text": [
            "Отставание в результатах предсказания составляет: 1.85% от константной модели \n"
          ],
          "name": "stdout"
        }
      ]
    },
    {
      "cell_type": "markdown",
      "metadata": {
        "id": "PDsn4e-xCkXh"
      },
      "source": [
        "<a id=\"step_3.end\"></a>\n",
        "## Вывод"
      ]
    },
    {
      "cell_type": "markdown",
      "metadata": {
        "id": "lTrwq7ifCkXh"
      },
      "source": [
        "Очевидно, что по показателям качества предсказания моделей `Линейная регрессия` и `Случайнй лес` совпадают. При сравнении с константной моделью качество предсказания незначительно отстаёт на значение sMAPE в *0,04*(*1,85%*) , но по плотности распределения значений на графиках видно, что предсказания моделей более качественные, т.к. идёт большее перекрытие значений по спектру возможных значений, в отличии от константной."
      ]
    },
    {
      "cell_type": "markdown",
      "metadata": {
        "id": "QQ1ZGdJTCkXh"
      },
      "source": [
        "---"
      ]
    },
    {
      "cell_type": "markdown",
      "metadata": {
        "id": "Zw25mhmCCkXi"
      },
      "source": [
        "<a href='#start'>Вернуться к оглавлению</a>\n",
        "<a id=\"step_4.end\"></a>\n",
        "# 4. Вывод"
      ]
    },
    {
      "cell_type": "markdown",
      "metadata": {
        "id": "BLJ2fe3rCkXi"
      },
      "source": [
        "   Была проведена большая работа по обработке и анализу данных по результату которых мы выяснили какие данные нам требуется определить в результате обработки данных, а какие данные не должны попадать в обучение модели. К тому же скорректировали и распределение значений во всех выборках выбрав минимальное пороговое значение.<br>\n",
        "   Перед нами стояла не лёгкая задача по определению наилучшей модели, предсказания которой, должны уложиться ниже константной модели, которая в свою очередь предсказвает только одно медианное значение. Для этого мы выбирали модели при помощи `кросс-валидации` и подбирали гиперпараметры двумя способами:<br> - подбором при помощи `GridSearchCV` <br> - и циклом `for` <br>\n",
        "   В результате с незначительным отрывом в *0,04 sMAPE*(*1,85%*),по отношению к двум моделям: `Линейная регрессии` и `Случайный лес`, лидировала `Константной модель`, но по плотности распределения значений на графиках видно, что предсказания наших обученных моделей более качественные, т.к. идёт большее перекрытие правильно угаданных значений."
      ]
    }
  ]
}